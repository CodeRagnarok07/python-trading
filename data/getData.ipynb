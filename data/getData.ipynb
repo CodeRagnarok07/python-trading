{
 "cells": [
  {
   "cell_type": "markdown",
   "metadata": {},
   "source": [
    "De donde obtener la data\n",
    "\n",
    "- yahoo finance\n",
    "- "
   ]
  },
  {
   "cell_type": "markdown",
   "metadata": {},
   "source": [
    "# with Yahoo Finance"
   ]
  },
  {
   "cell_type": "code",
   "execution_count": 1,
   "metadata": {},
   "outputs": [],
   "source": [
    "start = \"2022-01-01\""
   ]
  },
  {
   "cell_type": "code",
   "execution_count": 40,
   "metadata": {},
   "outputs": [
    {
     "name": "stderr",
     "output_type": "stream",
     "text": [
      "[*********************100%%**********************]  1 of 1 completed\n"
     ]
    }
   ],
   "source": [
    "\n",
    "import yfinance as yf\n",
    "symbol = \"AAPL\"\n",
    "data = yf.download(symbol, start=start)"
   ]
  },
  {
   "cell_type": "markdown",
   "metadata": {},
   "source": [
    "# With CCXT"
   ]
  },
  {
   "cell_type": "code",
   "execution_count": 1,
   "metadata": {},
   "outputs": [],
   "source": [
    "import ccxt\n",
    "import pandas as pd\n",
    "from datetime import datetime \n",
    "import time\n"
   ]
  },
  {
   "cell_type": "code",
   "execution_count": 3,
   "metadata": {},
   "outputs": [],
   "source": [
    "symbol = \"BTCUSDT\"\n",
    "ex = ccxt.binance() # https://docs.ccxt.com/#/exchanges/binance?id=fetchohlcv\n",
    "timeframe = \"5m\""
   ]
  },
  {
   "cell_type": "code",
   "execution_count": 7,
   "metadata": {},
   "outputs": [],
   "source": [
    "\n",
    "# simple fetch only 1000\n",
    "fetchData = ex.fetch_ohlcv(\n",
    "    symbol, \n",
    "    timeframe, \n",
    "    limit=None\n",
    "    )"
   ]
  },
  {
   "cell_type": "code",
   "execution_count": 4,
   "metadata": {},
   "outputs": [
    {
     "ename": "ExchangeNotAvailable",
     "evalue": "binance GET https://api.binance.com/api/v3/exchangeInfo 451  {\n  \"code\": 0,\n  \"msg\": \"Service unavailable from a restricted location according to 'b. Eligibility' in https://www.binance.com/en/terms. Please contact customer service if you believe you received this message in error.\"\n}",
     "output_type": "error",
     "traceback": [
      "\u001b[0;31m---------------------------------------------------------------------------\u001b[0m",
      "\u001b[0;31mHTTPError\u001b[0m                                 Traceback (most recent call last)",
      "File \u001b[0;32m~/.local/lib/python3.10/site-packages/ccxt/base/exchange.py:651\u001b[0m, in \u001b[0;36mExchange.fetch\u001b[0;34m(self, url, method, headers, body)\u001b[0m\n\u001b[1;32m    650\u001b[0m     \u001b[38;5;28mself\u001b[39m\u001b[38;5;241m.\u001b[39mlogger\u001b[38;5;241m.\u001b[39mdebug(\u001b[38;5;124m\"\u001b[39m\u001b[38;5;132;01m%s\u001b[39;00m\u001b[38;5;124m \u001b[39m\u001b[38;5;132;01m%s\u001b[39;00m\u001b[38;5;124m, Response: \u001b[39m\u001b[38;5;132;01m%s\u001b[39;00m\u001b[38;5;124m \u001b[39m\u001b[38;5;132;01m%s\u001b[39;00m\u001b[38;5;124m \u001b[39m\u001b[38;5;132;01m%s\u001b[39;00m\u001b[38;5;124m\"\u001b[39m, method, url, http_status_code, headers, http_response)\n\u001b[0;32m--> 651\u001b[0m     \u001b[43mresponse\u001b[49m\u001b[38;5;241;43m.\u001b[39;49m\u001b[43mraise_for_status\u001b[49m\u001b[43m(\u001b[49m\u001b[43m)\u001b[49m\n\u001b[1;32m    653\u001b[0m \u001b[38;5;28;01mexcept\u001b[39;00m Timeout \u001b[38;5;28;01mas\u001b[39;00m e:\n",
      "File \u001b[0;32m~/.local/lib/python3.10/site-packages/requests/models.py:1024\u001b[0m, in \u001b[0;36mResponse.raise_for_status\u001b[0;34m(self)\u001b[0m\n\u001b[1;32m   1023\u001b[0m \u001b[38;5;28;01mif\u001b[39;00m http_error_msg:\n\u001b[0;32m-> 1024\u001b[0m     \u001b[38;5;28;01mraise\u001b[39;00m HTTPError(http_error_msg, response\u001b[38;5;241m=\u001b[39m\u001b[38;5;28mself\u001b[39m)\n",
      "\u001b[0;31mHTTPError\u001b[0m: 451 Client Error:  for url: https://api.binance.com/api/v3/exchangeInfo",
      "\nDuring handling of the above exception, another exception occurred:\n",
      "\u001b[0;31mExchangeNotAvailable\u001b[0m                      Traceback (most recent call last)",
      "Cell \u001b[0;32mIn[4], line 6\u001b[0m\n\u001b[1;32m      4\u001b[0m \u001b[38;5;28mmax\u001b[39m \u001b[38;5;241m=\u001b[39m \u001b[38;5;241m10000\u001b[39m\n\u001b[1;32m      5\u001b[0m ohlcv_list \u001b[38;5;241m=\u001b[39m []\n\u001b[0;32m----> 6\u001b[0m ohlcv \u001b[38;5;241m=\u001b[39m \u001b[43mex\u001b[49m\u001b[38;5;241;43m.\u001b[39;49m\u001b[43mfetch_ohlcv\u001b[49m\u001b[43m(\u001b[49m\n\u001b[1;32m      7\u001b[0m \u001b[43m    \u001b[49m\u001b[43msymbol\u001b[49m\u001b[43m,\u001b[49m\u001b[43m \u001b[49m\n\u001b[1;32m      8\u001b[0m \u001b[43m    \u001b[49m\u001b[43mtimeframe\u001b[49m\u001b[43m,\u001b[49m\u001b[43m \u001b[49m\n\u001b[1;32m      9\u001b[0m \u001b[43m    \u001b[49m\u001b[43msince\u001b[49m\u001b[38;5;241;43m=\u001b[39;49m\u001b[43mfrom_ts\u001b[49m\u001b[43m,\u001b[49m\u001b[43m \u001b[49m\n\u001b[1;32m     10\u001b[0m \u001b[43m    \u001b[49m\u001b[43mlimit\u001b[49m\u001b[38;5;241;43m=\u001b[39;49m\u001b[38;5;241;43m1000\u001b[39;49m\u001b[43m)\u001b[49m\n\u001b[1;32m     11\u001b[0m ohlcv_list\u001b[38;5;241m.\u001b[39mappend(ohlcv)\n\u001b[1;32m     13\u001b[0m \u001b[38;5;28;01mwhile\u001b[39;00m \u001b[38;5;28;01mTrue\u001b[39;00m:\n",
      "File \u001b[0;32m~/.local/lib/python3.10/site-packages/ccxt/binance.py:4115\u001b[0m, in \u001b[0;36mbinance.fetch_ohlcv\u001b[0;34m(self, symbol, timeframe, since, limit, params)\u001b[0m\n\u001b[1;32m   4094\u001b[0m \u001b[38;5;28;01mdef\u001b[39;00m \u001b[38;5;21mfetch_ohlcv\u001b[39m(\u001b[38;5;28mself\u001b[39m, symbol: \u001b[38;5;28mstr\u001b[39m, timeframe\u001b[38;5;241m=\u001b[39m\u001b[38;5;124m'\u001b[39m\u001b[38;5;124m1m\u001b[39m\u001b[38;5;124m'\u001b[39m, since: Int \u001b[38;5;241m=\u001b[39m \u001b[38;5;28;01mNone\u001b[39;00m, limit: Int \u001b[38;5;241m=\u001b[39m \u001b[38;5;28;01mNone\u001b[39;00m, params\u001b[38;5;241m=\u001b[39m{}) \u001b[38;5;241m-\u001b[39m\u001b[38;5;241m>\u001b[39m List[\u001b[38;5;28mlist\u001b[39m]:\n\u001b[1;32m   4095\u001b[0m \u001b[38;5;250m    \u001b[39m\u001b[38;5;124;03m\"\"\"\u001b[39;00m\n\u001b[1;32m   4096\u001b[0m \u001b[38;5;124;03m    fetches historical candlestick data containing the open, high, low, and close price, and the volume of a market\u001b[39;00m\n\u001b[1;32m   4097\u001b[0m \u001b[38;5;124;03m    :see: https://binance-docs.github.io/apidocs/spot/en/#kline-candlestick-data\u001b[39;00m\n\u001b[0;32m   (...)\u001b[0m\n\u001b[1;32m   4113\u001b[0m \u001b[38;5;124;03m    :returns int[][]: A list of candles ordered, open, high, low, close, volume\u001b[39;00m\n\u001b[1;32m   4114\u001b[0m \u001b[38;5;124;03m    \"\"\"\u001b[39;00m\n\u001b[0;32m-> 4115\u001b[0m     \u001b[38;5;28;43mself\u001b[39;49m\u001b[38;5;241;43m.\u001b[39;49m\u001b[43mload_markets\u001b[49m\u001b[43m(\u001b[49m\u001b[43m)\u001b[49m\n\u001b[1;32m   4116\u001b[0m     paginate \u001b[38;5;241m=\u001b[39m \u001b[38;5;28;01mFalse\u001b[39;00m\n\u001b[1;32m   4117\u001b[0m     paginate, params \u001b[38;5;241m=\u001b[39m \u001b[38;5;28mself\u001b[39m\u001b[38;5;241m.\u001b[39mhandle_option_and_params(params, \u001b[38;5;124m'\u001b[39m\u001b[38;5;124mfetchOHLCV\u001b[39m\u001b[38;5;124m'\u001b[39m, \u001b[38;5;124m'\u001b[39m\u001b[38;5;124mpaginate\u001b[39m\u001b[38;5;124m'\u001b[39m, \u001b[38;5;28;01mFalse\u001b[39;00m)\n",
      "File \u001b[0;32m~/.local/lib/python3.10/site-packages/ccxt/base/exchange.py:1540\u001b[0m, in \u001b[0;36mExchange.load_markets\u001b[0;34m(self, reload, params)\u001b[0m\n\u001b[1;32m   1538\u001b[0m \u001b[38;5;28;01mif\u001b[39;00m \u001b[38;5;28mself\u001b[39m\u001b[38;5;241m.\u001b[39mhas[\u001b[38;5;124m'\u001b[39m\u001b[38;5;124mfetchCurrencies\u001b[39m\u001b[38;5;124m'\u001b[39m] \u001b[38;5;129;01mis\u001b[39;00m \u001b[38;5;28;01mTrue\u001b[39;00m:\n\u001b[1;32m   1539\u001b[0m     currencies \u001b[38;5;241m=\u001b[39m \u001b[38;5;28mself\u001b[39m\u001b[38;5;241m.\u001b[39mfetch_currencies()\n\u001b[0;32m-> 1540\u001b[0m markets \u001b[38;5;241m=\u001b[39m \u001b[38;5;28;43mself\u001b[39;49m\u001b[38;5;241;43m.\u001b[39;49m\u001b[43mfetch_markets\u001b[49m\u001b[43m(\u001b[49m\u001b[43mparams\u001b[49m\u001b[43m)\u001b[49m\n\u001b[1;32m   1541\u001b[0m \u001b[38;5;28;01mreturn\u001b[39;00m \u001b[38;5;28mself\u001b[39m\u001b[38;5;241m.\u001b[39mset_markets(markets, currencies)\n",
      "File \u001b[0;32m~/.local/lib/python3.10/site-packages/ccxt/binance.py:2828\u001b[0m, in \u001b[0;36mbinance.fetch_markets\u001b[0;34m(self, params)\u001b[0m\n\u001b[1;32m   2826\u001b[0m marketType \u001b[38;5;241m=\u001b[39m fetchMarkets[i]\n\u001b[1;32m   2827\u001b[0m \u001b[38;5;28;01mif\u001b[39;00m marketType \u001b[38;5;241m==\u001b[39m \u001b[38;5;124m'\u001b[39m\u001b[38;5;124mspot\u001b[39m\u001b[38;5;124m'\u001b[39m:\n\u001b[0;32m-> 2828\u001b[0m     promisesRaw\u001b[38;5;241m.\u001b[39mappend(\u001b[38;5;28;43mself\u001b[39;49m\u001b[38;5;241;43m.\u001b[39;49m\u001b[43mpublicGetExchangeInfo\u001b[49m\u001b[43m(\u001b[49m\u001b[43mparams\u001b[49m\u001b[43m)\u001b[49m)\n\u001b[1;32m   2829\u001b[0m \u001b[38;5;28;01melif\u001b[39;00m marketType \u001b[38;5;241m==\u001b[39m \u001b[38;5;124m'\u001b[39m\u001b[38;5;124mlinear\u001b[39m\u001b[38;5;124m'\u001b[39m:\n\u001b[1;32m   2830\u001b[0m     promisesRaw\u001b[38;5;241m.\u001b[39mappend(\u001b[38;5;28mself\u001b[39m\u001b[38;5;241m.\u001b[39mfapiPublicGetExchangeInfo(params))\n",
      "File \u001b[0;32m~/.local/lib/python3.10/site-packages/ccxt/base/types.py:35\u001b[0m, in \u001b[0;36mEntry.__init__.<locals>.unbound_method\u001b[0;34m(_self, params)\u001b[0m\n\u001b[1;32m     34\u001b[0m \u001b[38;5;28;01mdef\u001b[39;00m \u001b[38;5;21munbound_method\u001b[39m(_self, params\u001b[38;5;241m=\u001b[39m{}):\n\u001b[0;32m---> 35\u001b[0m     \u001b[38;5;28;01mreturn\u001b[39;00m \u001b[43m_self\u001b[49m\u001b[38;5;241;43m.\u001b[39;49m\u001b[43mrequest\u001b[49m\u001b[43m(\u001b[49m\u001b[38;5;28;43mself\u001b[39;49m\u001b[38;5;241;43m.\u001b[39;49m\u001b[43mpath\u001b[49m\u001b[43m,\u001b[49m\u001b[43m \u001b[49m\u001b[38;5;28;43mself\u001b[39;49m\u001b[38;5;241;43m.\u001b[39;49m\u001b[43mapi\u001b[49m\u001b[43m,\u001b[49m\u001b[43m \u001b[49m\u001b[38;5;28;43mself\u001b[39;49m\u001b[38;5;241;43m.\u001b[39;49m\u001b[43mmethod\u001b[49m\u001b[43m,\u001b[49m\u001b[43m \u001b[49m\u001b[43mparams\u001b[49m\u001b[43m,\u001b[49m\u001b[43m \u001b[49m\u001b[43mconfig\u001b[49m\u001b[38;5;241;43m=\u001b[39;49m\u001b[38;5;28;43mself\u001b[39;49m\u001b[38;5;241;43m.\u001b[39;49m\u001b[43mconfig\u001b[49m\u001b[43m)\u001b[49m\n",
      "File \u001b[0;32m~/.local/lib/python3.10/site-packages/ccxt/binance.py:10460\u001b[0m, in \u001b[0;36mbinance.request\u001b[0;34m(self, path, api, method, params, headers, body, config)\u001b[0m\n\u001b[1;32m  10459\u001b[0m \u001b[38;5;28;01mdef\u001b[39;00m \u001b[38;5;21mrequest\u001b[39m(\u001b[38;5;28mself\u001b[39m, path, api\u001b[38;5;241m=\u001b[39m\u001b[38;5;124m'\u001b[39m\u001b[38;5;124mpublic\u001b[39m\u001b[38;5;124m'\u001b[39m, method\u001b[38;5;241m=\u001b[39m\u001b[38;5;124m'\u001b[39m\u001b[38;5;124mGET\u001b[39m\u001b[38;5;124m'\u001b[39m, params\u001b[38;5;241m=\u001b[39m{}, headers\u001b[38;5;241m=\u001b[39m\u001b[38;5;28;01mNone\u001b[39;00m, body\u001b[38;5;241m=\u001b[39m\u001b[38;5;28;01mNone\u001b[39;00m, config\u001b[38;5;241m=\u001b[39m{}):\n\u001b[0;32m> 10460\u001b[0m     response \u001b[38;5;241m=\u001b[39m \u001b[38;5;28;43mself\u001b[39;49m\u001b[38;5;241;43m.\u001b[39;49m\u001b[43mfetch2\u001b[49m\u001b[43m(\u001b[49m\u001b[43mpath\u001b[49m\u001b[43m,\u001b[49m\u001b[43m \u001b[49m\u001b[43mapi\u001b[49m\u001b[43m,\u001b[49m\u001b[43m \u001b[49m\u001b[43mmethod\u001b[49m\u001b[43m,\u001b[49m\u001b[43m \u001b[49m\u001b[43mparams\u001b[49m\u001b[43m,\u001b[49m\u001b[43m \u001b[49m\u001b[43mheaders\u001b[49m\u001b[43m,\u001b[49m\u001b[43m \u001b[49m\u001b[43mbody\u001b[49m\u001b[43m,\u001b[49m\u001b[43m \u001b[49m\u001b[43mconfig\u001b[49m\u001b[43m)\u001b[49m\n\u001b[1;32m  10461\u001b[0m     \u001b[38;5;66;03m# a workaround for {\"code\":-2015,\"msg\":\"Invalid API-key, IP, or permissions for action.\"}\u001b[39;00m\n\u001b[1;32m  10462\u001b[0m     \u001b[38;5;28;01mif\u001b[39;00m api \u001b[38;5;241m==\u001b[39m \u001b[38;5;124m'\u001b[39m\u001b[38;5;124mprivate\u001b[39m\u001b[38;5;124m'\u001b[39m:\n",
      "File \u001b[0;32m~/.local/lib/python3.10/site-packages/ccxt/base/exchange.py:3737\u001b[0m, in \u001b[0;36mExchange.fetch2\u001b[0;34m(self, path, api, method, params, headers, body, config)\u001b[0m\n\u001b[1;32m   3735\u001b[0m \u001b[38;5;28mself\u001b[39m\u001b[38;5;241m.\u001b[39mlast_request_body \u001b[38;5;241m=\u001b[39m request[\u001b[38;5;124m'\u001b[39m\u001b[38;5;124mbody\u001b[39m\u001b[38;5;124m'\u001b[39m]\n\u001b[1;32m   3736\u001b[0m \u001b[38;5;28mself\u001b[39m\u001b[38;5;241m.\u001b[39mlast_request_url \u001b[38;5;241m=\u001b[39m request[\u001b[38;5;124m'\u001b[39m\u001b[38;5;124murl\u001b[39m\u001b[38;5;124m'\u001b[39m]\n\u001b[0;32m-> 3737\u001b[0m \u001b[38;5;28;01mreturn\u001b[39;00m \u001b[38;5;28;43mself\u001b[39;49m\u001b[38;5;241;43m.\u001b[39;49m\u001b[43mfetch\u001b[49m\u001b[43m(\u001b[49m\u001b[43mrequest\u001b[49m\u001b[43m[\u001b[49m\u001b[38;5;124;43m'\u001b[39;49m\u001b[38;5;124;43murl\u001b[39;49m\u001b[38;5;124;43m'\u001b[39;49m\u001b[43m]\u001b[49m\u001b[43m,\u001b[49m\u001b[43m \u001b[49m\u001b[43mrequest\u001b[49m\u001b[43m[\u001b[49m\u001b[38;5;124;43m'\u001b[39;49m\u001b[38;5;124;43mmethod\u001b[39;49m\u001b[38;5;124;43m'\u001b[39;49m\u001b[43m]\u001b[49m\u001b[43m,\u001b[49m\u001b[43m \u001b[49m\u001b[43mrequest\u001b[49m\u001b[43m[\u001b[49m\u001b[38;5;124;43m'\u001b[39;49m\u001b[38;5;124;43mheaders\u001b[39;49m\u001b[38;5;124;43m'\u001b[39;49m\u001b[43m]\u001b[49m\u001b[43m,\u001b[49m\u001b[43m \u001b[49m\u001b[43mrequest\u001b[49m\u001b[43m[\u001b[49m\u001b[38;5;124;43m'\u001b[39;49m\u001b[38;5;124;43mbody\u001b[39;49m\u001b[38;5;124;43m'\u001b[39;49m\u001b[43m]\u001b[49m\u001b[43m)\u001b[49m\n",
      "File \u001b[0;32m~/.local/lib/python3.10/site-packages/ccxt/base/exchange.py:669\u001b[0m, in \u001b[0;36mExchange.fetch\u001b[0;34m(self, url, method, headers, body)\u001b[0m\n\u001b[1;32m    667\u001b[0m     skip_further_error_handling \u001b[38;5;241m=\u001b[39m \u001b[38;5;28mself\u001b[39m\u001b[38;5;241m.\u001b[39mhandle_errors(http_status_code, http_status_text, url, method, headers, http_response, json_response, request_headers, request_body)\n\u001b[1;32m    668\u001b[0m     \u001b[38;5;28;01mif\u001b[39;00m \u001b[38;5;129;01mnot\u001b[39;00m skip_further_error_handling:\n\u001b[0;32m--> 669\u001b[0m         \u001b[38;5;28;43mself\u001b[39;49m\u001b[38;5;241;43m.\u001b[39;49m\u001b[43mhandle_http_status_code\u001b[49m\u001b[43m(\u001b[49m\u001b[43mhttp_status_code\u001b[49m\u001b[43m,\u001b[49m\u001b[43m \u001b[49m\u001b[43mhttp_status_text\u001b[49m\u001b[43m,\u001b[49m\u001b[43m \u001b[49m\u001b[43murl\u001b[49m\u001b[43m,\u001b[49m\u001b[43m \u001b[49m\u001b[43mmethod\u001b[49m\u001b[43m,\u001b[49m\u001b[43m \u001b[49m\u001b[43mhttp_response\u001b[49m\u001b[43m)\u001b[49m\n\u001b[1;32m    670\u001b[0m     \u001b[38;5;28;01mraise\u001b[39;00m ExchangeError(details) \u001b[38;5;28;01mfrom\u001b[39;00m \u001b[38;5;21;01me\u001b[39;00m\n\u001b[1;32m    672\u001b[0m \u001b[38;5;28;01mexcept\u001b[39;00m requestsConnectionError \u001b[38;5;28;01mas\u001b[39;00m e:\n",
      "File \u001b[0;32m~/.local/lib/python3.10/site-packages/ccxt/base/exchange.py:1718\u001b[0m, in \u001b[0;36mExchange.handle_http_status_code\u001b[0;34m(self, code, reason, url, method, body)\u001b[0m\n\u001b[1;32m   1716\u001b[0m \u001b[38;5;28;01mif\u001b[39;00m codeAsString \u001b[38;5;129;01min\u001b[39;00m \u001b[38;5;28mself\u001b[39m\u001b[38;5;241m.\u001b[39mhttpExceptions:\n\u001b[1;32m   1717\u001b[0m     ErrorClass \u001b[38;5;241m=\u001b[39m \u001b[38;5;28mself\u001b[39m\u001b[38;5;241m.\u001b[39mhttpExceptions[codeAsString]\n\u001b[0;32m-> 1718\u001b[0m     \u001b[38;5;28;01mraise\u001b[39;00m ErrorClass(\u001b[38;5;28mself\u001b[39m\u001b[38;5;241m.\u001b[39mid \u001b[38;5;241m+\u001b[39m \u001b[38;5;124m'\u001b[39m\u001b[38;5;124m \u001b[39m\u001b[38;5;124m'\u001b[39m \u001b[38;5;241m+\u001b[39m method \u001b[38;5;241m+\u001b[39m \u001b[38;5;124m'\u001b[39m\u001b[38;5;124m \u001b[39m\u001b[38;5;124m'\u001b[39m \u001b[38;5;241m+\u001b[39m url \u001b[38;5;241m+\u001b[39m \u001b[38;5;124m'\u001b[39m\u001b[38;5;124m \u001b[39m\u001b[38;5;124m'\u001b[39m \u001b[38;5;241m+\u001b[39m codeAsString \u001b[38;5;241m+\u001b[39m \u001b[38;5;124m'\u001b[39m\u001b[38;5;124m \u001b[39m\u001b[38;5;124m'\u001b[39m \u001b[38;5;241m+\u001b[39m reason \u001b[38;5;241m+\u001b[39m \u001b[38;5;124m'\u001b[39m\u001b[38;5;124m \u001b[39m\u001b[38;5;124m'\u001b[39m \u001b[38;5;241m+\u001b[39m body)\n",
      "\u001b[0;31mExchangeNotAvailable\u001b[0m: binance GET https://api.binance.com/api/v3/exchangeInfo 451  {\n  \"code\": 0,\n  \"msg\": \"Service unavailable from a restricted location according to 'b. Eligibility' in https://www.binance.com/en/terms. Please contact customer service if you believe you received this message in error.\"\n}"
     ]
    }
   ],
   "source": [
    "# get unlimited data\n",
    "\n",
    "import ccxt\n",
    "import pandas as pd\n",
    "from datetime import datetime \n",
    "\n",
    "symbol = \"BTCUSDT\"\n",
    "ex = ccxt.binance() # https://docs.ccxt.com/#/exchanges/binance?id=fetchohlcv\n",
    "timeframe = \"5m\"\n",
    "\n",
    "from_ts = ex.parse8601('2024-03-15 00:00:00')\n",
    "max = 10000\n",
    "ohlcv_list = []\n",
    "ohlcv = ex.fetch_ohlcv(\n",
    "    symbol, \n",
    "    timeframe, \n",
    "    since=from_ts, \n",
    "    limit=1000)\n",
    "ohlcv_list.append(ohlcv)\n",
    "\n",
    "while True:\n",
    "   \n",
    "    from_ts = ohlcv[-1][0]\n",
    "    new_ohlcv = ex.fetch_ohlcv(\n",
    "        symbol, \n",
    "        timeframe,\n",
    "        since=from_ts, \n",
    "        limit=1000\n",
    "        )\n",
    "    \n",
    "    ohlcv.extend(new_ohlcv)\n",
    "\n",
    "    if len(new_ohlcv)!=1000:\n",
    "        break\n",
    "    \n",
    "fetchData = ohlcv\n",
    "\n",
    "len(fetchData)"
   ]
  },
  {
   "cell_type": "code",
   "execution_count": 6,
   "metadata": {},
   "outputs": [
    {
     "name": "stdout",
     "output_type": "stream",
     "text": [
      "<Response [451]>\n"
     ]
    },
    {
     "ename": "HTTPError",
     "evalue": "451 Client Error:  for url: https://fapi.binance.com/fapi/v1/klines?symbol=BTCUSDT&interval=5m&startTime=1672531200000&endTime=1685577600000&limit=1500",
     "output_type": "error",
     "traceback": [
      "\u001b[0;31m---------------------------------------------------------------------------\u001b[0m",
      "\u001b[0;31mHTTPError\u001b[0m                                 Traceback (most recent call last)",
      "Cell \u001b[0;32mIn[6], line 63\u001b[0m\n\u001b[1;32m     60\u001b[0m end_time \u001b[38;5;241m=\u001b[39m \u001b[38;5;28mint\u001b[39m(pd\u001b[38;5;241m.\u001b[39mTimestamp(\u001b[38;5;124m'\u001b[39m\u001b[38;5;124m2023-06-01\u001b[39m\u001b[38;5;124m'\u001b[39m)\u001b[38;5;241m.\u001b[39mtimestamp() \u001b[38;5;241m*\u001b[39m \u001b[38;5;241m1000\u001b[39m)\n\u001b[1;32m     62\u001b[0m \u001b[38;5;66;03m# Obtener datos\u001b[39;00m\n\u001b[0;32m---> 63\u001b[0m df \u001b[38;5;241m=\u001b[39m \u001b[43mget_binance_futures_data\u001b[49m\u001b[43m(\u001b[49m\u001b[43msymbol\u001b[49m\u001b[43m,\u001b[49m\u001b[43m \u001b[49m\u001b[43minterval\u001b[49m\u001b[43m,\u001b[49m\u001b[43m \u001b[49m\u001b[43mstart_time\u001b[49m\u001b[43m,\u001b[49m\u001b[43m \u001b[49m\u001b[43mend_time\u001b[49m\u001b[43m)\u001b[49m\n\u001b[1;32m     65\u001b[0m \u001b[38;5;66;03m# Mostrar los primeros datos\u001b[39;00m\n\u001b[1;32m     66\u001b[0m \u001b[38;5;28mprint\u001b[39m(df\u001b[38;5;241m.\u001b[39mhead())\n",
      "Cell \u001b[0;32mIn[6], line 32\u001b[0m, in \u001b[0;36mget_binance_futures_data\u001b[0;34m(symbol, interval, start_time, end_time, limit)\u001b[0m\n\u001b[1;32m     30\u001b[0m response \u001b[38;5;241m=\u001b[39m requests\u001b[38;5;241m.\u001b[39mget(url, params\u001b[38;5;241m=\u001b[39mparams)\n\u001b[1;32m     31\u001b[0m \u001b[38;5;28mprint\u001b[39m(response)\n\u001b[0;32m---> 32\u001b[0m \u001b[43mresponse\u001b[49m\u001b[38;5;241;43m.\u001b[39;49m\u001b[43mraise_for_status\u001b[49m\u001b[43m(\u001b[49m\u001b[43m)\u001b[49m\n\u001b[1;32m     33\u001b[0m klines \u001b[38;5;241m=\u001b[39m response\u001b[38;5;241m.\u001b[39mjson()\n\u001b[1;32m     35\u001b[0m \u001b[38;5;28;01mif\u001b[39;00m \u001b[38;5;129;01mnot\u001b[39;00m klines:\n",
      "File \u001b[0;32m~/.local/lib/python3.10/site-packages/requests/models.py:1024\u001b[0m, in \u001b[0;36mResponse.raise_for_status\u001b[0;34m(self)\u001b[0m\n\u001b[1;32m   1019\u001b[0m     http_error_msg \u001b[38;5;241m=\u001b[39m (\n\u001b[1;32m   1020\u001b[0m         \u001b[38;5;124mf\u001b[39m\u001b[38;5;124m\"\u001b[39m\u001b[38;5;132;01m{\u001b[39;00m\u001b[38;5;28mself\u001b[39m\u001b[38;5;241m.\u001b[39mstatus_code\u001b[38;5;132;01m}\u001b[39;00m\u001b[38;5;124m Server Error: \u001b[39m\u001b[38;5;132;01m{\u001b[39;00mreason\u001b[38;5;132;01m}\u001b[39;00m\u001b[38;5;124m for url: \u001b[39m\u001b[38;5;132;01m{\u001b[39;00m\u001b[38;5;28mself\u001b[39m\u001b[38;5;241m.\u001b[39murl\u001b[38;5;132;01m}\u001b[39;00m\u001b[38;5;124m\"\u001b[39m\n\u001b[1;32m   1021\u001b[0m     )\n\u001b[1;32m   1023\u001b[0m \u001b[38;5;28;01mif\u001b[39;00m http_error_msg:\n\u001b[0;32m-> 1024\u001b[0m     \u001b[38;5;28;01mraise\u001b[39;00m HTTPError(http_error_msg, response\u001b[38;5;241m=\u001b[39m\u001b[38;5;28mself\u001b[39m)\n",
      "\u001b[0;31mHTTPError\u001b[0m: 451 Client Error:  for url: https://fapi.binance.com/fapi/v1/klines?symbol=BTCUSDT&interval=5m&startTime=1672531200000&endTime=1685577600000&limit=1500"
     ]
    }
   ],
   "source": [
    "import requests\n",
    "import pandas as pd\n",
    "import time\n",
    "\n",
    "def get_binance_futures_data(symbol, interval, start_time, end_time, limit=1500):\n",
    "    \"\"\"\n",
    "    Descarga datos históricos de futuros de Binance para un símbolo e intervalo especificados.\n",
    "    \n",
    "    Parámetros:\n",
    "    symbol (str): El símbolo de trading, por ejemplo, 'BTCUSDT'.\n",
    "    interval (str): El intervalo de tiempo de las velas, por ejemplo, '5m'.\n",
    "    start_time (int): El tiempo de inicio en milisegundos desde la época Unix.\n",
    "    end_time (int): El tiempo de finalización en milisegundos desde la época Unix.\n",
    "    limit (int): El número máximo de datos por solicitud (máximo 1500).\n",
    "\n",
    "    Retorna:\n",
    "    pd.DataFrame: Un DataFrame con los datos históricos.\n",
    "    \"\"\"\n",
    "    url = \"https://fapi.binance.com/fapi/v1/klines\"\n",
    "    data = []\n",
    "    \n",
    "    while start_time < end_time:\n",
    "        params = {\n",
    "            'symbol': symbol,\n",
    "            'interval': interval,\n",
    "            'startTime': start_time,\n",
    "            'endTime': end_time,\n",
    "            'limit': limit\n",
    "        }\n",
    "        response = requests.get(url, params=params)\n",
    "        print(response)\n",
    "        response.raise_for_status()\n",
    "        klines = response.json()\n",
    "\n",
    "        if not klines:\n",
    "            break\n",
    "\n",
    "        data.extend(klines)\n",
    "        start_time = klines[-1][0] + 1\n",
    "\n",
    "        # Para evitar el rate limit de Binance\n",
    "        time.sleep(0.1)\n",
    "\n",
    "    columns = ['Open Time', 'Open', 'High', 'Low', 'Close', 'Volume', 'Close Time', \n",
    "               'Quote Asset Volume', 'Number of Trades', 'Taker Buy Base Asset Volume', \n",
    "               'Taker Buy Quote Asset Volume', 'Ignore']\n",
    "    \n",
    "    df = pd.DataFrame(data, columns=columns)\n",
    "    \n",
    "    # Convertir los tiempos de milisegundos a datetime\n",
    "    df['Open Time'] = pd.to_datetime(df['Open Time'], unit='ms')\n",
    "    df['Close Time'] = pd.to_datetime(df['Close Time'], unit='ms')\n",
    "    \n",
    "    return df\n",
    "\n",
    "# Parámetros\n",
    "symbol = 'BTCUSDT'\n",
    "interval = '5m'\n",
    "start_time = int(pd.Timestamp('2023-01-01').timestamp() * 1000)\n",
    "end_time = int(pd.Timestamp('2023-06-01').timestamp() * 1000)\n",
    "\n",
    "# Obtener datos\n",
    "df = get_binance_futures_data(symbol, interval, start_time, end_time)\n",
    "\n",
    "# Mostrar los primeros datos\n",
    "print(df.head())\n"
   ]
  },
  {
   "cell_type": "markdown",
   "metadata": {},
   "source": [
    "Save file"
   ]
  },
  {
   "cell_type": "code",
   "execution_count": 15,
   "metadata": {},
   "outputs": [
    {
     "name": "stdout",
     "output_type": "stream",
     "text": [
      "26968\n"
     ]
    }
   ],
   "source": [
    "header = [\"DateStamp\", \"open\", \"high\", \"low\", \"close\", \"volume\"]\n",
    "data = pd.DataFrame(fetchData, columns=header)\n",
    "\n",
    "data[\"Date\"] = pd.to_datetime(data[\"DateStamp\"], unit=\"ms\")\n",
    "data = data.set_index(\"Date\")\n",
    "data = data.rename(columns={\"open\": \"Open\", \"high\": \"High\", \"low\": \"Low\", \"close\": \"Close\", \"volume\": \"Volume\"})\n",
    "\n",
    "with open(symbol + \"\"+ timeframe+'.csv', 'w') as f:\n",
    "    f.write(data.to_csv())\n",
    "    \n",
    "print(len(data))"
   ]
  }
 ],
 "metadata": {
  "kernelspec": {
   "display_name": ".venv",
   "language": "python",
   "name": "python3"
  },
  "language_info": {
   "codemirror_mode": {
    "name": "ipython",
    "version": 3
   },
   "file_extension": ".py",
   "mimetype": "text/x-python",
   "name": "python",
   "nbconvert_exporter": "python",
   "pygments_lexer": "ipython3",
   "version": "3.10.13"
  }
 },
 "nbformat": 4,
 "nbformat_minor": 2
}
