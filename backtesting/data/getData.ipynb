{
 "cells": [
  {
   "cell_type": "markdown",
   "metadata": {},
   "source": [
    "De donde obtener la data\n",
    "\n",
    "- yahoo finance\n",
    "- "
   ]
  },
  {
   "cell_type": "markdown",
   "metadata": {},
   "source": [
    "# with Yahoo Finance"
   ]
  },
  {
   "cell_type": "code",
   "execution_count": 1,
   "metadata": {},
   "outputs": [],
   "source": [
    "start = \"2022-01-01\""
   ]
  },
  {
   "cell_type": "code",
   "execution_count": 40,
   "metadata": {},
   "outputs": [
    {
     "name": "stderr",
     "output_type": "stream",
     "text": [
      "[*********************100%%**********************]  1 of 1 completed\n"
     ]
    }
   ],
   "source": [
    "\n",
    "import yfinance as yf\n",
    "symbol = \"AAPL\"\n",
    "data = yf.download(symbol, start=start)"
   ]
  },
  {
   "cell_type": "markdown",
   "metadata": {},
   "source": [
    "# With CCXT"
   ]
  },
  {
   "cell_type": "code",
   "execution_count": 1,
   "metadata": {},
   "outputs": [],
   "source": [
    "import ccxt\n",
    "import pandas as pd\n",
    "from datetime import datetime \n",
    "import time\n"
   ]
  },
  {
   "cell_type": "code",
   "execution_count": 5,
   "metadata": {},
   "outputs": [
    {
     "ename": "ValueError",
     "evalue": "year 56422 is out of range",
     "output_type": "error",
     "traceback": [
      "\u001b[0;31m---------------------------------------------------------------------------\u001b[0m",
      "\u001b[0;31mValueError\u001b[0m                                Traceback (most recent call last)",
      "Cell \u001b[0;32mIn[5], line 4\u001b[0m\n\u001b[1;32m      2\u001b[0m since \u001b[38;5;241m=\u001b[39m time\u001b[38;5;241m.\u001b[39mmktime(datetime\u001b[38;5;241m.\u001b[39mstrptime(start,\u001b[38;5;124m'\u001b[39m\u001b[38;5;124m%\u001b[39m\u001b[38;5;124mY-\u001b[39m\u001b[38;5;124m%\u001b[39m\u001b[38;5;124mm-\u001b[39m\u001b[38;5;132;01m%d\u001b[39;00m\u001b[38;5;124m'\u001b[39m)\u001b[38;5;241m.\u001b[39mtimetuple())\n\u001b[1;32m      3\u001b[0m end \u001b[38;5;241m=\u001b[39m \u001b[38;5;241m1718361000000\u001b[39m\n\u001b[0;32m----> 4\u001b[0m timeStampToDateTime \u001b[38;5;241m=\u001b[39m \u001b[43mdatetime\u001b[49m\u001b[38;5;241;43m.\u001b[39;49m\u001b[43mfromtimestamp\u001b[49m\u001b[43m(\u001b[49m\u001b[43mend\u001b[49m\u001b[43m)\u001b[49m\n\u001b[1;32m      5\u001b[0m end\n\u001b[1;32m      6\u001b[0m \u001b[38;5;28mprint\u001b[39m(since)\n",
      "\u001b[0;31mValueError\u001b[0m: year 56422 is out of range"
     ]
    }
   ],
   "source": [
    "\n",
    "start = \"2024-01-01\"\n",
    "since = time.mktime(datetime.strptime(start,'%Y-%m-%d').timetuple())\n",
    "end = 1718361000000\n",
    "timeStampToDateTime = datetime.fromtimestamp(end)\n",
    "end\n",
    "print(since)\n"
   ]
  },
  {
   "cell_type": "code",
   "execution_count": 12,
   "metadata": {},
   "outputs": [
    {
     "name": "stdout",
     "output_type": "stream",
     "text": [
      "500\n"
     ]
    }
   ],
   "source": [
    "symbol = \"BTCUSDT\"\n",
    "exchange = ccxt.binance() # https://docs.ccxt.com/#/exchanges/binance?id=fetchohlcv\n",
    "\n",
    "timeframe = \"15m\"\n",
    "limit = 2000000\n",
    "\n",
    "fetchData = exchange.fetch_ohlcv(\n",
    "    symbol, \n",
    "    timeframe, \n",
    "    limit=None\n",
    "    )\n"
   ]
  },
  {
   "cell_type": "code",
   "execution_count": 13,
   "metadata": {},
   "outputs": [],
   "source": [
    "# get unlimited data\n",
    "ex = ccxt.binance()\n",
    "from_ts = ex.parse8601('2023-07-21 00:00:00')\n",
    "ohlcv_list = []\n",
    "ohlcv = ex.fetch_ohlcv('BTC/USDT', '15m', since=from_ts, limit=1000)\n",
    "ohlcv_list.append(ohlcv)\n",
    "while True:\n",
    "    from_ts = ohlcv[-1][0]\n",
    "    new_ohlcv = ex.fetch_ohlcv('BTC/USDT', '15m', since=from_ts, limit=1000)\n",
    "    ohlcv.extend(new_ohlcv)\n",
    "    if len(new_ohlcv)!=1000:\n",
    "    \tbreak\n",
    "fetchData = ohlcv"
   ]
  },
  {
   "cell_type": "markdown",
   "metadata": {},
   "source": [
    "Save file"
   ]
  },
  {
   "cell_type": "code",
   "execution_count": 17,
   "metadata": {},
   "outputs": [
    {
     "name": "stdout",
     "output_type": "stream",
     "text": [
      "31810\n"
     ]
    }
   ],
   "source": [
    "header = [\"DateStamp\", \"open\", \"high\", \"low\", \"close\", \"volume\"]\n",
    "data = pd.DataFrame(fetchData, columns=header)\n",
    "\n",
    "data[\"Date\"] = pd.to_datetime(data[\"DateStamp\"], unit=\"ms\")\n",
    "data = data.set_index(\"Date\")\n",
    "data = data.rename(columns={\"open\": \"Open\", \"high\": \"High\", \"low\": \"Low\", \"close\": \"Close\", \"volume\": \"Volume\"})\n",
    "\n",
    "with open(symbol +'.csv', 'w') as f:\n",
    "    f.write(data.to_csv())\n",
    "    \n",
    "print(len(data))"
   ]
  }
 ],
 "metadata": {
  "kernelspec": {
   "display_name": ".venv",
   "language": "python",
   "name": "python3"
  },
  "language_info": {
   "codemirror_mode": {
    "name": "ipython",
    "version": 3
   },
   "file_extension": ".py",
   "mimetype": "text/x-python",
   "name": "python",
   "nbconvert_exporter": "python",
   "pygments_lexer": "ipython3",
   "version": "3.10.12"
  }
 },
 "nbformat": 4,
 "nbformat_minor": 2
}
