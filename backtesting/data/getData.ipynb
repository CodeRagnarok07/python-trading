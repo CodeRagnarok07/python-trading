{
 "cells": [
  {
   "cell_type": "markdown",
   "metadata": {},
   "source": [
    "# with Yahoo Finance"
   ]
  },
  {
   "cell_type": "code",
   "execution_count": 1,
   "metadata": {},
   "outputs": [],
   "source": [
    "start = \"2022-01-01\""
   ]
  },
  {
   "cell_type": "code",
   "execution_count": 40,
   "metadata": {},
   "outputs": [
    {
     "name": "stderr",
     "output_type": "stream",
     "text": [
      "[*********************100%%**********************]  1 of 1 completed\n"
     ]
    }
   ],
   "source": [
    "\n",
    "import yfinance as yf\n",
    "symbol = \"AAPL\"\n",
    "data = yf.download(symbol, start=start)"
   ]
  },
  {
   "cell_type": "markdown",
   "metadata": {},
   "source": [
    "# With CCXT"
   ]
  },
  {
   "cell_type": "code",
   "execution_count": 1,
   "metadata": {},
   "outputs": [],
   "source": [
    "import ccxt\n",
    "import pandas as pd\n",
    "from datetime import datetime \n",
    "import time\n"
   ]
  },
  {
   "cell_type": "code",
   "execution_count": 14,
   "metadata": {},
   "outputs": [
    {
     "name": "stdout",
     "output_type": "stream",
     "text": [
      "1704081600.0\n"
     ]
    }
   ],
   "source": [
    "\n",
    "start = \"2024-01-01\"\n",
    "since = time.mktime(datetime.strptime(start,'%Y-%m-%d').timetuple())\n",
    "end = 1718361000000\n",
    "timeStampToDateTime = datetime.fromtimestamp(end)\n",
    "end\n",
    "print(since)\n"
   ]
  },
  {
   "cell_type": "code",
   "execution_count": 2,
   "metadata": {},
   "outputs": [],
   "source": [
    "symbol = \"BTCUSDT\"\n",
    "exchange = ccxt.binance() # https://docs.ccxt.com/#/exchanges/binance?id=fetchohlcv\n",
    "\n",
    "timeframe = \"15m\"\n",
    "limit = 1000000\n",
    "\n",
    "fetchData = exchange.fetch_ohlcv(\n",
    "    symbol, \n",
    "    timeframe, \n",
    "    limit=limit,\n",
    "  \n",
    "    )"
   ]
  },
  {
   "cell_type": "markdown",
   "metadata": {},
   "source": [
    "Save file"
   ]
  },
  {
   "cell_type": "code",
   "execution_count": 3,
   "metadata": {},
   "outputs": [],
   "source": [
    "\n",
    "header = [\"DateStamp\", \"open\", \"high\", \"low\", \"close\", \"volume\"]\n",
    "data = pd.DataFrame(fetchData, columns=header)\n",
    "\n",
    "data[\"Date\"] = pd.to_datetime(data[\"DateStamp\"], unit=\"ms\")\n",
    "data = data.set_index(\"Date\")\n",
    "data = data.rename(columns={\"open\": \"Open\", \"high\": \"High\", \"low\": \"Low\", \"close\": \"Close\", \"volume\": \"Volume\"})\n",
    "\n",
    "with open(symbol +'.csv', 'w') as f:\n",
    "    f.write(data.to_csv())"
   ]
  },
  {
   "cell_type": "code",
   "execution_count": 22,
   "metadata": {},
   "outputs": [],
   "source": []
  }
 ],
 "metadata": {
  "kernelspec": {
   "display_name": ".venv",
   "language": "python",
   "name": "python3"
  },
  "language_info": {
   "codemirror_mode": {
    "name": "ipython",
    "version": 3
   },
   "file_extension": ".py",
   "mimetype": "text/x-python",
   "name": "python",
   "nbconvert_exporter": "python",
   "pygments_lexer": "ipython3",
   "version": "3.10.12"
  }
 },
 "nbformat": 4,
 "nbformat_minor": 2
}
