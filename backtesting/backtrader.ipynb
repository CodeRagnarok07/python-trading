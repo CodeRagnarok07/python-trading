{
 "cells": [
  {
   "cell_type": "markdown",
   "metadata": {},
   "source": [
    "- https://tradewithpython.com/a-rookie-guide-to-getting-started-with-backtesting-in-python"
   ]
  },
  {
   "cell_type": "code",
   "execution_count": 7,
   "metadata": {},
   "outputs": [
    {
     "name": "stdout",
     "output_type": "stream",
     "text": [
      "Requirement already satisfied: backtrader in /root/p/trading/.venv/lib/python3.10/site-packages (1.9.78.123)\n",
      "Note: you may need to restart the kernel to use updated packages.\n",
      "Requirement already satisfied: yfinance in /root/p/trading/.venv/lib/python3.10/site-packages (0.2.40)\n",
      "Requirement already satisfied: multitasking>=0.0.7 in /root/p/trading/.venv/lib/python3.10/site-packages (from yfinance) (0.0.11)\n",
      "Requirement already satisfied: lxml>=4.9.1 in /root/p/trading/.venv/lib/python3.10/site-packages (from yfinance) (5.2.2)\n",
      "Requirement already satisfied: platformdirs>=2.0.0 in /root/p/trading/.venv/lib/python3.10/site-packages (from yfinance) (4.2.2)\n",
      "Requirement already satisfied: html5lib>=1.1 in /root/p/trading/.venv/lib/python3.10/site-packages (from yfinance) (1.1)\n",
      "Requirement already satisfied: numpy>=1.16.5 in /root/p/trading/.venv/lib/python3.10/site-packages (from yfinance) (1.26.4)\n",
      "Requirement already satisfied: requests>=2.31 in /root/p/trading/.venv/lib/python3.10/site-packages (from yfinance) (2.32.3)\n",
      "Requirement already satisfied: peewee>=3.16.2 in /root/p/trading/.venv/lib/python3.10/site-packages (from yfinance) (3.17.5)\n",
      "Requirement already satisfied: pytz>=2022.5 in /root/p/trading/.venv/lib/python3.10/site-packages (from yfinance) (2024.1)\n",
      "Requirement already satisfied: beautifulsoup4>=4.11.1 in /root/p/trading/.venv/lib/python3.10/site-packages (from yfinance) (4.12.3)\n",
      "Requirement already satisfied: pandas>=1.3.0 in /root/p/trading/.venv/lib/python3.10/site-packages (from yfinance) (2.2.2)\n",
      "Requirement already satisfied: frozendict>=2.3.4 in /root/p/trading/.venv/lib/python3.10/site-packages (from yfinance) (2.4.4)\n",
      "Requirement already satisfied: soupsieve>1.2 in /root/p/trading/.venv/lib/python3.10/site-packages (from beautifulsoup4>=4.11.1->yfinance) (2.5)\n",
      "Requirement already satisfied: six>=1.9 in /root/p/trading/.venv/lib/python3.10/site-packages (from html5lib>=1.1->yfinance) (1.16.0)\n",
      "Requirement already satisfied: webencodings in /root/p/trading/.venv/lib/python3.10/site-packages (from html5lib>=1.1->yfinance) (0.5.1)\n",
      "Requirement already satisfied: tzdata>=2022.7 in /root/p/trading/.venv/lib/python3.10/site-packages (from pandas>=1.3.0->yfinance) (2024.1)\n",
      "Requirement already satisfied: python-dateutil>=2.8.2 in /root/p/trading/.venv/lib/python3.10/site-packages (from pandas>=1.3.0->yfinance) (2.9.0.post0)\n",
      "Requirement already satisfied: urllib3<3,>=1.21.1 in /root/p/trading/.venv/lib/python3.10/site-packages (from requests>=2.31->yfinance) (2.2.1)\n",
      "Requirement already satisfied: idna<4,>=2.5 in /root/p/trading/.venv/lib/python3.10/site-packages (from requests>=2.31->yfinance) (3.7)\n",
      "Requirement already satisfied: charset-normalizer<4,>=2 in /root/p/trading/.venv/lib/python3.10/site-packages (from requests>=2.31->yfinance) (3.3.2)\n",
      "Requirement already satisfied: certifi>=2017.4.17 in /root/p/trading/.venv/lib/python3.10/site-packages (from requests>=2.31->yfinance) (2024.6.2)\n",
      "Note: you may need to restart the kernel to use updated packages.\n"
     ]
    }
   ],
   "source": [
    "%pip install backtrader\n",
    "%pip install yfinance"
   ]
  },
  {
   "cell_type": "code",
   "execution_count": 8,
   "metadata": {},
   "outputs": [],
   "source": [
    "import backtrader as bt\n",
    "import yfinance as yf\n",
    "from datetime import datetime"
   ]
  },
  {
   "cell_type": "markdown",
   "metadata": {},
   "source": [
    "# Strategy's"
   ]
  },
  {
   "cell_type": "code",
   "execution_count": 9,
   "metadata": {},
   "outputs": [],
   "source": [
    "class firstStrategy(bt.Strategy):\n",
    "    def __init__(self):\n",
    "        # initializing rsi, slow and fast sma\n",
    "        self.rsi = bt.indicators.RSI(self.data.close, period=21)\n",
    "        self.fast_sma = bt.indicators.SMA(self.data.close, period=50)\n",
    "        self.slow_sma = bt.indicators.SMA(self.data.close, period=100)\n",
    "        self.crossup = bt.ind.CrossUp(self.fast_sma, self.slow_sma)\n",
    "\n",
    "    def next(self):\n",
    "        if not self.position:\n",
    "            # BUYING Condition\n",
    "            if self.rsi > 30 and self.fast_sma > self.slow_sma:  # when rsi > 30 and fast_sma cuts slow_sma\n",
    "                self.buy(size=100)  # buying 10 quantities of equity\n",
    "        else:\n",
    "            # SELLING Condition\n",
    "            if self.rsi < 70:  # when rsi is below 70 line\n",
    "                self.sell(size=100)  # selling 10 quantities of equity"
   ]
  },
  {
   "cell_type": "code",
   "execution_count": 10,
   "metadata": {},
   "outputs": [],
   "source": [
    "# Get HDFCBANK data from Yahoo Finance.\n",
    "# ----- Use below code to fetch data from Yahoo Finance CSV  -------\n",
    "data = bt.feeds.YahooFinanceCSVData(\n",
    "    dataname=\"HDFCBANK.NS.csv\",\n",
    "    fromdate=datetime(2020,11,1),\n",
    "    todate =datetime(2021,11,1))"
   ]
  },
  {
   "cell_type": "code",
   "execution_count": 13,
   "metadata": {},
   "outputs": [
    {
     "name": "stderr",
     "output_type": "stream",
     "text": [
      "[*********************100%%**********************]  2 of 2 completed"
     ]
    },
    {
     "name": "stdout",
     "output_type": "stream",
     "text": [
      "Price        Adj Close                   Close                    High  \\\n",
      "Ticker            AAPL         SPY        AAPL         SPY        AAPL   \n",
      "Date                                                                     \n",
      "2024-05-14  187.429993  523.299988  187.429993  523.299988  188.300003   \n",
      "2024-05-15  189.720001  529.780029  189.720001  529.780029  190.649994   \n",
      "2024-05-16  189.839996  528.690002  189.839996  528.690002  191.100006   \n",
      "2024-05-17  189.869995  529.450012  189.869995  529.450012  190.809998   \n",
      "2024-05-20  191.039993  530.059998  191.039993  530.059998  191.919998   \n",
      "2024-05-21  192.350006  531.359985  192.350006  531.359985  192.729996   \n",
      "2024-05-22  190.899994  529.830017  190.899994  529.830017  192.820007   \n",
      "2024-05-23  186.880005  525.960022  186.880005  525.960022  191.000000   \n",
      "2024-05-24  189.979996  529.440002  189.979996  529.440002  190.580002   \n",
      "2024-05-28  189.990005  529.809998  189.990005  529.809998  193.000000   \n",
      "2024-05-29  190.289993  526.099976  190.289993  526.099976  192.250000   \n",
      "2024-05-30  191.289993  522.609985  191.289993  522.609985  192.179993   \n",
      "2024-05-31  192.250000  527.369995  192.250000  527.369995  192.570007   \n",
      "2024-06-03  194.029999  527.799988  194.029999  527.799988  194.990005   \n",
      "2024-06-04  194.350006  528.390015  194.350006  528.390015  195.320007   \n",
      "2024-06-05  195.869995  534.669983  195.869995  534.669983  196.899994   \n",
      "2024-06-06  194.479996  534.659973  194.479996  534.659973  196.500000   \n",
      "2024-06-07  196.889999  534.010010  196.889999  534.010010  196.940002   \n",
      "2024-06-10  193.119995  535.659973  193.119995  535.659973  197.300003   \n",
      "2024-06-11  207.149994  536.950012  207.149994  536.950012  207.160004   \n",
      "2024-06-12  213.070007  541.359985  213.070007  541.359985  220.199997   \n",
      "2024-06-13  214.240005  542.450012  214.240005  542.450012  216.750000   \n",
      "2024-06-14  212.154999  541.919678  212.154999  541.919678  215.169998   \n",
      "\n",
      "Price                          Low                    Open              \\\n",
      "Ticker             SPY        AAPL         SPY        AAPL         SPY   \n",
      "Date                                                                     \n",
      "2024-05-14  523.830017  186.289993  520.559998  187.509995  521.109985   \n",
      "2024-05-15  530.080017  187.369995  525.179993  187.910004  525.830017   \n",
      "2024-05-16  531.520020  189.660004  528.539978  190.470001  529.880005   \n",
      "2024-05-17  529.520020  189.179993  527.320007  189.509995  528.809998   \n",
      "2024-05-20  531.559998  189.009995  529.169983  189.330002  529.570007   \n",
      "2024-05-21  531.520020  190.919998  529.070007  191.089996  529.280029   \n",
      "2024-05-22  531.380005  190.270004  527.599976  192.270004  530.650024   \n",
      "2024-05-23  533.070007  186.630005  524.719971  190.979996  532.960022   \n",
      "2024-05-24  530.270020  188.039993  526.880005  188.820007  527.849976   \n",
      "2024-05-28  530.510010  189.100006  527.109985  191.509995  530.270020   \n",
      "2024-05-29  527.309998  189.509995  525.369995  189.610001  525.679993   \n",
      "2024-05-30  525.200012  190.630005  521.330017  190.759995  524.520020   \n",
      "2024-05-31  527.500000  189.910004  518.359985  191.440002  523.590027   \n",
      "2024-06-03  529.309998  192.520004  522.599976  192.899994  529.020020   \n",
      "2024-06-04  529.150024  193.029999  524.960022  194.639999  526.460022   \n",
      "2024-06-05  534.690002  194.869995  528.729980  195.399994  530.770020   \n",
      "2024-06-06  535.419983  194.169998  532.679993  195.690002  534.979980   \n",
      "2024-06-07  536.890015  194.139999  532.539978  194.649994  533.659973   \n",
      "2024-06-10  535.989990  192.149994  532.570007  196.899994  533.179993   \n",
      "2024-06-11  537.010010  193.630005  532.049988  193.649994  534.070007   \n",
      "2024-06-12  544.119995  206.899994  540.299988  207.369995  541.630005   \n",
      "2024-06-13  543.330017  211.600006  539.590027  214.740005  543.150024   \n",
      "2024-06-14  542.420105  211.300003  539.849976  213.809998  540.880005   \n",
      "\n",
      "Price          Volume            \n",
      "Ticker           AAPL       SPY  \n",
      "Date                             \n",
      "2024-05-14   52393600  57535900  \n",
      "2024-05-15   70400000  59504900  \n",
      "2024-05-16   52845200  50244800  \n",
      "2024-05-17   41282900  59187600  \n",
      "2024-05-20   44361300  37764200  \n",
      "2024-05-21   42309400  33437000  \n",
      "2024-05-22   34648500  48390000  \n",
      "2024-05-23   51005900  57211200  \n",
      "2024-05-24   36294600  41258400  \n",
      "2024-05-28   52280100  36269600  \n",
      "2024-05-29   53068000  45190300  \n",
      "2024-05-30   49947900  46468500  \n",
      "2024-05-31   75158300  90785800  \n",
      "2024-06-03   50080500  46835700  \n",
      "2024-06-04   47471400  34632700  \n",
      "2024-06-05   54156800  47610400  \n",
      "2024-06-06   41181800  30808500  \n",
      "2024-06-07   53103900  43224500  \n",
      "2024-06-10   97262100  35729300  \n",
      "2024-06-11  172373300  36383400  \n",
      "2024-06-12  198134300  63251300  \n",
      "2024-06-13   96544400  44696900  \n",
      "2024-06-14   44224391  19538283  \n"
     ]
    },
    {
     "name": "stderr",
     "output_type": "stream",
     "text": [
      "\n"
     ]
    }
   ],
   "source": [
    "# Get HDFCBANK data from Yahoo Finance\n",
    "data = yf.download(\"SPY AAPL\", period=\"1mo\")\n",
    "print(data)"
   ]
  },
  {
   "cell_type": "code",
   "execution_count": 12,
   "metadata": {},
   "outputs": [
    {
     "ename": "AttributeError",
     "evalue": "'DataFrame' object has no attribute 'setenvironment'",
     "output_type": "error",
     "traceback": [
      "\u001b[0;31m---------------------------------------------------------------------------\u001b[0m",
      "\u001b[0;31mAttributeError\u001b[0m                            Traceback (most recent call last)",
      "\u001b[0;32m/tmp/ipykernel_278/4293167077.py\u001b[0m in \u001b[0;36m?\u001b[0;34m()\u001b[0m\n\u001b[1;32m      5\u001b[0m \u001b[0mcerebro\u001b[0m \u001b[0;34m=\u001b[0m \u001b[0mbt\u001b[0m\u001b[0;34m.\u001b[0m\u001b[0mCerebro\u001b[0m\u001b[0;34m(\u001b[0m\u001b[0;34m)\u001b[0m\u001b[0;34m\u001b[0m\u001b[0;34m\u001b[0m\u001b[0m\n\u001b[1;32m      6\u001b[0m \u001b[0;31m# Add our strategy\u001b[0m\u001b[0;34m\u001b[0m\u001b[0;34m\u001b[0m\u001b[0m\n\u001b[1;32m      7\u001b[0m \u001b[0mcerebro\u001b[0m\u001b[0;34m.\u001b[0m\u001b[0maddstrategy\u001b[0m\u001b[0;34m(\u001b[0m\u001b[0mfirstStrategy\u001b[0m\u001b[0;34m)\u001b[0m\u001b[0;34m\u001b[0m\u001b[0;34m\u001b[0m\u001b[0m\n\u001b[1;32m      8\u001b[0m \u001b[0;31m# Add the data to Cerebro\u001b[0m\u001b[0;34m\u001b[0m\u001b[0;34m\u001b[0m\u001b[0m\n\u001b[0;32m----> 9\u001b[0;31m \u001b[0mcerebro\u001b[0m\u001b[0;34m.\u001b[0m\u001b[0madddata\u001b[0m\u001b[0;34m(\u001b[0m\u001b[0mdata\u001b[0m\u001b[0;34m)\u001b[0m\u001b[0;34m\u001b[0m\u001b[0;34m\u001b[0m\u001b[0m\n\u001b[0m\u001b[1;32m     10\u001b[0m \u001b[0;31m# setting broker commission to 0.2%\u001b[0m\u001b[0;34m\u001b[0m\u001b[0;34m\u001b[0m\u001b[0m\n\u001b[1;32m     11\u001b[0m \u001b[0mcerebro\u001b[0m\u001b[0;34m.\u001b[0m\u001b[0mbroker\u001b[0m\u001b[0;34m.\u001b[0m\u001b[0msetcommission\u001b[0m\u001b[0;34m(\u001b[0m\u001b[0mcommission\u001b[0m\u001b[0;34m=\u001b[0m\u001b[0;36m0.002\u001b[0m\u001b[0;34m)\u001b[0m\u001b[0;34m\u001b[0m\u001b[0;34m\u001b[0m\u001b[0m\n\u001b[1;32m     12\u001b[0m \u001b[0;31m# Set our desired cash start\u001b[0m\u001b[0;34m\u001b[0m\u001b[0;34m\u001b[0m\u001b[0m\n",
      "\u001b[0;32m~/p/trading/.venv/lib/python3.10/site-packages/backtrader/cerebro.py\u001b[0m in \u001b[0;36m?\u001b[0;34m(self, data, name)\u001b[0m\n\u001b[1;32m    759\u001b[0m         \u001b[0;32mif\u001b[0m \u001b[0mname\u001b[0m \u001b[0;32mis\u001b[0m \u001b[0;32mnot\u001b[0m \u001b[0;32mNone\u001b[0m\u001b[0;34m:\u001b[0m\u001b[0;34m\u001b[0m\u001b[0;34m\u001b[0m\u001b[0m\n\u001b[1;32m    760\u001b[0m             \u001b[0mdata\u001b[0m\u001b[0;34m.\u001b[0m\u001b[0m_name\u001b[0m \u001b[0;34m=\u001b[0m \u001b[0mname\u001b[0m\u001b[0;34m\u001b[0m\u001b[0;34m\u001b[0m\u001b[0m\n\u001b[1;32m    761\u001b[0m \u001b[0;34m\u001b[0m\u001b[0m\n\u001b[1;32m    762\u001b[0m         \u001b[0mdata\u001b[0m\u001b[0;34m.\u001b[0m\u001b[0m_id\u001b[0m \u001b[0;34m=\u001b[0m \u001b[0mnext\u001b[0m\u001b[0;34m(\u001b[0m\u001b[0mself\u001b[0m\u001b[0;34m.\u001b[0m\u001b[0m_dataid\u001b[0m\u001b[0;34m)\u001b[0m\u001b[0;34m\u001b[0m\u001b[0;34m\u001b[0m\u001b[0m\n\u001b[0;32m--> 763\u001b[0;31m         \u001b[0mdata\u001b[0m\u001b[0;34m.\u001b[0m\u001b[0msetenvironment\u001b[0m\u001b[0;34m(\u001b[0m\u001b[0mself\u001b[0m\u001b[0;34m)\u001b[0m\u001b[0;34m\u001b[0m\u001b[0;34m\u001b[0m\u001b[0m\n\u001b[0m\u001b[1;32m    764\u001b[0m \u001b[0;34m\u001b[0m\u001b[0m\n\u001b[1;32m    765\u001b[0m         \u001b[0mself\u001b[0m\u001b[0;34m.\u001b[0m\u001b[0mdatas\u001b[0m\u001b[0;34m.\u001b[0m\u001b[0mappend\u001b[0m\u001b[0;34m(\u001b[0m\u001b[0mdata\u001b[0m\u001b[0;34m)\u001b[0m\u001b[0;34m\u001b[0m\u001b[0;34m\u001b[0m\u001b[0m\n\u001b[1;32m    766\u001b[0m         \u001b[0mself\u001b[0m\u001b[0;34m.\u001b[0m\u001b[0mdatasbyname\u001b[0m\u001b[0;34m[\u001b[0m\u001b[0mdata\u001b[0m\u001b[0;34m.\u001b[0m\u001b[0m_name\u001b[0m\u001b[0;34m]\u001b[0m \u001b[0;34m=\u001b[0m \u001b[0mdata\u001b[0m\u001b[0;34m\u001b[0m\u001b[0;34m\u001b[0m\u001b[0m\n",
      "\u001b[0;32m~/p/trading/.venv/lib/python3.10/site-packages/pandas/core/generic.py\u001b[0m in \u001b[0;36m?\u001b[0;34m(self, name)\u001b[0m\n\u001b[1;32m   6295\u001b[0m             \u001b[0;32mand\u001b[0m \u001b[0mname\u001b[0m \u001b[0;32mnot\u001b[0m \u001b[0;32min\u001b[0m \u001b[0mself\u001b[0m\u001b[0;34m.\u001b[0m\u001b[0m_accessors\u001b[0m\u001b[0;34m\u001b[0m\u001b[0;34m\u001b[0m\u001b[0m\n\u001b[1;32m   6296\u001b[0m             \u001b[0;32mand\u001b[0m \u001b[0mself\u001b[0m\u001b[0;34m.\u001b[0m\u001b[0m_info_axis\u001b[0m\u001b[0;34m.\u001b[0m\u001b[0m_can_hold_identifiers_and_holds_name\u001b[0m\u001b[0;34m(\u001b[0m\u001b[0mname\u001b[0m\u001b[0;34m)\u001b[0m\u001b[0;34m\u001b[0m\u001b[0;34m\u001b[0m\u001b[0m\n\u001b[1;32m   6297\u001b[0m         ):\n\u001b[1;32m   6298\u001b[0m             \u001b[0;32mreturn\u001b[0m \u001b[0mself\u001b[0m\u001b[0;34m[\u001b[0m\u001b[0mname\u001b[0m\u001b[0;34m]\u001b[0m\u001b[0;34m\u001b[0m\u001b[0;34m\u001b[0m\u001b[0m\n\u001b[0;32m-> 6299\u001b[0;31m         \u001b[0;32mreturn\u001b[0m \u001b[0mobject\u001b[0m\u001b[0;34m.\u001b[0m\u001b[0m__getattribute__\u001b[0m\u001b[0;34m(\u001b[0m\u001b[0mself\u001b[0m\u001b[0;34m,\u001b[0m \u001b[0mname\u001b[0m\u001b[0;34m)\u001b[0m\u001b[0;34m\u001b[0m\u001b[0;34m\u001b[0m\u001b[0m\n\u001b[0m",
      "\u001b[0;31mAttributeError\u001b[0m: 'DataFrame' object has no attribute 'setenvironment'"
     ]
    }
   ],
   "source": [
    "# Variable for our starting cash\n",
    "startcash = 1000000\n",
    "\n",
    "# Create an instance of cerebro\n",
    "cerebro = bt.Cerebro()\n",
    "# Add our strategy\n",
    "cerebro.addstrategy(firstStrategy)\n",
    "# Add the data to Cerebro\n",
    "cerebro.adddata(data)\n",
    "# setting broker commission to 0.2%\n",
    "cerebro.broker.setcommission(commission=0.002)\n",
    "# Set our desired cash start\n",
    "cerebro.broker.setcash(startcash)\n"
   ]
  },
  {
   "cell_type": "code",
   "execution_count": null,
   "metadata": {},
   "outputs": [
    {
     "ename": "FileNotFoundError",
     "evalue": "[Errno 2] No such file or directory: 'HDFCBANK.NS.csv'",
     "output_type": "error",
     "traceback": [
      "\u001b[0;31m---------------------------------------------------------------------------\u001b[0m",
      "\u001b[0;31mFileNotFoundError\u001b[0m                         Traceback (most recent call last)",
      "Cell \u001b[0;32mIn[18], line 4\u001b[0m\n\u001b[1;32m      2\u001b[0m cerebro\u001b[38;5;241m.\u001b[39madddata(data)\n\u001b[1;32m      3\u001b[0m \u001b[38;5;66;03m# Run over everything\u001b[39;00m\n\u001b[0;32m----> 4\u001b[0m \u001b[43mcerebro\u001b[49m\u001b[38;5;241;43m.\u001b[39;49m\u001b[43mrun\u001b[49m\u001b[43m(\u001b[49m\u001b[43m)\u001b[49m\n",
      "File \u001b[0;32m~/p/trading/.venv/lib/python3.10/site-packages/backtrader/cerebro.py:1132\u001b[0m, in \u001b[0;36mCerebro.run\u001b[0;34m(self, **kwargs)\u001b[0m\n\u001b[1;32m   1128\u001b[0m \u001b[38;5;28;01mif\u001b[39;00m \u001b[38;5;129;01mnot\u001b[39;00m \u001b[38;5;28mself\u001b[39m\u001b[38;5;241m.\u001b[39m_dooptimize \u001b[38;5;129;01mor\u001b[39;00m \u001b[38;5;28mself\u001b[39m\u001b[38;5;241m.\u001b[39mp\u001b[38;5;241m.\u001b[39mmaxcpus \u001b[38;5;241m==\u001b[39m \u001b[38;5;241m1\u001b[39m:\n\u001b[1;32m   1129\u001b[0m     \u001b[38;5;66;03m# If no optimmization is wished ... or 1 core is to be used\u001b[39;00m\n\u001b[1;32m   1130\u001b[0m     \u001b[38;5;66;03m# let's skip process \"spawning\"\u001b[39;00m\n\u001b[1;32m   1131\u001b[0m     \u001b[38;5;28;01mfor\u001b[39;00m iterstrat \u001b[38;5;129;01min\u001b[39;00m iterstrats:\n\u001b[0;32m-> 1132\u001b[0m         runstrat \u001b[38;5;241m=\u001b[39m \u001b[38;5;28;43mself\u001b[39;49m\u001b[38;5;241;43m.\u001b[39;49m\u001b[43mrunstrategies\u001b[49m\u001b[43m(\u001b[49m\u001b[43miterstrat\u001b[49m\u001b[43m)\u001b[49m\n\u001b[1;32m   1133\u001b[0m         \u001b[38;5;28mself\u001b[39m\u001b[38;5;241m.\u001b[39mrunstrats\u001b[38;5;241m.\u001b[39mappend(runstrat)\n\u001b[1;32m   1134\u001b[0m         \u001b[38;5;28;01mif\u001b[39;00m \u001b[38;5;28mself\u001b[39m\u001b[38;5;241m.\u001b[39m_dooptimize:\n",
      "File \u001b[0;32m~/p/trading/.venv/lib/python3.10/site-packages/backtrader/cerebro.py:1215\u001b[0m, in \u001b[0;36mCerebro.runstrategies\u001b[0;34m(self, iterstrat, predata)\u001b[0m\n\u001b[1;32m   1213\u001b[0m \u001b[38;5;28;01mif\u001b[39;00m \u001b[38;5;28mself\u001b[39m\u001b[38;5;241m.\u001b[39m_exactbars \u001b[38;5;241m<\u001b[39m \u001b[38;5;241m1\u001b[39m:  \u001b[38;5;66;03m# datas can be full length\u001b[39;00m\n\u001b[1;32m   1214\u001b[0m     data\u001b[38;5;241m.\u001b[39mextend(size\u001b[38;5;241m=\u001b[39m\u001b[38;5;28mself\u001b[39m\u001b[38;5;241m.\u001b[39mparams\u001b[38;5;241m.\u001b[39mlookahead)\n\u001b[0;32m-> 1215\u001b[0m \u001b[43mdata\u001b[49m\u001b[38;5;241;43m.\u001b[39;49m\u001b[43m_start\u001b[49m\u001b[43m(\u001b[49m\u001b[43m)\u001b[49m\n\u001b[1;32m   1216\u001b[0m \u001b[38;5;28;01mif\u001b[39;00m \u001b[38;5;28mself\u001b[39m\u001b[38;5;241m.\u001b[39m_dopreload:\n\u001b[1;32m   1217\u001b[0m     data\u001b[38;5;241m.\u001b[39mpreload()\n",
      "File \u001b[0;32m~/p/trading/.venv/lib/python3.10/site-packages/backtrader/feed.py:203\u001b[0m, in \u001b[0;36mAbstractDataBase._start\u001b[0;34m(self)\u001b[0m\n\u001b[1;32m    202\u001b[0m \u001b[38;5;28;01mdef\u001b[39;00m \u001b[38;5;21m_start\u001b[39m(\u001b[38;5;28mself\u001b[39m):\n\u001b[0;32m--> 203\u001b[0m     \u001b[38;5;28;43mself\u001b[39;49m\u001b[38;5;241;43m.\u001b[39;49m\u001b[43mstart\u001b[49m\u001b[43m(\u001b[49m\u001b[43m)\u001b[49m\n\u001b[1;32m    205\u001b[0m     \u001b[38;5;28;01mif\u001b[39;00m \u001b[38;5;129;01mnot\u001b[39;00m \u001b[38;5;28mself\u001b[39m\u001b[38;5;241m.\u001b[39m_started:\n\u001b[1;32m    206\u001b[0m         \u001b[38;5;28mself\u001b[39m\u001b[38;5;241m.\u001b[39m_start_finish()\n",
      "File \u001b[0;32m~/p/trading/.venv/lib/python3.10/site-packages/backtrader/feeds/yahoo.py:94\u001b[0m, in \u001b[0;36mYahooFinanceCSVData.start\u001b[0;34m(self)\u001b[0m\n\u001b[1;32m     93\u001b[0m \u001b[38;5;28;01mdef\u001b[39;00m \u001b[38;5;21mstart\u001b[39m(\u001b[38;5;28mself\u001b[39m):\n\u001b[0;32m---> 94\u001b[0m     \u001b[38;5;28;43msuper\u001b[39;49m\u001b[43m(\u001b[49m\u001b[43mYahooFinanceCSVData\u001b[49m\u001b[43m,\u001b[49m\u001b[43m \u001b[49m\u001b[38;5;28;43mself\u001b[39;49m\u001b[43m)\u001b[49m\u001b[38;5;241;43m.\u001b[39;49m\u001b[43mstart\u001b[49m\u001b[43m(\u001b[49m\u001b[43m)\u001b[49m\n\u001b[1;32m     96\u001b[0m     \u001b[38;5;28;01mif\u001b[39;00m \u001b[38;5;129;01mnot\u001b[39;00m \u001b[38;5;28mself\u001b[39m\u001b[38;5;241m.\u001b[39mparams\u001b[38;5;241m.\u001b[39mreverse:\n\u001b[1;32m     97\u001b[0m         \u001b[38;5;28;01mreturn\u001b[39;00m\n",
      "File \u001b[0;32m~/p/trading/.venv/lib/python3.10/site-packages/backtrader/feed.py:675\u001b[0m, in \u001b[0;36mCSVDataBase.start\u001b[0;34m(self)\u001b[0m\n\u001b[1;32m    672\u001b[0m         \u001b[38;5;28mself\u001b[39m\u001b[38;5;241m.\u001b[39mf \u001b[38;5;241m=\u001b[39m \u001b[38;5;28mself\u001b[39m\u001b[38;5;241m.\u001b[39mp\u001b[38;5;241m.\u001b[39mdataname\n\u001b[1;32m    673\u001b[0m     \u001b[38;5;28;01melse\u001b[39;00m:\n\u001b[1;32m    674\u001b[0m         \u001b[38;5;66;03m# Let an exception propagate to let the caller know\u001b[39;00m\n\u001b[0;32m--> 675\u001b[0m         \u001b[38;5;28mself\u001b[39m\u001b[38;5;241m.\u001b[39mf \u001b[38;5;241m=\u001b[39m \u001b[43mio\u001b[49m\u001b[38;5;241;43m.\u001b[39;49m\u001b[43mopen\u001b[49m\u001b[43m(\u001b[49m\u001b[38;5;28;43mself\u001b[39;49m\u001b[38;5;241;43m.\u001b[39;49m\u001b[43mp\u001b[49m\u001b[38;5;241;43m.\u001b[39;49m\u001b[43mdataname\u001b[49m\u001b[43m,\u001b[49m\u001b[43m \u001b[49m\u001b[38;5;124;43m'\u001b[39;49m\u001b[38;5;124;43mr\u001b[39;49m\u001b[38;5;124;43m'\u001b[39;49m\u001b[43m)\u001b[49m\n\u001b[1;32m    677\u001b[0m \u001b[38;5;28;01mif\u001b[39;00m \u001b[38;5;28mself\u001b[39m\u001b[38;5;241m.\u001b[39mp\u001b[38;5;241m.\u001b[39mheaders:\n\u001b[1;32m    678\u001b[0m     \u001b[38;5;28mself\u001b[39m\u001b[38;5;241m.\u001b[39mf\u001b[38;5;241m.\u001b[39mreadline()  \u001b[38;5;66;03m# skip the headers\u001b[39;00m\n",
      "\u001b[0;31mFileNotFoundError\u001b[0m: [Errno 2] No such file or directory: 'HDFCBANK.NS.csv'"
     ]
    }
   ],
   "source": [
    "\n",
    "# Run over everything\n",
    "cerebro.run()"
   ]
  }
 ],
 "metadata": {
  "kernelspec": {
   "display_name": ".venv",
   "language": "python",
   "name": "python3"
  },
  "language_info": {
   "codemirror_mode": {
    "name": "ipython",
    "version": 3
   },
   "file_extension": ".py",
   "mimetype": "text/x-python",
   "name": "python",
   "nbconvert_exporter": "python",
   "pygments_lexer": "ipython3",
   "version": "3.10.12"
  }
 },
 "nbformat": 4,
 "nbformat_minor": 2
}
