{
 "cells": [
  {
   "cell_type": "markdown",
   "metadata": {},
   "source": [
    "- https://tradewithpython.com/a-rookie-guide-to-getting-started-with-backtesting-in-python\n",
    "- https://www.backtrader.com/"
   ]
  },
  {
   "cell_type": "code",
   "execution_count": 18,
   "metadata": {},
   "outputs": [
    {
     "name": "stdout",
     "output_type": "stream",
     "text": [
      "Requirement already satisfied: backtrader in /root/p/trading/.venv/lib/python3.10/site-packages (1.9.78.123)\n",
      "Note: you may need to restart the kernel to use updated packages.\n"
     ]
    }
   ],
   "source": [
    "%pip install backtrader"
   ]
  },
  {
   "cell_type": "code",
   "execution_count": 19,
   "metadata": {},
   "outputs": [],
   "source": [
    "import backtrader as bt\n",
    "from datetime import datetime"
   ]
  },
  {
   "cell_type": "markdown",
   "metadata": {},
   "source": [
    "# Strategy's"
   ]
  },
  {
   "cell_type": "code",
   "execution_count": 24,
   "metadata": {},
   "outputs": [
    {
     "name": "stdout",
     "output_type": "stream",
     "text": [
      "<class 'backtrader.feeds.yahoo.YahooFinanceData'>\n"
     ]
    }
   ],
   "source": [
    "\n",
    "data = bt.feeds.YahooFinanceData (\n",
    "    dataname = \"data/AAPL.csv\",\n",
    "    fromdate=datetime(2020,11,1),\n",
    "    todate =datetime(2021,11,1))\n",
    "print(type(data))"
   ]
  },
  {
   "cell_type": "code",
   "execution_count": 25,
   "metadata": {},
   "outputs": [],
   "source": [
    "# from ..stategies.Simple import  firstStrategy\n",
    "# strategie = firstStrategy\n",
    "from stategies.Simple import firstStrategy as strategie\n"
   ]
  },
  {
   "cell_type": "code",
   "execution_count": 27,
   "metadata": {},
   "outputs": [],
   "source": [
    "\n",
    "\n",
    "# Variable for our starting cash\n",
    "startcash = 10000\n",
    "\n",
    "# Create an instance of cerebro\n",
    "cerebro = bt.Cerebro()\n",
    "# Add our strategy\n",
    "cerebro.addstrategy(strategie)\n",
    "# Add the data to Cerebro\n",
    "cerebro.adddata(data)\n",
    "# setting broker commission to 0.2%\n",
    "cerebro.broker.setcommission(commission=0.002)\n",
    "# Set our desired cash start\n",
    "cerebro.broker.setcash(startcash)\n"
   ]
  },
  {
   "cell_type": "code",
   "execution_count": 28,
   "metadata": {},
   "outputs": [
    {
     "data": {
      "text/plain": [
       "[<stategies.Simple.firstStrategy at 0x7f3e812d3a60>]"
      ]
     },
     "execution_count": 28,
     "metadata": {},
     "output_type": "execute_result"
    }
   ],
   "source": [
    "# Run over everything\n",
    "cerebro.run()"
   ]
  },
  {
   "cell_type": "code",
   "execution_count": 29,
   "metadata": {},
   "outputs": [
    {
     "name": "stdout",
     "output_type": "stream",
     "text": [
      "Final Portfolio Value: $998850.8599999998\n",
      "P/L: $-1149.1400000002468\n"
     ]
    }
   ],
   "source": [
    "portvalue = cerebro.broker.getvalue()\n",
    "pnl = portvalue - startcash\n",
    "\n",
    "# Printing out the final result\n",
    "print('Final Portfolio Value: ${}'.format(portvalue))\n",
    "print('P/L: ${}'.format(pnl))"
   ]
  }
 ],
 "metadata": {
  "kernelspec": {
   "display_name": ".venv",
   "language": "python",
   "name": "python3"
  },
  "language_info": {
   "codemirror_mode": {
    "name": "ipython",
    "version": 3
   },
   "file_extension": ".py",
   "mimetype": "text/x-python",
   "name": "python",
   "nbconvert_exporter": "python",
   "pygments_lexer": "ipython3",
   "version": "3.10.12"
  }
 },
 "nbformat": 4,
 "nbformat_minor": 2
}
