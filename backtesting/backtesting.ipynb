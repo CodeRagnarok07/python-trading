{
 "cells": [
  {
   "cell_type": "code",
   "execution_count": 3,
   "metadata": {},
   "outputs": [
    {
     "name": "stdout",
     "output_type": "stream",
     "text": [
      "Requirement already satisfied: yfinance in /root/p/trading/.venv/lib/python3.10/site-packages (0.2.40)\n",
      "Requirement already satisfied: beautifulsoup4>=4.11.1 in /root/p/trading/.venv/lib/python3.10/site-packages (from yfinance) (4.12.3)\n",
      "Requirement already satisfied: lxml>=4.9.1 in /root/p/trading/.venv/lib/python3.10/site-packages (from yfinance) (5.2.2)\n",
      "Requirement already satisfied: platformdirs>=2.0.0 in /root/p/trading/.venv/lib/python3.10/site-packages (from yfinance) (4.2.2)\n",
      "Requirement already satisfied: pandas>=1.3.0 in /root/p/trading/.venv/lib/python3.10/site-packages (from yfinance) (2.2.2)\n",
      "Requirement already satisfied: frozendict>=2.3.4 in /root/p/trading/.venv/lib/python3.10/site-packages (from yfinance) (2.4.4)\n",
      "Requirement already satisfied: html5lib>=1.1 in /root/p/trading/.venv/lib/python3.10/site-packages (from yfinance) (1.1)\n",
      "Requirement already satisfied: requests>=2.31 in /root/p/trading/.venv/lib/python3.10/site-packages (from yfinance) (2.32.3)\n",
      "Requirement already satisfied: multitasking>=0.0.7 in /root/p/trading/.venv/lib/python3.10/site-packages (from yfinance) (0.0.11)\n",
      "Requirement already satisfied: peewee>=3.16.2 in /root/p/trading/.venv/lib/python3.10/site-packages (from yfinance) (3.17.5)\n",
      "Requirement already satisfied: pytz>=2022.5 in /root/p/trading/.venv/lib/python3.10/site-packages (from yfinance) (2024.1)\n",
      "Requirement already satisfied: numpy>=1.16.5 in /root/p/trading/.venv/lib/python3.10/site-packages (from yfinance) (1.26.4)\n",
      "Requirement already satisfied: soupsieve>1.2 in /root/p/trading/.venv/lib/python3.10/site-packages (from beautifulsoup4>=4.11.1->yfinance) (2.5)\n",
      "Requirement already satisfied: webencodings in /root/p/trading/.venv/lib/python3.10/site-packages (from html5lib>=1.1->yfinance) (0.5.1)\n",
      "Requirement already satisfied: six>=1.9 in /root/p/trading/.venv/lib/python3.10/site-packages (from html5lib>=1.1->yfinance) (1.16.0)\n",
      "Requirement already satisfied: python-dateutil>=2.8.2 in /root/p/trading/.venv/lib/python3.10/site-packages (from pandas>=1.3.0->yfinance) (2.9.0.post0)\n",
      "Requirement already satisfied: tzdata>=2022.7 in /root/p/trading/.venv/lib/python3.10/site-packages (from pandas>=1.3.0->yfinance) (2024.1)\n",
      "Requirement already satisfied: urllib3<3,>=1.21.1 in /root/p/trading/.venv/lib/python3.10/site-packages (from requests>=2.31->yfinance) (2.2.1)\n",
      "Requirement already satisfied: charset-normalizer<4,>=2 in /root/p/trading/.venv/lib/python3.10/site-packages (from requests>=2.31->yfinance) (3.3.2)\n",
      "Requirement already satisfied: idna<4,>=2.5 in /root/p/trading/.venv/lib/python3.10/site-packages (from requests>=2.31->yfinance) (3.7)\n",
      "Requirement already satisfied: certifi>=2017.4.17 in /root/p/trading/.venv/lib/python3.10/site-packages (from requests>=2.31->yfinance) (2024.6.2)\n",
      "Note: you may need to restart the kernel to use updated packages.\n",
      "Requirement already satisfied: backtesting in /root/p/trading/.venv/lib/python3.10/site-packages (0.3.3)\n",
      "Requirement already satisfied: numpy>=1.17.0 in /root/p/trading/.venv/lib/python3.10/site-packages (from backtesting) (1.26.4)\n",
      "Requirement already satisfied: bokeh>=1.4.0 in /root/p/trading/.venv/lib/python3.10/site-packages (from backtesting) (3.4.1)\n",
      "Requirement already satisfied: pandas!=0.25.0,>=0.25.0 in /root/p/trading/.venv/lib/python3.10/site-packages (from backtesting) (2.2.2)\n",
      "Requirement already satisfied: Jinja2>=2.9 in /root/p/trading/.venv/lib/python3.10/site-packages (from bokeh>=1.4.0->backtesting) (3.1.4)\n",
      "Requirement already satisfied: packaging>=16.8 in /root/p/trading/.venv/lib/python3.10/site-packages (from bokeh>=1.4.0->backtesting) (24.1)\n",
      "Requirement already satisfied: PyYAML>=3.10 in /root/p/trading/.venv/lib/python3.10/site-packages (from bokeh>=1.4.0->backtesting) (6.0.1)\n",
      "Requirement already satisfied: tornado>=6.2 in /root/p/trading/.venv/lib/python3.10/site-packages (from bokeh>=1.4.0->backtesting) (6.4.1)\n",
      "Requirement already satisfied: pillow>=7.1.0 in /root/p/trading/.venv/lib/python3.10/site-packages (from bokeh>=1.4.0->backtesting) (10.3.0)\n",
      "Requirement already satisfied: contourpy>=1.2 in /root/p/trading/.venv/lib/python3.10/site-packages (from bokeh>=1.4.0->backtesting) (1.2.1)\n",
      "Requirement already satisfied: xyzservices>=2021.09.1 in /root/p/trading/.venv/lib/python3.10/site-packages (from bokeh>=1.4.0->backtesting) (2024.6.0)\n",
      "Requirement already satisfied: tzdata>=2022.7 in /root/p/trading/.venv/lib/python3.10/site-packages (from pandas!=0.25.0,>=0.25.0->backtesting) (2024.1)\n",
      "Requirement already satisfied: pytz>=2020.1 in /root/p/trading/.venv/lib/python3.10/site-packages (from pandas!=0.25.0,>=0.25.0->backtesting) (2024.1)\n",
      "Requirement already satisfied: python-dateutil>=2.8.2 in /root/p/trading/.venv/lib/python3.10/site-packages (from pandas!=0.25.0,>=0.25.0->backtesting) (2.9.0.post0)\n",
      "Requirement already satisfied: MarkupSafe>=2.0 in /root/p/trading/.venv/lib/python3.10/site-packages (from Jinja2>=2.9->bokeh>=1.4.0->backtesting) (2.1.5)\n",
      "Requirement already satisfied: six>=1.5 in /root/p/trading/.venv/lib/python3.10/site-packages (from python-dateutil>=2.8.2->pandas!=0.25.0,>=0.25.0->backtesting) (1.16.0)\n",
      "Note: you may need to restart the kernel to use updated packages.\n",
      "Collecting TA-Lib\n",
      "  Using cached TA-Lib-0.4.30.tar.gz (368 kB)\n",
      "  Installing build dependencies ... \u001b[?25ldone\n",
      "\u001b[?25h  Getting requirements to build wheel ... \u001b[?25ldone\n",
      "\u001b[?25h  Installing backend dependencies ... \u001b[?25ldone\n",
      "\u001b[?25h  Preparing metadata (pyproject.toml) ... \u001b[?25ldone\n",
      "\u001b[?25hRequirement already satisfied: numpy in /root/p/trading/.venv/lib/python3.10/site-packages (from TA-Lib) (1.26.4)\n",
      "Building wheels for collected packages: TA-Lib\n",
      "  Building wheel for TA-Lib (pyproject.toml) ... \u001b[?25lerror\n",
      "  \u001b[1;31merror\u001b[0m: \u001b[1msubprocess-exited-with-error\u001b[0m\n",
      "  \n",
      "  \u001b[31m×\u001b[0m \u001b[32mBuilding wheel for TA-Lib \u001b[0m\u001b[1;32m(\u001b[0m\u001b[32mpyproject.toml\u001b[0m\u001b[1;32m)\u001b[0m did not run successfully.\n",
      "  \u001b[31m│\u001b[0m exit code: \u001b[1;36m1\u001b[0m\n",
      "  \u001b[31m╰─>\u001b[0m \u001b[31m[21 lines of output]\u001b[0m\n",
      "  \u001b[31m   \u001b[0m <string>:75: UserWarning: Cannot find ta-lib library, installation may fail.\n",
      "  \u001b[31m   \u001b[0m running bdist_wheel\n",
      "  \u001b[31m   \u001b[0m running build\n",
      "  \u001b[31m   \u001b[0m running build_py\n",
      "  \u001b[31m   \u001b[0m creating build\n",
      "  \u001b[31m   \u001b[0m creating build/lib.linux-x86_64-cpython-310\n",
      "  \u001b[31m   \u001b[0m creating build/lib.linux-x86_64-cpython-310/talib\n",
      "  \u001b[31m   \u001b[0m copying talib/abstract.py -> build/lib.linux-x86_64-cpython-310/talib\n",
      "  \u001b[31m   \u001b[0m copying talib/stream.py -> build/lib.linux-x86_64-cpython-310/talib\n",
      "  \u001b[31m   \u001b[0m copying talib/deprecated.py -> build/lib.linux-x86_64-cpython-310/talib\n",
      "  \u001b[31m   \u001b[0m copying talib/__init__.py -> build/lib.linux-x86_64-cpython-310/talib\n",
      "  \u001b[31m   \u001b[0m running build_ext\n",
      "  \u001b[31m   \u001b[0m building 'talib._ta_lib' extension\n",
      "  \u001b[31m   \u001b[0m creating build/temp.linux-x86_64-cpython-310\n",
      "  \u001b[31m   \u001b[0m creating build/temp.linux-x86_64-cpython-310/talib\n",
      "  \u001b[31m   \u001b[0m x86_64-linux-gnu-gcc -Wno-unused-result -Wsign-compare -DNDEBUG -g -fwrapv -O2 -Wall -g -fstack-protector-strong -Wformat -Werror=format-security -g -fwrapv -O2 -fPIC -I/usr/include -I/usr/local/include -I/opt/include -I/opt/local/include -I/opt/homebrew/include -I/opt/homebrew/opt/ta-lib/include -I/tmp/pip-build-env-z_rm95ix/normal/lib/python3.10/site-packages/numpy/core/include -I/root/p/trading/.venv/include -I/usr/include/python3.10 -c talib/_ta_lib.c -o build/temp.linux-x86_64-cpython-310/talib/_ta_lib.o\n",
      "  \u001b[31m   \u001b[0m talib/_ta_lib.c:1225:10: fatal error: ta-lib/ta_defs.h: No such file or directory\n",
      "  \u001b[31m   \u001b[0m  1225 | #include \"ta-lib/ta_defs.h\"\n",
      "  \u001b[31m   \u001b[0m       |          ^~~~~~~~~~~~~~~~~~\n",
      "  \u001b[31m   \u001b[0m compilation terminated.\n",
      "  \u001b[31m   \u001b[0m error: command '/usr/bin/x86_64-linux-gnu-gcc' failed with exit code 1\n",
      "  \u001b[31m   \u001b[0m \u001b[31m[end of output]\u001b[0m\n",
      "  \n",
      "  \u001b[1;35mnote\u001b[0m: This error originates from a subprocess, and is likely not a problem with pip.\n",
      "\u001b[?25h\u001b[31m  ERROR: Failed building wheel for TA-Lib\u001b[0m\u001b[31m\n",
      "\u001b[0mFailed to build TA-Lib\n",
      "\u001b[31mERROR: Could not build wheels for TA-Lib, which is required to install pyproject.toml-based projects\u001b[0m\u001b[31m\n",
      "\u001b[0mNote: you may need to restart the kernel to use updated packages.\n"
     ]
    }
   ],
   "source": [
    "# Lib Installs\n",
    "%pip install yfinance\n",
    "%pip install backtesting\n",
    "%pip install TA-Lib"
   ]
  },
  {
   "cell_type": "code",
   "execution_count": 2,
   "metadata": {},
   "outputs": [
    {
     "ename": "ModuleNotFoundError",
     "evalue": "No module named 'talib'",
     "output_type": "error",
     "traceback": [
      "\u001b[0;31m---------------------------------------------------------------------------\u001b[0m",
      "\u001b[0;31mModuleNotFoundError\u001b[0m                       Traceback (most recent call last)",
      "Cell \u001b[0;32mIn[2], line 7\u001b[0m\n\u001b[1;32m      3\u001b[0m \u001b[38;5;28;01mfrom\u001b[39;00m \u001b[38;5;21;01mbacktesting\u001b[39;00m\u001b[38;5;21;01m.\u001b[39;00m\u001b[38;5;21;01mlib\u001b[39;00m \u001b[38;5;28;01mimport\u001b[39;00m crossover,plot_heatmaps\n\u001b[1;32m      6\u001b[0m \u001b[38;5;28;01mimport\u001b[39;00m \u001b[38;5;21;01mnumpy\u001b[39;00m\n\u001b[0;32m----> 7\u001b[0m \u001b[38;5;28;01mimport\u001b[39;00m \u001b[38;5;21;01mtalib\u001b[39;00m\n\u001b[1;32m      8\u001b[0m \u001b[38;5;28;01mimport\u001b[39;00m \u001b[38;5;21;01mpandas\u001b[39;00m \u001b[38;5;28;01mas\u001b[39;00m \u001b[38;5;21;01mpd\u001b[39;00m\n",
      "\u001b[0;31mModuleNotFoundError\u001b[0m: No module named 'talib'"
     ]
    }
   ],
   "source": [
    "#Importamos las librerias\n",
    "from backtesting import Backtest, Strategy\n",
    "from backtesting.lib import crossover,plot_heatmaps\n",
    "\n",
    "\n",
    "import numpy\n",
    "import talib\n",
    "import pandas as pd"
   ]
  }
 ],
 "metadata": {
  "kernelspec": {
   "display_name": ".venv",
   "language": "python",
   "name": "python3"
  },
  "language_info": {
   "codemirror_mode": {
    "name": "ipython",
    "version": 3
   },
   "file_extension": ".py",
   "mimetype": "text/x-python",
   "name": "python",
   "nbconvert_exporter": "python",
   "pygments_lexer": "ipython3",
   "version": "3.10.12"
  }
 },
 "nbformat": 4,
 "nbformat_minor": 2
}
