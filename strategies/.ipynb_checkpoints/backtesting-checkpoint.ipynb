{
 "cells": [
  {
   "cell_type": "markdown",
   "metadata": {
    "scrolled": true
   },
   "source": []
  },
  {
   "cell_type": "markdown",
   "metadata": {
    "scrolled": true
   },
   "source": [
    "!pip install pandas\n",
    "!pip install backtesting \n",
    "!pip install numpy matplotlib"
   ]
  },
  {
   "cell_type": "code",
   "execution_count": 4,
   "metadata": {},
   "outputs": [],
   "source": [
    "# Paso 2: Importar las Librerías Necesarias\n",
    "import pandas as pd\n",
    "import numpy as np\n",
    "from backtesting import Backtest, Strategy\n",
    "from backtesting.lib import crossover\n",
    "# from backtesting.test import GOOG\n"
   ]
  },
  {
   "cell_type": "markdown",
   "metadata": {},
   "source": [
    "# Hol mundo"
   ]
  },
  {
   "cell_type": "code",
   "execution_count": 5,
   "metadata": {},
   "outputs": [],
   "source": [
    "# importar data \n",
    "datapath = '../data/BTCUSDT5m.csv'\n",
    "data = pd.read_csv(datapath, parse_dates=True, index_col=0, )\n",
    "data = (data / 1e6).assign(Volume=data.Volume * 1e6)  # μBTC OHLC prices\n"
   ]
  },
  {
   "cell_type": "code",
   "execution_count": 6,
   "metadata": {},
   "outputs": [],
   "source": [
    "#### Indicadores"
   ]
  },
  {
   "cell_type": "code",
   "execution_count": 7,
   "metadata": {},
   "outputs": [],
   "source": [
    "# version 1\n",
    "\n",
    "def SMA(df, n):\n",
    "    \"\"\"Simple moving average\"\"\"\n",
    "    return pd.Series(df).rolling(n).mean()\n",
    "\n",
    "# Calcular la Media Móvil Exponencial (EMA)\n",
    "def EMA(df, n):\n",
    "    \"\"\"Simple moving average\"\"\"\n",
    "    return pd.Series(df).ewm(span=n, adjust=False).mean()\n",
    "\n",
    "\n",
    "def RSI(df, n):\n",
    "    \"\"\"Relative strength index\"\"\"\n",
    "    # Approximate; good enough\n",
    "    gain = pd.Series(df).diff()\n",
    "    loss = gain.copy()\n",
    "    gain[gain < 0] = 0\n",
    "    loss[loss > 0] = 0\n",
    "    rs = gain.ewm(n).mean() / loss.abs().ewm(n).mean()\n",
    "    return 100 - 100 / (1 + rs)\n",
    "\n",
    "def BBANDS(df, n_lookback, n_std):\n",
    "    \"\"\"Bollinger bands indicator\"\"\"\n",
    "    hlc3 = (df.High + df.Low + df.Close) / 3\n",
    "    mean, std = hlc3.rolling(n_lookback).mean(), hlc3.rolling(n_lookback).std()\n",
    "    upper = mean + n_std*std\n",
    "    lower = mean - n_std*std\n",
    "    return upper, lower"
   ]
  },
  {
   "cell_type": "code",
   "execution_count": 23,
   "metadata": {},
   "outputs": [
    {
     "ename": "KeyError",
     "evalue": "'Close'",
     "output_type": "error",
     "traceback": [
      "\u001b[0;31m---------------------------------------------------------------------------\u001b[0m",
      "\u001b[0;31mDateParseError\u001b[0m                            Traceback (most recent call last)",
      "File \u001b[0;32m~/.local/lib/python3.10/site-packages/pandas/core/indexes/datetimes.py:603\u001b[0m, in \u001b[0;36mDatetimeIndex.get_loc\u001b[0;34m(self, key)\u001b[0m\n\u001b[1;32m    602\u001b[0m \u001b[38;5;28;01mtry\u001b[39;00m:\n\u001b[0;32m--> 603\u001b[0m     parsed, reso \u001b[38;5;241m=\u001b[39m \u001b[38;5;28;43mself\u001b[39;49m\u001b[38;5;241;43m.\u001b[39;49m\u001b[43m_parse_with_reso\u001b[49m\u001b[43m(\u001b[49m\u001b[43mkey\u001b[49m\u001b[43m)\u001b[49m\n\u001b[1;32m    604\u001b[0m \u001b[38;5;28;01mexcept\u001b[39;00m (\u001b[38;5;167;01mValueError\u001b[39;00m, pytz\u001b[38;5;241m.\u001b[39mNonExistentTimeError) \u001b[38;5;28;01mas\u001b[39;00m err:\n",
      "File \u001b[0;32m~/.local/lib/python3.10/site-packages/pandas/core/indexes/datetimes.py:559\u001b[0m, in \u001b[0;36mDatetimeIndex._parse_with_reso\u001b[0;34m(self, label)\u001b[0m\n\u001b[1;32m    558\u001b[0m \u001b[38;5;28;01mdef\u001b[39;00m \u001b[38;5;21m_parse_with_reso\u001b[39m(\u001b[38;5;28mself\u001b[39m, label: \u001b[38;5;28mstr\u001b[39m):\n\u001b[0;32m--> 559\u001b[0m     parsed, reso \u001b[38;5;241m=\u001b[39m \u001b[38;5;28;43msuper\u001b[39;49m\u001b[43m(\u001b[49m\u001b[43m)\u001b[49m\u001b[38;5;241;43m.\u001b[39;49m\u001b[43m_parse_with_reso\u001b[49m\u001b[43m(\u001b[49m\u001b[43mlabel\u001b[49m\u001b[43m)\u001b[49m\n\u001b[1;32m    561\u001b[0m     parsed \u001b[38;5;241m=\u001b[39m Timestamp(parsed)\n",
      "File \u001b[0;32m~/.local/lib/python3.10/site-packages/pandas/core/indexes/datetimelike.py:293\u001b[0m, in \u001b[0;36mDatetimeIndexOpsMixin._parse_with_reso\u001b[0;34m(self, label)\u001b[0m\n\u001b[1;32m    291\u001b[0m     label \u001b[38;5;241m=\u001b[39m \u001b[38;5;28mstr\u001b[39m(label)\n\u001b[0;32m--> 293\u001b[0m parsed, reso_str \u001b[38;5;241m=\u001b[39m \u001b[43mparsing\u001b[49m\u001b[38;5;241;43m.\u001b[39;49m\u001b[43mparse_datetime_string_with_reso\u001b[49m\u001b[43m(\u001b[49m\u001b[43mlabel\u001b[49m\u001b[43m,\u001b[49m\u001b[43m \u001b[49m\u001b[43mfreqstr\u001b[49m\u001b[43m)\u001b[49m\n\u001b[1;32m    294\u001b[0m reso \u001b[38;5;241m=\u001b[39m Resolution\u001b[38;5;241m.\u001b[39mfrom_attrname(reso_str)\n",
      "File \u001b[0;32mparsing.pyx:442\u001b[0m, in \u001b[0;36mpandas._libs.tslibs.parsing.parse_datetime_string_with_reso\u001b[0;34m()\u001b[0m\n",
      "File \u001b[0;32mparsing.pyx:666\u001b[0m, in \u001b[0;36mpandas._libs.tslibs.parsing.dateutil_parse\u001b[0;34m()\u001b[0m\n",
      "\u001b[0;31mDateParseError\u001b[0m: Unknown datetime string format, unable to parse: Close",
      "\nThe above exception was the direct cause of the following exception:\n",
      "\u001b[0;31mKeyError\u001b[0m                                  Traceback (most recent call last)",
      "Cell \u001b[0;32mIn[23], line 6\u001b[0m\n\u001b[1;32m      1\u001b[0m \u001b[38;5;66;03m# p1d5m = data[100:500]\u001b[39;00m\n\u001b[1;32m      3\u001b[0m ma_50 \u001b[38;5;241m=\u001b[39m EMA(data[\u001b[38;5;124m\"\u001b[39m\u001b[38;5;124mClose\u001b[39m\u001b[38;5;124m\"\u001b[39m], \u001b[38;5;241m50\u001b[39m)\n\u001b[0;32m----> 6\u001b[0m ptl \u001b[38;5;241m=\u001b[39m data[[\u001b[38;5;124m\"\u001b[39m\u001b[38;5;124mClose\u001b[39m\u001b[38;5;124m\"\u001b[39m, \u001b[38;5;124m\"\u001b[39m\u001b[38;5;124mOpen\u001b[39m\u001b[38;5;124m\"\u001b[39m]] \u001b[38;5;241m+\u001b[39m \u001b[43mma_50\u001b[49m\u001b[43m[\u001b[49m\u001b[38;5;124;43m\"\u001b[39;49m\u001b[38;5;124;43mClose\u001b[39;49m\u001b[38;5;124;43m\"\u001b[39;49m\u001b[43m]\u001b[49m\n\u001b[1;32m      7\u001b[0m \u001b[38;5;66;03m# ptl.insert(0,\"ma_50\",)[] = ma_50[\"Close\"]\u001b[39;00m\n\u001b[1;32m      9\u001b[0m ptl\u001b[38;5;66;03m#.plot(figsize=(20,15 ))\u001b[39;00m\n",
      "File \u001b[0;32m~/.local/lib/python3.10/site-packages/pandas/core/series.py:1121\u001b[0m, in \u001b[0;36mSeries.__getitem__\u001b[0;34m(self, key)\u001b[0m\n\u001b[1;32m   1118\u001b[0m     \u001b[38;5;28;01mreturn\u001b[39;00m \u001b[38;5;28mself\u001b[39m\u001b[38;5;241m.\u001b[39m_values[key]\n\u001b[1;32m   1120\u001b[0m \u001b[38;5;28;01melif\u001b[39;00m key_is_scalar:\n\u001b[0;32m-> 1121\u001b[0m     \u001b[38;5;28;01mreturn\u001b[39;00m \u001b[38;5;28;43mself\u001b[39;49m\u001b[38;5;241;43m.\u001b[39;49m\u001b[43m_get_value\u001b[49m\u001b[43m(\u001b[49m\u001b[43mkey\u001b[49m\u001b[43m)\u001b[49m\n\u001b[1;32m   1123\u001b[0m \u001b[38;5;66;03m# Convert generator to list before going through hashable part\u001b[39;00m\n\u001b[1;32m   1124\u001b[0m \u001b[38;5;66;03m# (We will iterate through the generator there to check for slices)\u001b[39;00m\n\u001b[1;32m   1125\u001b[0m \u001b[38;5;28;01mif\u001b[39;00m is_iterator(key):\n",
      "File \u001b[0;32m~/.local/lib/python3.10/site-packages/pandas/core/series.py:1237\u001b[0m, in \u001b[0;36mSeries._get_value\u001b[0;34m(self, label, takeable)\u001b[0m\n\u001b[1;32m   1234\u001b[0m     \u001b[38;5;28;01mreturn\u001b[39;00m \u001b[38;5;28mself\u001b[39m\u001b[38;5;241m.\u001b[39m_values[label]\n\u001b[1;32m   1236\u001b[0m \u001b[38;5;66;03m# Similar to Index.get_value, but we do not fall back to positional\u001b[39;00m\n\u001b[0;32m-> 1237\u001b[0m loc \u001b[38;5;241m=\u001b[39m \u001b[38;5;28;43mself\u001b[39;49m\u001b[38;5;241;43m.\u001b[39;49m\u001b[43mindex\u001b[49m\u001b[38;5;241;43m.\u001b[39;49m\u001b[43mget_loc\u001b[49m\u001b[43m(\u001b[49m\u001b[43mlabel\u001b[49m\u001b[43m)\u001b[49m\n\u001b[1;32m   1239\u001b[0m \u001b[38;5;28;01mif\u001b[39;00m is_integer(loc):\n\u001b[1;32m   1240\u001b[0m     \u001b[38;5;28;01mreturn\u001b[39;00m \u001b[38;5;28mself\u001b[39m\u001b[38;5;241m.\u001b[39m_values[loc]\n",
      "File \u001b[0;32m~/.local/lib/python3.10/site-packages/pandas/core/indexes/datetimes.py:605\u001b[0m, in \u001b[0;36mDatetimeIndex.get_loc\u001b[0;34m(self, key)\u001b[0m\n\u001b[1;32m    603\u001b[0m     parsed, reso \u001b[38;5;241m=\u001b[39m \u001b[38;5;28mself\u001b[39m\u001b[38;5;241m.\u001b[39m_parse_with_reso(key)\n\u001b[1;32m    604\u001b[0m \u001b[38;5;28;01mexcept\u001b[39;00m (\u001b[38;5;167;01mValueError\u001b[39;00m, pytz\u001b[38;5;241m.\u001b[39mNonExistentTimeError) \u001b[38;5;28;01mas\u001b[39;00m err:\n\u001b[0;32m--> 605\u001b[0m     \u001b[38;5;28;01mraise\u001b[39;00m \u001b[38;5;167;01mKeyError\u001b[39;00m(key) \u001b[38;5;28;01mfrom\u001b[39;00m \u001b[38;5;21;01merr\u001b[39;00m\n\u001b[1;32m    606\u001b[0m \u001b[38;5;28mself\u001b[39m\u001b[38;5;241m.\u001b[39m_disallow_mismatched_indexing(parsed)\n\u001b[1;32m    608\u001b[0m \u001b[38;5;28;01mif\u001b[39;00m \u001b[38;5;28mself\u001b[39m\u001b[38;5;241m.\u001b[39m_can_partial_date_slice(reso):\n",
      "\u001b[0;31mKeyError\u001b[0m: 'Close'"
     ]
    }
   ],
   "source": [
    "# p1d5m = data[100:500]\n",
    "\n",
    "ma_50 = EMA(data[\"Close\"], 50)\n",
    "\n",
    "\n",
    "ptl = data[[\"Close\", \"Open\"]] + ma_50[[\"Close\"]]\n",
    "# ptl.insert(0,\"ma_50\",)[] = ma_50[\"Close\"]\n",
    " \n",
    "ptl#.plot(figsize=(20,15 ))\n",
    "\n"
   ]
  },
  {
   "cell_type": "code",
   "execution_count": 16,
   "metadata": {},
   "outputs": [],
   "source": [
    "# Version 2\n",
    "def SMA(df, n):\n",
    "    \"\"\"Simple moving average\"\"\"\n",
    "    return pd.Series(pd.Series.rolling(df[\"Close\"], n).mean(), name=\"MA_\" + str(n))\n",
    "\n",
    "def EMA(df, n):\n",
    "    return pd.Series(pd.Series.ewm(df[\"Close\"], span=n, min_periods=n-1, adjust=False).mean(), name=\"EMA_\" + str(n))"
   ]
  },
  {
   "cell_type": "markdown",
   "metadata": {},
   "source": [
    "## Estrategias"
   ]
  },
  {
   "cell_type": "markdown",
   "metadata": {},
   "source": [
    "### Mean Reversion // quemada!"
   ]
  },
  {
   "cell_type": "code",
   "execution_count": 12,
   "metadata": {},
   "outputs": [],
   "source": [
    "\n",
    "class MeanReversionStrategy(Strategy):\n",
    "    slPercent = .99\n",
    "    # maL = 20\n",
    "    maTb = 5\n",
    "    maBb = 25\n",
    "\n",
    "    def init(self):\n",
    "        # Inicializa las Bandas de Bollinger\n",
    "        price = self.data.Close\n",
    "      \n",
    "        # self.ma = self.I(SMA, price, self.maL)  # Media Móvil Simple de 20 períodos\n",
    "        self.upper_band = self.I(SMA, price, self.maTb)  # Media Móvil Simple de 20 períodos\n",
    "        self.lower_band = self.I(SMA, price, self.maBb)  # Media Móvil Simple de 20 períodos\n",
    "\n",
    "\n",
    "    def next(self):\n",
    "        price = self.data.Close[-1]\n",
    "\n",
    "        # Señal de compra: el precio cruza por debajo de la banda inferior\n",
    "        if crossover(self.lower_band, price):\n",
    "            self.buy(sl = price * self.slPercent)\n",
    "\n",
    "        # Señal de venta: el precio cruza por encima de la banda superior\n",
    "        elif crossover(price, self.upper_band):\n",
    "            self.buy(sl = price * self.slPercent)\n",
    "\n"
   ]
  },
  {
   "cell_type": "markdown",
   "metadata": {},
   "source": [
    "###### Optimizacion"
   ]
  },
  {
   "cell_type": "code",
   "execution_count": 19,
   "metadata": {
    "editable": true,
    "slideshow": {
     "slide_type": ""
    },
    "tags": []
   },
   "outputs": [
    {
     "data": {
      "text/plain": [
       "Start                     2023-05-01 00:00:00\n",
       "End                       2024-06-17 02:30:00\n",
       "Duration                    413 days 02:30:00\n",
       "Exposure Time [%]                   99.143534\n",
       "Equity Final [$]                   228.637236\n",
       "Equity Peak [$]                     254.02382\n",
       "Return [%]                         128.637236\n",
       "Buy & Hold Return [%]              126.408849\n",
       "Return (Ann.) [%]                  109.532647\n",
       "Volatility (Ann.) [%]              102.344791\n",
       "Sharpe Ratio                         1.070232\n",
       "Sortino Ratio                        3.820008\n",
       "Calmar Ratio                         4.785032\n",
       "Max. Drawdown [%]                  -22.890681\n",
       "Avg. Drawdown [%]                   -1.404852\n",
       "Max. Drawdown Duration      102 days 01:00:00\n",
       "Avg. Drawdown Duration        1 days 21:33:00\n",
       "# Trades                                   13\n",
       "Win Rate [%]                         7.692308\n",
       "Best Trade [%]                     164.209183\n",
       "Worst Trade [%]                     -1.197643\n",
       "Avg. Trade [%]                       6.568163\n",
       "Max. Trade Duration         367 days 20:05:00\n",
       "Avg. Trade Duration          31 days 12:04:00\n",
       "Profit Factor                       11.426162\n",
       "Expectancy [%]                      11.525988\n",
       "SQN                                  0.898186\n",
       "_strategy                 MeanReversionStr...\n",
       "_equity_curve                             ...\n",
       "_trades                       Size  EntryB...\n",
       "dtype: object"
      ]
     },
     "execution_count": 19,
     "metadata": {},
     "output_type": "execute_result"
    }
   ],
   "source": [
    "bt = Backtest(data, MeanReversionStrategy, cash=100, commission=.002)\n",
    "\n",
    "stats, heat = bt.optimize(\n",
    "    #slPercent=[.99,.98,.97,.96,.95,.94],\n",
    "    \n",
    "    maTb=range(20, 40),\n",
    "    maBb=range(5, 20),\n",
    "    maximize = \"Return [%]\",\n",
    "    return_heatmap=True\n",
    "    )\n",
    "\n",
    "stats\n"
   ]
  },
  {
   "cell_type": "code",
   "execution_count": 14,
   "metadata": {},
   "outputs": [
    {
     "data": {
      "text/plain": [
       "<Strategy MeanReversionStrategy(maTb=38,maBb=18)>"
      ]
     },
     "execution_count": 14,
     "metadata": {},
     "output_type": "execute_result"
    }
   ],
   "source": [
    "stats[\"_strategy\"]"
   ]
  },
  {
   "cell_type": "markdown",
   "metadata": {},
   "source": [
    "###### Final"
   ]
  },
  {
   "cell_type": "code",
   "execution_count": 18,
   "metadata": {},
   "outputs": [
    {
     "data": {
      "text/plain": [
       "Start                     2023-05-01 00:00:00\n",
       "End                       2024-06-17 02:30:00\n",
       "Duration                    413 days 02:30:00\n",
       "Exposure Time [%]                   98.825298\n",
       "Equity Final [$]                    226.59091\n",
       "Equity Peak [$]                    251.749382\n",
       "Return [%]                          126.59091\n",
       "Buy & Hold Return [%]              126.408849\n",
       "Return (Ann.) [%]                  105.682279\n",
       "Volatility (Ann.) [%]               99.896094\n",
       "Sharpe Ratio                         1.057922\n",
       "Sortino Ratio                        3.684059\n",
       "Calmar Ratio                         4.616974\n",
       "Max. Drawdown [%]                  -22.889945\n",
       "Avg. Drawdown [%]                   -1.395902\n",
       "Max. Drawdown Duration      102 days 01:00:00\n",
       "Avg. Drawdown Duration        1 days 21:31:00\n",
       "# Trades                                   14\n",
       "Win Rate [%]                         7.142857\n",
       "Best Trade [%]                      165.03375\n",
       "Worst Trade [%]                     -1.197643\n",
       "Avg. Trade [%]                       6.017375\n",
       "Max. Trade Duration         367 days 13:30:00\n",
       "Avg. Trade Duration          29 days 03:47:00\n",
       "Profit Factor                       10.600297\n",
       "Expectancy [%]                      10.676069\n",
       "SQN                                  0.890216\n",
       "_strategy                 MeanReversionStr...\n",
       "_equity_curve                             ...\n",
       "_trades                       Size  EntryB...\n",
       "dtype: object"
      ]
     },
     "execution_count": 18,
     "metadata": {},
     "output_type": "execute_result"
    }
   ],
   "source": [
    "\n",
    "class MeanReversionStrategyOptimized(MeanReversionStrategy):\n",
    "    maTb=38\n",
    "    maBb=18\n",
    "    \n",
    "bt = Backtest(data, MeanReversionStrategyOptimized, cash=100, commission=.002)\n",
    "stats = bt.run()\n",
    "stats"
   ]
  },
  {
   "cell_type": "markdown",
   "metadata": {
    "jp-MarkdownHeadingCollapsed": true
   },
   "source": [
    "### RSI cross strategy"
   ]
  },
  {
   "cell_type": "code",
   "execution_count": 15,
   "metadata": {},
   "outputs": [],
   "source": [
    "# RSI cross strategy\n",
    "class RSIcross(Strategy):\n",
    "  rsi_period = 17 \n",
    "  slPercent = 0.99\n",
    " \n",
    "  def init(self):\n",
    "    price = self.data.Close\n",
    "    self.rsi = self.I(RSI, price ,self.rsi_period)\n",
    "\n",
    "\n",
    "  def next(self):\n",
    "    price = self.data.Close[-1]\n",
    "\n",
    "    if self.rsi[-1] < 30:\n",
    "      self.position.close()\n",
    "\n",
    "    if self.position.is_long:\n",
    "      return\n",
    "\n",
    "    self.buy(sl = price * self.slPercent)\n",
    "\n"
   ]
  },
  {
   "cell_type": "code",
   "execution_count": 16,
   "metadata": {},
   "outputs": [
    {
     "data": {
      "text/plain": [
       "Start                     2023-05-01 00:00:00\n",
       "End                       2023-06-04 16:30:00\n",
       "Duration                     34 days 16:30:00\n",
       "Exposure Time [%]                       99.97\n",
       "Equity Final [$]                    36.846565\n",
       "Equity Peak [$]                     40.869775\n",
       "Return [%]                          -7.883588\n",
       "Buy & Hold Return [%]                -7.20623\n",
       "Return (Ann.) [%]                  -35.975377\n",
       "Volatility (Ann.) [%]               20.404506\n",
       "Sharpe Ratio                              0.0\n",
       "Sortino Ratio                             0.0\n",
       "Calmar Ratio                              0.0\n",
       "Max. Drawdown [%]                  -13.306695\n",
       "Avg. Drawdown [%]                   -2.543949\n",
       "Max. Drawdown Duration       29 days 15:55:00\n",
       "Avg. Drawdown Duration        3 days 11:13:00\n",
       "# Trades                                  136\n",
       "Win Rate [%]                        30.147059\n",
       "Best Trade [%]                       4.620728\n",
       "Worst Trade [%]                     -1.000038\n",
       "Avg. Trade [%]                      -0.060404\n",
       "Max. Trade Duration           3 days 04:10:00\n",
       "Avg. Trade Duration           0 days 06:03:00\n",
       "Profit Factor                        0.773147\n",
       "Expectancy [%]                      -0.057206\n",
       "SQN                                 -0.904996\n",
       "_strategy                            RSIcross\n",
       "_equity_curve                             ...\n",
       "_trades                        Size  Entry...\n",
       "dtype: object"
      ]
     },
     "execution_count": 16,
     "metadata": {},
     "output_type": "execute_result"
    }
   ],
   "source": [
    "bt = Backtest(data[:10000],RSIcross,cash = 40)\n",
    "stats = bt.run()\n",
    "stats\n"
   ]
  },
  {
   "cell_type": "code",
   "execution_count": 13,
   "metadata": {},
   "outputs": [
    {
     "name": "stdout",
     "output_type": "stream",
     "text": [
      "ALERTA [0.07152111 0.07144365 0.07138    ... 0.06659747 0.06660002 0.06662862] 14\n"
     ]
    },
    {
     "data": {
      "text/plain": [
       "Start                     2024-03-15 00:00:00\n",
       "End                       2024-06-16 13:05:00\n",
       "Duration                     93 days 13:05:00\n",
       "Exposure Time [%]                   99.592109\n",
       "Equity Final [$]                  9577.804032\n",
       "Equity Peak [$]                  11561.037835\n",
       "Return [%]                           -4.22196\n",
       "Buy & Hold Return [%]               -6.840624\n",
       "Return (Ann.) [%]                    4.261955\n",
       "Volatility (Ann.) [%]               78.714426\n",
       "Sharpe Ratio                         0.054145\n",
       "Sortino Ratio                        0.088049\n",
       "Calmar Ratio                         0.160761\n",
       "Max. Drawdown [%]                    -26.5112\n",
       "Avg. Drawdown [%]                   -3.004276\n",
       "Max. Drawdown Duration       45 days 19:55:00\n",
       "Avg. Drawdown Duration        2 days 15:50:00\n",
       "# Trades                                   12\n",
       "Win Rate [%]                        33.333333\n",
       "Best Trade [%]                      12.816323\n",
       "Worst Trade [%]                     -16.48854\n",
       "Avg. Trade [%]                      -4.257758\n",
       "Max. Trade Duration          93 days 03:55:00\n",
       "Avg. Trade Duration          54 days 22:55:00\n",
       "Profit Factor                        0.440138\n",
       "Expectancy [%]                      -3.759218\n",
       "SQN                                 -1.380379\n",
       "_strategy                 MomentumTradingS...\n",
       "_equity_curve                             ...\n",
       "_trades                         Size  Entr...\n",
       "dtype: object"
      ]
     },
     "execution_count": 13,
     "metadata": {},
     "output_type": "execute_result"
    }
   ],
   "source": [
    "# momentun\n",
    "\n",
    "import pandas as pd\n",
    "from backtesting import Backtest, Strategy\n",
    "from backtesting.lib import crossover\n",
    "\n",
    "\n",
    "\n",
    "# Identificar patrones de velas (ejemplo: Engulfing Pattern)\n",
    "def is_bullish_engulfing(data):\n",
    "    return (data['Open'].shift(1) > data['Close'].shift(1)) & (data['Close'] > data['Open']) & (data['Close'] > data['Open'].shift(1)) & (data['Open'] < data['Close'].shift(1))\n",
    "\n",
    "def is_bearish_engulfing(data):\n",
    "    return (data['Open'].shift(1) < data['Close'].shift(1)) & (data['Close'] < data['Open']) & (data['Close'] < data['Open'].shift(1)) & (data['Open'] > data['Close'].shift(1))\n",
    "\n",
    "\n",
    "class MomentumTradingStrategy(Strategy):\n",
    "    def init(self):\n",
    "        # Inicializar indicadores\n",
    "        self.sma_short = self.I(SMA, self.data.Close, 20)\n",
    "        self.sma_long = self.I(SMA, self.data.Close, 50)\n",
    "        self.rsi = self.I(RSI, self.data.Close, 14)\n",
    "        # self.bullish_engulfing = self.I(is_bullish_engulfing, self.data)\n",
    "        # self.bearish_engulfing = self.I(is_bearish_engulfing, self.data)\n",
    "\n",
    "    def next(self):\n",
    "        if crossover(self.sma_short, self.sma_long) and self.rsi[-1] > 50 :#and self.bullish_engulfing[-1]:\n",
    "            self.buy()\n",
    "        elif crossover(self.sma_long, self.sma_short) and self.rsi[-1] < 50:# and self.bearish_engulfing[-1]:\n",
    "            self.sell()\n",
    "\n",
    "# Ejecutar el backtest\n",
    "bt = Backtest(data, MomentumTradingStrategy, cash=10000, commission=.002)\n",
    "stats = bt.run()\n",
    "stats\n",
    "\n"
   ]
  },
  {
   "cell_type": "markdown",
   "metadata": {
    "jp-MarkdownHeadingCollapsed": true
   },
   "source": [
    "### system strategy"
   ]
  },
  {
   "cell_type": "code",
   "execution_count": 9,
   "metadata": {},
   "outputs": [
    {
     "name": "stdout",
     "output_type": "stream",
     "text": [
      "ALERTA [0.02929715 0.02931159 0.02929003 ... 0.06633001 0.06626999 0.06633134] 30\n",
      "ALERTA Date\n",
      "2023-05-05    0.029506\n",
      "2023-05-12    0.026795\n",
      "2023-05-19    0.026880\n",
      "2023-05-26    0.026706\n",
      "2023-06-02    0.027243\n",
      "2023-06-09    0.026478\n",
      "2023-06-16    0.026345\n",
      "2023-06-23    0.030689\n",
      "2023-06-30    0.030472\n",
      "2023-07-07    0.030345\n",
      "2023-07-14    0.030312\n",
      "2023-07-21    0.029902\n",
      "2023-07-28    0.029314\n",
      "2023-08-04    0.029114\n",
      "2023-08-11    0.029426\n",
      "2023-08-18    0.026054\n",
      "2023-08-25    0.026060\n",
      "2023-09-01    0.025805\n",
      "2023-09-08    0.025910\n",
      "2023-09-15    0.026600\n",
      "2023-09-22    0.026580\n",
      "2023-09-29    0.026907\n",
      "2023-10-06    0.027931\n",
      "2023-10-13    0.026862\n",
      "2023-10-20    0.029669\n",
      "2023-10-27    0.033892\n",
      "2023-11-03    0.034717\n",
      "2023-11-10    0.037302\n",
      "2023-11-17    0.036614\n",
      "2023-11-24    0.037714\n",
      "2023-12-01    0.038683\n",
      "2023-12-08    0.044171\n",
      "2023-12-15    0.041940\n",
      "2023-12-22    0.043969\n",
      "2023-12-29    0.042067\n",
      "2024-01-05    0.044145\n",
      "2024-01-12    0.042783\n",
      "2024-01-19    0.041659\n",
      "2024-01-26    0.041824\n",
      "2024-02-02    0.043200\n",
      "2024-02-09    0.047133\n",
      "2024-02-16    0.052124\n",
      "2024-02-23    0.050744\n",
      "2024-03-01    0.062388\n",
      "2024-03-08    0.068124\n",
      "2024-03-15    0.069500\n",
      "2024-03-22    0.063797\n",
      "2024-03-29    0.069851\n",
      "2024-04-05    0.067821\n",
      "2024-04-12    0.067117\n",
      "2024-04-19    0.063818\n",
      "2024-04-26    0.063770\n",
      "2024-05-03    0.062882\n",
      "2024-05-10    0.060800\n",
      "2024-05-17    0.067024\n",
      "2024-05-24    0.068550\n",
      "2024-05-31    0.067540\n",
      "2024-06-07    0.069356\n",
      "2024-06-14    0.066044\n",
      "2024-06-21    0.066331\n",
      "Freq: W-FRI, Name: C[W-FRI], dtype: float64 30\n"
     ]
    },
    {
     "ename": "RuntimeError",
     "evalue": "Indicator \"RSI(C[W-FRI],30)\" errored with exception: cannot reindex on an axis with duplicate labels",
     "output_type": "error",
     "traceback": [
      "\u001b[0;31m---------------------------------------------------------------------------\u001b[0m",
      "\u001b[0;31mValueError\u001b[0m                                Traceback (most recent call last)",
      "File \u001b[0;32m~/.python/current/lib/python3.10/site-packages/backtesting/backtesting.py:127\u001b[0m, in \u001b[0;36mStrategy.I\u001b[0;34m(self, func, name, plot, overlay, color, scatter, *args, **kwargs)\u001b[0m\n\u001b[1;32m    126\u001b[0m \u001b[38;5;28;01mtry\u001b[39;00m:\n\u001b[0;32m--> 127\u001b[0m     value \u001b[38;5;241m=\u001b[39m \u001b[43mfunc\u001b[49m\u001b[43m(\u001b[49m\u001b[38;5;241;43m*\u001b[39;49m\u001b[43margs\u001b[49m\u001b[43m,\u001b[49m\u001b[43m \u001b[49m\u001b[38;5;241;43m*\u001b[39;49m\u001b[38;5;241;43m*\u001b[39;49m\u001b[43mkwargs\u001b[49m\u001b[43m)\u001b[49m\n\u001b[1;32m    128\u001b[0m \u001b[38;5;28;01mexcept\u001b[39;00m \u001b[38;5;167;01mException\u001b[39;00m \u001b[38;5;28;01mas\u001b[39;00m e:\n",
      "File \u001b[0;32m~/.python/current/lib/python3.10/site-packages/backtesting/lib.py:322\u001b[0m, in \u001b[0;36mresample_apply.<locals>.wrap_func\u001b[0;34m(resampled, *args, **kwargs)\u001b[0m\n\u001b[1;32m    320\u001b[0m     result\u001b[38;5;241m.\u001b[39mindex \u001b[38;5;241m=\u001b[39m resampled\u001b[38;5;241m.\u001b[39mindex\n\u001b[1;32m    321\u001b[0m result \u001b[38;5;241m=\u001b[39m \u001b[43mresult\u001b[49m\u001b[38;5;241;43m.\u001b[39;49m\u001b[43mreindex\u001b[49m\u001b[43m(\u001b[49m\u001b[43mindex\u001b[49m\u001b[38;5;241;43m=\u001b[39;49m\u001b[43mseries\u001b[49m\u001b[38;5;241;43m.\u001b[39;49m\u001b[43mindex\u001b[49m\u001b[38;5;241;43m.\u001b[39;49m\u001b[43munion\u001b[49m\u001b[43m(\u001b[49m\u001b[43mresampled\u001b[49m\u001b[38;5;241;43m.\u001b[39;49m\u001b[43mindex\u001b[49m\u001b[43m)\u001b[49m\u001b[43m,\u001b[49m\n\u001b[0;32m--> 322\u001b[0m \u001b[43m                        \u001b[49m\u001b[43mmethod\u001b[49m\u001b[38;5;241;43m=\u001b[39;49m\u001b[38;5;124;43m'\u001b[39;49m\u001b[38;5;124;43mffill\u001b[39;49m\u001b[38;5;124;43m'\u001b[39;49m\u001b[43m)\u001b[49m\u001b[38;5;241;43m.\u001b[39;49m\u001b[43mreindex\u001b[49m\u001b[43m(\u001b[49m\u001b[43mseries\u001b[49m\u001b[38;5;241;43m.\u001b[39;49m\u001b[43mindex\u001b[49m\u001b[43m)\u001b[49m\n\u001b[1;32m    323\u001b[0m \u001b[38;5;28;01mreturn\u001b[39;00m result\n",
      "File \u001b[0;32m~/.local/lib/python3.10/site-packages/pandas/core/series.py:5153\u001b[0m, in \u001b[0;36mSeries.reindex\u001b[0;34m(self, index, axis, method, copy, level, fill_value, limit, tolerance)\u001b[0m\n\u001b[1;32m   5136\u001b[0m \u001b[38;5;129m@doc\u001b[39m(\n\u001b[1;32m   5137\u001b[0m     NDFrame\u001b[38;5;241m.\u001b[39mreindex,  \u001b[38;5;66;03m# type: ignore[has-type]\u001b[39;00m\n\u001b[1;32m   5138\u001b[0m     klass\u001b[38;5;241m=\u001b[39m_shared_doc_kwargs[\u001b[38;5;124m\"\u001b[39m\u001b[38;5;124mklass\u001b[39m\u001b[38;5;124m\"\u001b[39m],\n\u001b[0;32m   (...)\u001b[0m\n\u001b[1;32m   5151\u001b[0m     tolerance\u001b[38;5;241m=\u001b[39m\u001b[38;5;28;01mNone\u001b[39;00m,\n\u001b[1;32m   5152\u001b[0m ) \u001b[38;5;241m-\u001b[39m\u001b[38;5;241m>\u001b[39m Series:\n\u001b[0;32m-> 5153\u001b[0m     \u001b[38;5;28;01mreturn\u001b[39;00m \u001b[38;5;28;43msuper\u001b[39;49m\u001b[43m(\u001b[49m\u001b[43m)\u001b[49m\u001b[38;5;241;43m.\u001b[39;49m\u001b[43mreindex\u001b[49m\u001b[43m(\u001b[49m\n\u001b[1;32m   5154\u001b[0m \u001b[43m        \u001b[49m\u001b[43mindex\u001b[49m\u001b[38;5;241;43m=\u001b[39;49m\u001b[43mindex\u001b[49m\u001b[43m,\u001b[49m\n\u001b[1;32m   5155\u001b[0m \u001b[43m        \u001b[49m\u001b[43mmethod\u001b[49m\u001b[38;5;241;43m=\u001b[39;49m\u001b[43mmethod\u001b[49m\u001b[43m,\u001b[49m\n\u001b[1;32m   5156\u001b[0m \u001b[43m        \u001b[49m\u001b[43mcopy\u001b[49m\u001b[38;5;241;43m=\u001b[39;49m\u001b[43mcopy\u001b[49m\u001b[43m,\u001b[49m\n\u001b[1;32m   5157\u001b[0m \u001b[43m        \u001b[49m\u001b[43mlevel\u001b[49m\u001b[38;5;241;43m=\u001b[39;49m\u001b[43mlevel\u001b[49m\u001b[43m,\u001b[49m\n\u001b[1;32m   5158\u001b[0m \u001b[43m        \u001b[49m\u001b[43mfill_value\u001b[49m\u001b[38;5;241;43m=\u001b[39;49m\u001b[43mfill_value\u001b[49m\u001b[43m,\u001b[49m\n\u001b[1;32m   5159\u001b[0m \u001b[43m        \u001b[49m\u001b[43mlimit\u001b[49m\u001b[38;5;241;43m=\u001b[39;49m\u001b[43mlimit\u001b[49m\u001b[43m,\u001b[49m\n\u001b[1;32m   5160\u001b[0m \u001b[43m        \u001b[49m\u001b[43mtolerance\u001b[49m\u001b[38;5;241;43m=\u001b[39;49m\u001b[43mtolerance\u001b[49m\u001b[43m,\u001b[49m\n\u001b[1;32m   5161\u001b[0m \u001b[43m    \u001b[49m\u001b[43m)\u001b[49m\n",
      "File \u001b[0;32m~/.local/lib/python3.10/site-packages/pandas/core/generic.py:5610\u001b[0m, in \u001b[0;36mNDFrame.reindex\u001b[0;34m(self, labels, index, columns, axis, method, copy, level, fill_value, limit, tolerance)\u001b[0m\n\u001b[1;32m   5609\u001b[0m \u001b[38;5;66;03m# perform the reindex on the axes\u001b[39;00m\n\u001b[0;32m-> 5610\u001b[0m \u001b[38;5;28;01mreturn\u001b[39;00m \u001b[38;5;28;43mself\u001b[39;49m\u001b[38;5;241;43m.\u001b[39;49m\u001b[43m_reindex_axes\u001b[49m\u001b[43m(\u001b[49m\n\u001b[1;32m   5611\u001b[0m \u001b[43m    \u001b[49m\u001b[43maxes\u001b[49m\u001b[43m,\u001b[49m\u001b[43m \u001b[49m\u001b[43mlevel\u001b[49m\u001b[43m,\u001b[49m\u001b[43m \u001b[49m\u001b[43mlimit\u001b[49m\u001b[43m,\u001b[49m\u001b[43m \u001b[49m\u001b[43mtolerance\u001b[49m\u001b[43m,\u001b[49m\u001b[43m \u001b[49m\u001b[43mmethod\u001b[49m\u001b[43m,\u001b[49m\u001b[43m \u001b[49m\u001b[43mfill_value\u001b[49m\u001b[43m,\u001b[49m\u001b[43m \u001b[49m\u001b[43mcopy\u001b[49m\n\u001b[1;32m   5612\u001b[0m \u001b[43m\u001b[49m\u001b[43m)\u001b[49m\u001b[38;5;241m.\u001b[39m__finalize__(\u001b[38;5;28mself\u001b[39m, method\u001b[38;5;241m=\u001b[39m\u001b[38;5;124m\"\u001b[39m\u001b[38;5;124mreindex\u001b[39m\u001b[38;5;124m\"\u001b[39m)\n",
      "File \u001b[0;32m~/.local/lib/python3.10/site-packages/pandas/core/generic.py:5633\u001b[0m, in \u001b[0;36mNDFrame._reindex_axes\u001b[0;34m(self, axes, level, limit, tolerance, method, fill_value, copy)\u001b[0m\n\u001b[1;32m   5632\u001b[0m ax \u001b[38;5;241m=\u001b[39m \u001b[38;5;28mself\u001b[39m\u001b[38;5;241m.\u001b[39m_get_axis(a)\n\u001b[0;32m-> 5633\u001b[0m new_index, indexer \u001b[38;5;241m=\u001b[39m \u001b[43max\u001b[49m\u001b[38;5;241;43m.\u001b[39;49m\u001b[43mreindex\u001b[49m\u001b[43m(\u001b[49m\n\u001b[1;32m   5634\u001b[0m \u001b[43m    \u001b[49m\u001b[43mlabels\u001b[49m\u001b[43m,\u001b[49m\u001b[43m \u001b[49m\u001b[43mlevel\u001b[49m\u001b[38;5;241;43m=\u001b[39;49m\u001b[43mlevel\u001b[49m\u001b[43m,\u001b[49m\u001b[43m \u001b[49m\u001b[43mlimit\u001b[49m\u001b[38;5;241;43m=\u001b[39;49m\u001b[43mlimit\u001b[49m\u001b[43m,\u001b[49m\u001b[43m \u001b[49m\u001b[43mtolerance\u001b[49m\u001b[38;5;241;43m=\u001b[39;49m\u001b[43mtolerance\u001b[49m\u001b[43m,\u001b[49m\u001b[43m \u001b[49m\u001b[43mmethod\u001b[49m\u001b[38;5;241;43m=\u001b[39;49m\u001b[43mmethod\u001b[49m\n\u001b[1;32m   5635\u001b[0m \u001b[43m\u001b[49m\u001b[43m)\u001b[49m\n\u001b[1;32m   5637\u001b[0m axis \u001b[38;5;241m=\u001b[39m \u001b[38;5;28mself\u001b[39m\u001b[38;5;241m.\u001b[39m_get_axis_number(a)\n",
      "File \u001b[0;32m~/.local/lib/python3.10/site-packages/pandas/core/indexes/base.py:4429\u001b[0m, in \u001b[0;36mIndex.reindex\u001b[0;34m(self, target, method, level, limit, tolerance)\u001b[0m\n\u001b[1;32m   4427\u001b[0m \u001b[38;5;28;01melif\u001b[39;00m \u001b[38;5;129;01mnot\u001b[39;00m \u001b[38;5;28mself\u001b[39m\u001b[38;5;241m.\u001b[39mis_unique:\n\u001b[1;32m   4428\u001b[0m     \u001b[38;5;66;03m# GH#42568\u001b[39;00m\n\u001b[0;32m-> 4429\u001b[0m     \u001b[38;5;28;01mraise\u001b[39;00m \u001b[38;5;167;01mValueError\u001b[39;00m(\u001b[38;5;124m\"\u001b[39m\u001b[38;5;124mcannot reindex on an axis with duplicate labels\u001b[39m\u001b[38;5;124m\"\u001b[39m)\n\u001b[1;32m   4430\u001b[0m \u001b[38;5;28;01melse\u001b[39;00m:\n",
      "\u001b[0;31mValueError\u001b[0m: cannot reindex on an axis with duplicate labels",
      "\nDuring handling of the above exception, another exception occurred:\n",
      "\u001b[0;31mRuntimeError\u001b[0m                              Traceback (most recent call last)",
      "Cell \u001b[0;32mIn[9], line 51\u001b[0m\n\u001b[1;32m     48\u001b[0m             \u001b[38;5;28mself\u001b[39m\u001b[38;5;241m.\u001b[39mposition\u001b[38;5;241m.\u001b[39mclose()\n\u001b[1;32m     50\u001b[0m bt \u001b[38;5;241m=\u001b[39m Backtest(data, SystemStrategy, cash\u001b[38;5;241m=\u001b[39m\u001b[38;5;241m10000\u001b[39m, commission\u001b[38;5;241m=\u001b[39m\u001b[38;5;241m.002\u001b[39m)\n\u001b[0;32m---> 51\u001b[0m stats \u001b[38;5;241m=\u001b[39m \u001b[43mbt\u001b[49m\u001b[38;5;241;43m.\u001b[39;49m\u001b[43mrun\u001b[49m\u001b[43m(\u001b[49m\u001b[43m)\u001b[49m\n\u001b[1;32m     52\u001b[0m stats\n",
      "File \u001b[0;32m~/.python/current/lib/python3.10/site-packages/backtesting/backtesting.py:1139\u001b[0m, in \u001b[0;36mBacktest.run\u001b[0;34m(self, **kwargs)\u001b[0m\n\u001b[1;32m   1136\u001b[0m broker: _Broker \u001b[38;5;241m=\u001b[39m \u001b[38;5;28mself\u001b[39m\u001b[38;5;241m.\u001b[39m_broker(data\u001b[38;5;241m=\u001b[39mdata)\n\u001b[1;32m   1137\u001b[0m strategy: Strategy \u001b[38;5;241m=\u001b[39m \u001b[38;5;28mself\u001b[39m\u001b[38;5;241m.\u001b[39m_strategy(broker, data, kwargs)\n\u001b[0;32m-> 1139\u001b[0m \u001b[43mstrategy\u001b[49m\u001b[38;5;241;43m.\u001b[39;49m\u001b[43minit\u001b[49m\u001b[43m(\u001b[49m\u001b[43m)\u001b[49m\n\u001b[1;32m   1140\u001b[0m data\u001b[38;5;241m.\u001b[39m_update()  \u001b[38;5;66;03m# Strategy.init might have changed/added to data.df\u001b[39;00m\n\u001b[1;32m   1142\u001b[0m \u001b[38;5;66;03m# Indicators used in Strategy.next()\u001b[39;00m\n",
      "Cell \u001b[0;32mIn[9], line 25\u001b[0m, in \u001b[0;36mSystemStrategy.init\u001b[0;34m(self)\u001b[0m\n\u001b[1;32m     21\u001b[0m \u001b[38;5;28mself\u001b[39m\u001b[38;5;241m.\u001b[39mdaily_rsi \u001b[38;5;241m=\u001b[39m \u001b[38;5;28mself\u001b[39m\u001b[38;5;241m.\u001b[39mI(RSI, \u001b[38;5;28mself\u001b[39m\u001b[38;5;241m.\u001b[39mdata\u001b[38;5;241m.\u001b[39mClose, \u001b[38;5;28mself\u001b[39m\u001b[38;5;241m.\u001b[39md_rsi)\n\u001b[1;32m     23\u001b[0m \u001b[38;5;66;03m# To construct weekly RSI, we can use `resample_apply()`\u001b[39;00m\n\u001b[1;32m     24\u001b[0m \u001b[38;5;66;03m# helper function from the library\u001b[39;00m\n\u001b[0;32m---> 25\u001b[0m \u001b[38;5;28mself\u001b[39m\u001b[38;5;241m.\u001b[39mweekly_rsi \u001b[38;5;241m=\u001b[39m \u001b[43mresample_apply\u001b[49m\u001b[43m(\u001b[49m\n\u001b[1;32m     26\u001b[0m \u001b[43m    \u001b[49m\u001b[38;5;124;43m'\u001b[39;49m\u001b[38;5;124;43mW-FRI\u001b[39;49m\u001b[38;5;124;43m'\u001b[39;49m\u001b[43m,\u001b[49m\u001b[43m \u001b[49m\u001b[43mRSI\u001b[49m\u001b[43m,\u001b[49m\u001b[43m \u001b[49m\u001b[38;5;28;43mself\u001b[39;49m\u001b[38;5;241;43m.\u001b[39;49m\u001b[43mdata\u001b[49m\u001b[38;5;241;43m.\u001b[39;49m\u001b[43mClose\u001b[49m\u001b[43m,\u001b[49m\u001b[43m \u001b[49m\u001b[38;5;28;43mself\u001b[39;49m\u001b[38;5;241;43m.\u001b[39;49m\u001b[43mw_rsi\u001b[49m\u001b[43m)\u001b[49m\n",
      "File \u001b[0;32m~/.python/current/lib/python3.10/site-packages/backtesting/lib.py:327\u001b[0m, in \u001b[0;36mresample_apply\u001b[0;34m(rule, func, series, agg, *args, **kwargs)\u001b[0m\n\u001b[1;32m    323\u001b[0m     \u001b[38;5;28;01mreturn\u001b[39;00m result\n\u001b[1;32m    325\u001b[0m wrap_func\u001b[38;5;241m.\u001b[39m\u001b[38;5;18m__name__\u001b[39m \u001b[38;5;241m=\u001b[39m func\u001b[38;5;241m.\u001b[39m\u001b[38;5;18m__name__\u001b[39m  \u001b[38;5;66;03m# type: ignore\u001b[39;00m\n\u001b[0;32m--> 327\u001b[0m array \u001b[38;5;241m=\u001b[39m \u001b[43mstrategy_I\u001b[49m\u001b[43m(\u001b[49m\u001b[43mwrap_func\u001b[49m\u001b[43m,\u001b[49m\u001b[43m \u001b[49m\u001b[43mresampled\u001b[49m\u001b[43m,\u001b[49m\u001b[43m \u001b[49m\u001b[38;5;241;43m*\u001b[39;49m\u001b[43margs\u001b[49m\u001b[43m,\u001b[49m\u001b[43m \u001b[49m\u001b[38;5;241;43m*\u001b[39;49m\u001b[38;5;241;43m*\u001b[39;49m\u001b[43mkwargs\u001b[49m\u001b[43m)\u001b[49m\n\u001b[1;32m    328\u001b[0m \u001b[38;5;28;01mreturn\u001b[39;00m array\n",
      "File \u001b[0;32m~/.python/current/lib/python3.10/site-packages/backtesting/backtesting.py:129\u001b[0m, in \u001b[0;36mStrategy.I\u001b[0;34m(self, func, name, plot, overlay, color, scatter, *args, **kwargs)\u001b[0m\n\u001b[1;32m    127\u001b[0m     value \u001b[38;5;241m=\u001b[39m func(\u001b[38;5;241m*\u001b[39margs, \u001b[38;5;241m*\u001b[39m\u001b[38;5;241m*\u001b[39mkwargs)\n\u001b[1;32m    128\u001b[0m \u001b[38;5;28;01mexcept\u001b[39;00m \u001b[38;5;167;01mException\u001b[39;00m \u001b[38;5;28;01mas\u001b[39;00m e:\n\u001b[0;32m--> 129\u001b[0m     \u001b[38;5;28;01mraise\u001b[39;00m \u001b[38;5;167;01mRuntimeError\u001b[39;00m(\u001b[38;5;124mf\u001b[39m\u001b[38;5;124m'\u001b[39m\u001b[38;5;124mIndicator \u001b[39m\u001b[38;5;124m\"\u001b[39m\u001b[38;5;132;01m{\u001b[39;00mname\u001b[38;5;132;01m}\u001b[39;00m\u001b[38;5;124m\"\u001b[39m\u001b[38;5;124m errored with exception: \u001b[39m\u001b[38;5;132;01m{\u001b[39;00me\u001b[38;5;132;01m}\u001b[39;00m\u001b[38;5;124m'\u001b[39m)\n\u001b[1;32m    131\u001b[0m \u001b[38;5;28;01mif\u001b[39;00m \u001b[38;5;28misinstance\u001b[39m(value, pd\u001b[38;5;241m.\u001b[39mDataFrame):\n\u001b[1;32m    132\u001b[0m     value \u001b[38;5;241m=\u001b[39m value\u001b[38;5;241m.\u001b[39mvalues\u001b[38;5;241m.\u001b[39mT\n",
      "\u001b[0;31mRuntimeError\u001b[0m: Indicator \"RSI(C[W-FRI],30)\" errored with exception: cannot reindex on an axis with duplicate labels"
     ]
    }
   ],
   "source": [
    "\n",
    "# https://github.com/SharmaVidhiHaresh/Backtesting-Trading-Strategies-with-Python/\n",
    "\n",
    "from backtesting.lib import resample_apply\n",
    "\n",
    "\n",
    "class SystemStrategy(Strategy):\n",
    "    d_rsi = 30  # Daily RSI lookback periods\n",
    "    w_rsi = 30  # Weekly\n",
    "    level = 70\n",
    "    sl=.92\n",
    "    \n",
    "    def init(self):\n",
    "        # Compute moving averages the strategy demands\n",
    "        self.ma10 = self.I(SMA, self.data.Close, 10)\n",
    "        self.ma20 = self.I(SMA, self.data.Close, 20)\n",
    "        self.ma50 = self.I(SMA, self.data.Close, 50)\n",
    "        self.ma100 = self.I(SMA, self.data.Close, 100)\n",
    "        \n",
    "        # Compute daily RSI(30)\n",
    "        self.daily_rsi = self.I(RSI, self.data.Close, self.d_rsi)\n",
    "        \n",
    "        # To construct weekly RSI, we can use `resample_apply()`\n",
    "        # helper function from the library\n",
    "        self.weekly_rsi = resample_apply(\n",
    "            'W-FRI', RSI, self.data.Close, self.w_rsi)\n",
    "        \n",
    "        \n",
    "    def next(self):\n",
    "        price = self.data.Close[-1]\n",
    "        \n",
    "        # If we don't already have a position, and\n",
    "        # if all conditions are satisfied, enter long.\n",
    "        if (not self.position and\n",
    "            self.daily_rsi[-1] > self.level and\n",
    "            #self.weekly_rsi[-1] > self.level and\n",
    "            #self.weekly_rsi[-1] > self.daily_rsi[-1] and\n",
    "            self.ma10[-1] > self.ma20[-1] > self.ma50[-1] > self.ma100[-1] and\n",
    "            price > self.ma10[-1]):\n",
    "            \n",
    "            # Buy at market price on next open, but do\n",
    "            # set 8% fixed stop loss.\n",
    "            self.buy(sl=self.sl * price)\n",
    "        \n",
    "        # If the price closes 2% or more below 10-day MA\n",
    "        # close the position, if any.\n",
    "        elif price < .98 * self.ma10[-1]:\n",
    "            self.position.close()\n",
    "\n",
    "bt = Backtest(data, SystemStrategy, cash=10000, commission=.002)\n",
    "stats = bt.run()\n",
    "stats"
   ]
  }
 ],
 "metadata": {
  "kernelspec": {
   "display_name": "Python 3 (ipykernel)",
   "language": "python",
   "name": "python3"
  },
  "language_info": {
   "codemirror_mode": {
    "name": "ipython",
    "version": 3
   },
   "file_extension": ".py",
   "mimetype": "text/x-python",
   "name": "python",
   "nbconvert_exporter": "python",
   "pygments_lexer": "ipython3",
   "version": "3.10.13"
  }
 },
 "nbformat": 4,
 "nbformat_minor": 4
}
