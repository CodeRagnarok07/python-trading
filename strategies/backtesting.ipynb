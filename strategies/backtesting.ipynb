{
 "cells": [
  {
   "cell_type": "code",
   "execution_count": 18,
   "metadata": {},
   "outputs": [
    {
     "name": "stdout",
     "output_type": "stream",
     "text": [
      "Requirement already satisfied: backtesting in /usr/local/python/3.10.13/lib/python3.10/site-packages (0.3.3)\n",
      "Requirement already satisfied: pandas in /home/codespace/.local/lib/python3.10/site-packages (2.2.2)\n",
      "Requirement already satisfied: numpy in /home/codespace/.local/lib/python3.10/site-packages (1.26.4)\n",
      "Requirement already satisfied: bokeh>=1.4.0 in /usr/local/python/3.10.13/lib/python3.10/site-packages (from backtesting) (3.4.1)\n",
      "Requirement already satisfied: python-dateutil>=2.8.2 in /home/codespace/.local/lib/python3.10/site-packages (from pandas) (2.9.0.post0)\n",
      "Requirement already satisfied: pytz>=2020.1 in /home/codespace/.local/lib/python3.10/site-packages (from pandas) (2024.1)\n",
      "Requirement already satisfied: tzdata>=2022.7 in /home/codespace/.local/lib/python3.10/site-packages (from pandas) (2024.1)\n",
      "Requirement already satisfied: Jinja2>=2.9 in /home/codespace/.local/lib/python3.10/site-packages (from bokeh>=1.4.0->backtesting) (3.1.4)\n",
      "Requirement already satisfied: contourpy>=1.2 in /home/codespace/.local/lib/python3.10/site-packages (from bokeh>=1.4.0->backtesting) (1.2.1)\n",
      "Requirement already satisfied: packaging>=16.8 in /home/codespace/.local/lib/python3.10/site-packages (from bokeh>=1.4.0->backtesting) (24.0)\n",
      "Requirement already satisfied: pillow>=7.1.0 in /home/codespace/.local/lib/python3.10/site-packages (from bokeh>=1.4.0->backtesting) (10.3.0)\n",
      "Requirement already satisfied: PyYAML>=3.10 in /home/codespace/.local/lib/python3.10/site-packages (from bokeh>=1.4.0->backtesting) (6.0.1)\n",
      "Requirement already satisfied: tornado>=6.2 in /home/codespace/.local/lib/python3.10/site-packages (from bokeh>=1.4.0->backtesting) (6.4)\n",
      "Requirement already satisfied: xyzservices>=2021.09.1 in /usr/local/python/3.10.13/lib/python3.10/site-packages (from bokeh>=1.4.0->backtesting) (2024.6.0)\n",
      "Requirement already satisfied: six>=1.5 in /home/codespace/.local/lib/python3.10/site-packages (from python-dateutil>=2.8.2->pandas) (1.16.0)\n",
      "Requirement already satisfied: MarkupSafe>=2.0 in /home/codespace/.local/lib/python3.10/site-packages (from Jinja2>=2.9->bokeh>=1.4.0->backtesting) (2.1.5)\n",
      "Note: you may need to restart the kernel to use updated packages.\n"
     ]
    }
   ],
   "source": [
    "# Paso 1: Instalar Dependencias\n",
    "%pip install backtesting pandas numpy"
   ]
  },
  {
   "cell_type": "code",
   "execution_count": 1,
   "metadata": {},
   "outputs": [],
   "source": [
    "# Paso 2: Importar las Librerías Necesarias\n",
    "import pandas as pd\n",
    "import numpy as np\n",
    "from backtesting import Backtest, Strategy\n",
    "from backtesting.lib import crossover\n",
    "# from backtesting.test import GOOG\n"
   ]
  },
  {
   "cell_type": "code",
   "execution_count": 19,
   "metadata": {},
   "outputs": [
    {
     "ename": "ExchangeNotAvailable",
     "evalue": "binance GET https://api.binance.com/api/v3/exchangeInfo 451  {\n  \"code\": 0,\n  \"msg\": \"Service unavailable from a restricted location according to 'b. Eligibility' in https://www.binance.com/en/terms. Please contact customer service if you believe you received this message in error.\"\n}",
     "output_type": "error",
     "traceback": [
      "\u001b[0;31m---------------------------------------------------------------------------\u001b[0m",
      "\u001b[0;31mHTTPError\u001b[0m                                 Traceback (most recent call last)",
      "File \u001b[0;32m~/.local/lib/python3.10/site-packages/ccxt/base/exchange.py:651\u001b[0m, in \u001b[0;36mExchange.fetch\u001b[0;34m(self, url, method, headers, body)\u001b[0m\n\u001b[1;32m    650\u001b[0m     \u001b[38;5;28mself\u001b[39m\u001b[38;5;241m.\u001b[39mlogger\u001b[38;5;241m.\u001b[39mdebug(\u001b[38;5;124m\"\u001b[39m\u001b[38;5;132;01m%s\u001b[39;00m\u001b[38;5;124m \u001b[39m\u001b[38;5;132;01m%s\u001b[39;00m\u001b[38;5;124m, Response: \u001b[39m\u001b[38;5;132;01m%s\u001b[39;00m\u001b[38;5;124m \u001b[39m\u001b[38;5;132;01m%s\u001b[39;00m\u001b[38;5;124m \u001b[39m\u001b[38;5;132;01m%s\u001b[39;00m\u001b[38;5;124m\"\u001b[39m, method, url, http_status_code, headers, http_response)\n\u001b[0;32m--> 651\u001b[0m     \u001b[43mresponse\u001b[49m\u001b[38;5;241;43m.\u001b[39;49m\u001b[43mraise_for_status\u001b[49m\u001b[43m(\u001b[49m\u001b[43m)\u001b[49m\n\u001b[1;32m    653\u001b[0m \u001b[38;5;28;01mexcept\u001b[39;00m Timeout \u001b[38;5;28;01mas\u001b[39;00m e:\n",
      "File \u001b[0;32m~/.local/lib/python3.10/site-packages/requests/models.py:1024\u001b[0m, in \u001b[0;36mResponse.raise_for_status\u001b[0;34m(self)\u001b[0m\n\u001b[1;32m   1023\u001b[0m \u001b[38;5;28;01mif\u001b[39;00m http_error_msg:\n\u001b[0;32m-> 1024\u001b[0m     \u001b[38;5;28;01mraise\u001b[39;00m HTTPError(http_error_msg, response\u001b[38;5;241m=\u001b[39m\u001b[38;5;28mself\u001b[39m)\n",
      "\u001b[0;31mHTTPError\u001b[0m: 451 Client Error:  for url: https://api.binance.com/api/v3/exchangeInfo",
      "\nDuring handling of the above exception, another exception occurred:\n",
      "\u001b[0;31mExchangeNotAvailable\u001b[0m                      Traceback (most recent call last)",
      "Cell \u001b[0;32mIn[19], line 7\u001b[0m\n\u001b[1;32m      4\u001b[0m symbol \u001b[38;5;241m=\u001b[39m \u001b[38;5;124m\"\u001b[39m\u001b[38;5;124mBTCUSDT\u001b[39m\u001b[38;5;124m\"\u001b[39m\n\u001b[1;32m      5\u001b[0m timeframe\u001b[38;5;241m=\u001b[39m \u001b[38;5;124m\"\u001b[39m\u001b[38;5;124m5m\u001b[39m\u001b[38;5;124m\"\u001b[39m\n\u001b[0;32m----> 7\u001b[0m ohlcv \u001b[38;5;241m=\u001b[39m \u001b[43mex\u001b[49m\u001b[38;5;241;43m.\u001b[39;49m\u001b[43mfetch_ohlcv\u001b[49m\u001b[43m(\u001b[49m\n\u001b[1;32m      8\u001b[0m \u001b[43m    \u001b[49m\u001b[43msymbol\u001b[49m\u001b[43m,\u001b[49m\u001b[43m \u001b[49m\n\u001b[1;32m      9\u001b[0m \u001b[43m    \u001b[49m\u001b[43mtimeframe\u001b[49m\u001b[43m,\u001b[49m\u001b[43m \u001b[49m\n\u001b[1;32m     10\u001b[0m \u001b[43m    \u001b[49m\u001b[43msince\u001b[49m\u001b[38;5;241;43m=\u001b[39;49m\u001b[43mfrom_ts\u001b[49m\u001b[43m,\u001b[49m\u001b[43m \u001b[49m\n\u001b[1;32m     11\u001b[0m \u001b[43m    \u001b[49m\u001b[43mlimit\u001b[49m\u001b[38;5;241;43m=\u001b[39;49m\u001b[38;5;241;43m1000\u001b[39;49m\u001b[43m)\u001b[49m\n",
      "File \u001b[0;32m~/.local/lib/python3.10/site-packages/ccxt/binance.py:4115\u001b[0m, in \u001b[0;36mbinance.fetch_ohlcv\u001b[0;34m(self, symbol, timeframe, since, limit, params)\u001b[0m\n\u001b[1;32m   4094\u001b[0m \u001b[38;5;28;01mdef\u001b[39;00m \u001b[38;5;21mfetch_ohlcv\u001b[39m(\u001b[38;5;28mself\u001b[39m, symbol: \u001b[38;5;28mstr\u001b[39m, timeframe\u001b[38;5;241m=\u001b[39m\u001b[38;5;124m'\u001b[39m\u001b[38;5;124m1m\u001b[39m\u001b[38;5;124m'\u001b[39m, since: Int \u001b[38;5;241m=\u001b[39m \u001b[38;5;28;01mNone\u001b[39;00m, limit: Int \u001b[38;5;241m=\u001b[39m \u001b[38;5;28;01mNone\u001b[39;00m, params\u001b[38;5;241m=\u001b[39m{}) \u001b[38;5;241m-\u001b[39m\u001b[38;5;241m>\u001b[39m List[\u001b[38;5;28mlist\u001b[39m]:\n\u001b[1;32m   4095\u001b[0m \u001b[38;5;250m    \u001b[39m\u001b[38;5;124;03m\"\"\"\u001b[39;00m\n\u001b[1;32m   4096\u001b[0m \u001b[38;5;124;03m    fetches historical candlestick data containing the open, high, low, and close price, and the volume of a market\u001b[39;00m\n\u001b[1;32m   4097\u001b[0m \u001b[38;5;124;03m    :see: https://binance-docs.github.io/apidocs/spot/en/#kline-candlestick-data\u001b[39;00m\n\u001b[0;32m   (...)\u001b[0m\n\u001b[1;32m   4113\u001b[0m \u001b[38;5;124;03m    :returns int[][]: A list of candles ordered, open, high, low, close, volume\u001b[39;00m\n\u001b[1;32m   4114\u001b[0m \u001b[38;5;124;03m    \"\"\"\u001b[39;00m\n\u001b[0;32m-> 4115\u001b[0m     \u001b[38;5;28;43mself\u001b[39;49m\u001b[38;5;241;43m.\u001b[39;49m\u001b[43mload_markets\u001b[49m\u001b[43m(\u001b[49m\u001b[43m)\u001b[49m\n\u001b[1;32m   4116\u001b[0m     paginate \u001b[38;5;241m=\u001b[39m \u001b[38;5;28;01mFalse\u001b[39;00m\n\u001b[1;32m   4117\u001b[0m     paginate, params \u001b[38;5;241m=\u001b[39m \u001b[38;5;28mself\u001b[39m\u001b[38;5;241m.\u001b[39mhandle_option_and_params(params, \u001b[38;5;124m'\u001b[39m\u001b[38;5;124mfetchOHLCV\u001b[39m\u001b[38;5;124m'\u001b[39m, \u001b[38;5;124m'\u001b[39m\u001b[38;5;124mpaginate\u001b[39m\u001b[38;5;124m'\u001b[39m, \u001b[38;5;28;01mFalse\u001b[39;00m)\n",
      "File \u001b[0;32m~/.local/lib/python3.10/site-packages/ccxt/base/exchange.py:1540\u001b[0m, in \u001b[0;36mExchange.load_markets\u001b[0;34m(self, reload, params)\u001b[0m\n\u001b[1;32m   1538\u001b[0m \u001b[38;5;28;01mif\u001b[39;00m \u001b[38;5;28mself\u001b[39m\u001b[38;5;241m.\u001b[39mhas[\u001b[38;5;124m'\u001b[39m\u001b[38;5;124mfetchCurrencies\u001b[39m\u001b[38;5;124m'\u001b[39m] \u001b[38;5;129;01mis\u001b[39;00m \u001b[38;5;28;01mTrue\u001b[39;00m:\n\u001b[1;32m   1539\u001b[0m     currencies \u001b[38;5;241m=\u001b[39m \u001b[38;5;28mself\u001b[39m\u001b[38;5;241m.\u001b[39mfetch_currencies()\n\u001b[0;32m-> 1540\u001b[0m markets \u001b[38;5;241m=\u001b[39m \u001b[38;5;28;43mself\u001b[39;49m\u001b[38;5;241;43m.\u001b[39;49m\u001b[43mfetch_markets\u001b[49m\u001b[43m(\u001b[49m\u001b[43mparams\u001b[49m\u001b[43m)\u001b[49m\n\u001b[1;32m   1541\u001b[0m \u001b[38;5;28;01mreturn\u001b[39;00m \u001b[38;5;28mself\u001b[39m\u001b[38;5;241m.\u001b[39mset_markets(markets, currencies)\n",
      "File \u001b[0;32m~/.local/lib/python3.10/site-packages/ccxt/binance.py:2828\u001b[0m, in \u001b[0;36mbinance.fetch_markets\u001b[0;34m(self, params)\u001b[0m\n\u001b[1;32m   2826\u001b[0m marketType \u001b[38;5;241m=\u001b[39m fetchMarkets[i]\n\u001b[1;32m   2827\u001b[0m \u001b[38;5;28;01mif\u001b[39;00m marketType \u001b[38;5;241m==\u001b[39m \u001b[38;5;124m'\u001b[39m\u001b[38;5;124mspot\u001b[39m\u001b[38;5;124m'\u001b[39m:\n\u001b[0;32m-> 2828\u001b[0m     promisesRaw\u001b[38;5;241m.\u001b[39mappend(\u001b[38;5;28;43mself\u001b[39;49m\u001b[38;5;241;43m.\u001b[39;49m\u001b[43mpublicGetExchangeInfo\u001b[49m\u001b[43m(\u001b[49m\u001b[43mparams\u001b[49m\u001b[43m)\u001b[49m)\n\u001b[1;32m   2829\u001b[0m \u001b[38;5;28;01melif\u001b[39;00m marketType \u001b[38;5;241m==\u001b[39m \u001b[38;5;124m'\u001b[39m\u001b[38;5;124mlinear\u001b[39m\u001b[38;5;124m'\u001b[39m:\n\u001b[1;32m   2830\u001b[0m     promisesRaw\u001b[38;5;241m.\u001b[39mappend(\u001b[38;5;28mself\u001b[39m\u001b[38;5;241m.\u001b[39mfapiPublicGetExchangeInfo(params))\n",
      "File \u001b[0;32m~/.local/lib/python3.10/site-packages/ccxt/base/types.py:35\u001b[0m, in \u001b[0;36mEntry.__init__.<locals>.unbound_method\u001b[0;34m(_self, params)\u001b[0m\n\u001b[1;32m     34\u001b[0m \u001b[38;5;28;01mdef\u001b[39;00m \u001b[38;5;21munbound_method\u001b[39m(_self, params\u001b[38;5;241m=\u001b[39m{}):\n\u001b[0;32m---> 35\u001b[0m     \u001b[38;5;28;01mreturn\u001b[39;00m \u001b[43m_self\u001b[49m\u001b[38;5;241;43m.\u001b[39;49m\u001b[43mrequest\u001b[49m\u001b[43m(\u001b[49m\u001b[38;5;28;43mself\u001b[39;49m\u001b[38;5;241;43m.\u001b[39;49m\u001b[43mpath\u001b[49m\u001b[43m,\u001b[49m\u001b[43m \u001b[49m\u001b[38;5;28;43mself\u001b[39;49m\u001b[38;5;241;43m.\u001b[39;49m\u001b[43mapi\u001b[49m\u001b[43m,\u001b[49m\u001b[43m \u001b[49m\u001b[38;5;28;43mself\u001b[39;49m\u001b[38;5;241;43m.\u001b[39;49m\u001b[43mmethod\u001b[49m\u001b[43m,\u001b[49m\u001b[43m \u001b[49m\u001b[43mparams\u001b[49m\u001b[43m,\u001b[49m\u001b[43m \u001b[49m\u001b[43mconfig\u001b[49m\u001b[38;5;241;43m=\u001b[39;49m\u001b[38;5;28;43mself\u001b[39;49m\u001b[38;5;241;43m.\u001b[39;49m\u001b[43mconfig\u001b[49m\u001b[43m)\u001b[49m\n",
      "File \u001b[0;32m~/.local/lib/python3.10/site-packages/ccxt/binance.py:10460\u001b[0m, in \u001b[0;36mbinance.request\u001b[0;34m(self, path, api, method, params, headers, body, config)\u001b[0m\n\u001b[1;32m  10459\u001b[0m \u001b[38;5;28;01mdef\u001b[39;00m \u001b[38;5;21mrequest\u001b[39m(\u001b[38;5;28mself\u001b[39m, path, api\u001b[38;5;241m=\u001b[39m\u001b[38;5;124m'\u001b[39m\u001b[38;5;124mpublic\u001b[39m\u001b[38;5;124m'\u001b[39m, method\u001b[38;5;241m=\u001b[39m\u001b[38;5;124m'\u001b[39m\u001b[38;5;124mGET\u001b[39m\u001b[38;5;124m'\u001b[39m, params\u001b[38;5;241m=\u001b[39m{}, headers\u001b[38;5;241m=\u001b[39m\u001b[38;5;28;01mNone\u001b[39;00m, body\u001b[38;5;241m=\u001b[39m\u001b[38;5;28;01mNone\u001b[39;00m, config\u001b[38;5;241m=\u001b[39m{}):\n\u001b[0;32m> 10460\u001b[0m     response \u001b[38;5;241m=\u001b[39m \u001b[38;5;28;43mself\u001b[39;49m\u001b[38;5;241;43m.\u001b[39;49m\u001b[43mfetch2\u001b[49m\u001b[43m(\u001b[49m\u001b[43mpath\u001b[49m\u001b[43m,\u001b[49m\u001b[43m \u001b[49m\u001b[43mapi\u001b[49m\u001b[43m,\u001b[49m\u001b[43m \u001b[49m\u001b[43mmethod\u001b[49m\u001b[43m,\u001b[49m\u001b[43m \u001b[49m\u001b[43mparams\u001b[49m\u001b[43m,\u001b[49m\u001b[43m \u001b[49m\u001b[43mheaders\u001b[49m\u001b[43m,\u001b[49m\u001b[43m \u001b[49m\u001b[43mbody\u001b[49m\u001b[43m,\u001b[49m\u001b[43m \u001b[49m\u001b[43mconfig\u001b[49m\u001b[43m)\u001b[49m\n\u001b[1;32m  10461\u001b[0m     \u001b[38;5;66;03m# a workaround for {\"code\":-2015,\"msg\":\"Invalid API-key, IP, or permissions for action.\"}\u001b[39;00m\n\u001b[1;32m  10462\u001b[0m     \u001b[38;5;28;01mif\u001b[39;00m api \u001b[38;5;241m==\u001b[39m \u001b[38;5;124m'\u001b[39m\u001b[38;5;124mprivate\u001b[39m\u001b[38;5;124m'\u001b[39m:\n",
      "File \u001b[0;32m~/.local/lib/python3.10/site-packages/ccxt/base/exchange.py:3737\u001b[0m, in \u001b[0;36mExchange.fetch2\u001b[0;34m(self, path, api, method, params, headers, body, config)\u001b[0m\n\u001b[1;32m   3735\u001b[0m \u001b[38;5;28mself\u001b[39m\u001b[38;5;241m.\u001b[39mlast_request_body \u001b[38;5;241m=\u001b[39m request[\u001b[38;5;124m'\u001b[39m\u001b[38;5;124mbody\u001b[39m\u001b[38;5;124m'\u001b[39m]\n\u001b[1;32m   3736\u001b[0m \u001b[38;5;28mself\u001b[39m\u001b[38;5;241m.\u001b[39mlast_request_url \u001b[38;5;241m=\u001b[39m request[\u001b[38;5;124m'\u001b[39m\u001b[38;5;124murl\u001b[39m\u001b[38;5;124m'\u001b[39m]\n\u001b[0;32m-> 3737\u001b[0m \u001b[38;5;28;01mreturn\u001b[39;00m \u001b[38;5;28;43mself\u001b[39;49m\u001b[38;5;241;43m.\u001b[39;49m\u001b[43mfetch\u001b[49m\u001b[43m(\u001b[49m\u001b[43mrequest\u001b[49m\u001b[43m[\u001b[49m\u001b[38;5;124;43m'\u001b[39;49m\u001b[38;5;124;43murl\u001b[39;49m\u001b[38;5;124;43m'\u001b[39;49m\u001b[43m]\u001b[49m\u001b[43m,\u001b[49m\u001b[43m \u001b[49m\u001b[43mrequest\u001b[49m\u001b[43m[\u001b[49m\u001b[38;5;124;43m'\u001b[39;49m\u001b[38;5;124;43mmethod\u001b[39;49m\u001b[38;5;124;43m'\u001b[39;49m\u001b[43m]\u001b[49m\u001b[43m,\u001b[49m\u001b[43m \u001b[49m\u001b[43mrequest\u001b[49m\u001b[43m[\u001b[49m\u001b[38;5;124;43m'\u001b[39;49m\u001b[38;5;124;43mheaders\u001b[39;49m\u001b[38;5;124;43m'\u001b[39;49m\u001b[43m]\u001b[49m\u001b[43m,\u001b[49m\u001b[43m \u001b[49m\u001b[43mrequest\u001b[49m\u001b[43m[\u001b[49m\u001b[38;5;124;43m'\u001b[39;49m\u001b[38;5;124;43mbody\u001b[39;49m\u001b[38;5;124;43m'\u001b[39;49m\u001b[43m]\u001b[49m\u001b[43m)\u001b[49m\n",
      "File \u001b[0;32m~/.local/lib/python3.10/site-packages/ccxt/base/exchange.py:669\u001b[0m, in \u001b[0;36mExchange.fetch\u001b[0;34m(self, url, method, headers, body)\u001b[0m\n\u001b[1;32m    667\u001b[0m     skip_further_error_handling \u001b[38;5;241m=\u001b[39m \u001b[38;5;28mself\u001b[39m\u001b[38;5;241m.\u001b[39mhandle_errors(http_status_code, http_status_text, url, method, headers, http_response, json_response, request_headers, request_body)\n\u001b[1;32m    668\u001b[0m     \u001b[38;5;28;01mif\u001b[39;00m \u001b[38;5;129;01mnot\u001b[39;00m skip_further_error_handling:\n\u001b[0;32m--> 669\u001b[0m         \u001b[38;5;28;43mself\u001b[39;49m\u001b[38;5;241;43m.\u001b[39;49m\u001b[43mhandle_http_status_code\u001b[49m\u001b[43m(\u001b[49m\u001b[43mhttp_status_code\u001b[49m\u001b[43m,\u001b[49m\u001b[43m \u001b[49m\u001b[43mhttp_status_text\u001b[49m\u001b[43m,\u001b[49m\u001b[43m \u001b[49m\u001b[43murl\u001b[49m\u001b[43m,\u001b[49m\u001b[43m \u001b[49m\u001b[43mmethod\u001b[49m\u001b[43m,\u001b[49m\u001b[43m \u001b[49m\u001b[43mhttp_response\u001b[49m\u001b[43m)\u001b[49m\n\u001b[1;32m    670\u001b[0m     \u001b[38;5;28;01mraise\u001b[39;00m ExchangeError(details) \u001b[38;5;28;01mfrom\u001b[39;00m \u001b[38;5;21;01me\u001b[39;00m\n\u001b[1;32m    672\u001b[0m \u001b[38;5;28;01mexcept\u001b[39;00m requestsConnectionError \u001b[38;5;28;01mas\u001b[39;00m e:\n",
      "File \u001b[0;32m~/.local/lib/python3.10/site-packages/ccxt/base/exchange.py:1718\u001b[0m, in \u001b[0;36mExchange.handle_http_status_code\u001b[0;34m(self, code, reason, url, method, body)\u001b[0m\n\u001b[1;32m   1716\u001b[0m \u001b[38;5;28;01mif\u001b[39;00m codeAsString \u001b[38;5;129;01min\u001b[39;00m \u001b[38;5;28mself\u001b[39m\u001b[38;5;241m.\u001b[39mhttpExceptions:\n\u001b[1;32m   1717\u001b[0m     ErrorClass \u001b[38;5;241m=\u001b[39m \u001b[38;5;28mself\u001b[39m\u001b[38;5;241m.\u001b[39mhttpExceptions[codeAsString]\n\u001b[0;32m-> 1718\u001b[0m     \u001b[38;5;28;01mraise\u001b[39;00m ErrorClass(\u001b[38;5;28mself\u001b[39m\u001b[38;5;241m.\u001b[39mid \u001b[38;5;241m+\u001b[39m \u001b[38;5;124m'\u001b[39m\u001b[38;5;124m \u001b[39m\u001b[38;5;124m'\u001b[39m \u001b[38;5;241m+\u001b[39m method \u001b[38;5;241m+\u001b[39m \u001b[38;5;124m'\u001b[39m\u001b[38;5;124m \u001b[39m\u001b[38;5;124m'\u001b[39m \u001b[38;5;241m+\u001b[39m url \u001b[38;5;241m+\u001b[39m \u001b[38;5;124m'\u001b[39m\u001b[38;5;124m \u001b[39m\u001b[38;5;124m'\u001b[39m \u001b[38;5;241m+\u001b[39m codeAsString \u001b[38;5;241m+\u001b[39m \u001b[38;5;124m'\u001b[39m\u001b[38;5;124m \u001b[39m\u001b[38;5;124m'\u001b[39m \u001b[38;5;241m+\u001b[39m reason \u001b[38;5;241m+\u001b[39m \u001b[38;5;124m'\u001b[39m\u001b[38;5;124m \u001b[39m\u001b[38;5;124m'\u001b[39m \u001b[38;5;241m+\u001b[39m body)\n",
      "\u001b[0;31mExchangeNotAvailable\u001b[0m: binance GET https://api.binance.com/api/v3/exchangeInfo 451  {\n  \"code\": 0,\n  \"msg\": \"Service unavailable from a restricted location according to 'b. Eligibility' in https://www.binance.com/en/terms. Please contact customer service if you believe you received this message in error.\"\n}"
     ]
    }
   ],
   "source": [
    "import ccxt\n",
    "ex = ccxt.binance()\n",
    "from_ts = ex.parse8601('2024-06-17 00:00:00')\n",
    "symbol = \"BTCUSDT\"\n",
    "timeframe= \"5m\"\n",
    "\n",
    "ohlcv = ex.fetch_ohlcv(\n",
    "    symbol, \n",
    "    timeframe, \n",
    "    since=from_ts, \n",
    "    limit=1000)\n"
   ]
  },
  {
   "cell_type": "code",
   "execution_count": 9,
   "metadata": {},
   "outputs": [],
   "source": [
    "def SMA(array, n):\n",
    "    \"\"\"Simple moving average\"\"\"\n",
    "    return pd.Series(array).rolling(n).mean()\n",
    "\n",
    "# Calcular la Media Móvil Exponencial (EMA)\n",
    "def EMA(array, n):\n",
    "    \"\"\"Simple moving average\"\"\"\n",
    "    return pd.Series(array).ewm(span=n, adjust=False).mean()\n",
    "\n",
    "\n",
    "def RSI(array, n):\n",
    "    \"\"\"Relative strength index\"\"\"\n",
    "    # Approximate; good enough\n",
    "\n",
    "    print(\"ALERTA\",array, n)\n",
    "    gain = pd.Series(array).diff()\n",
    "    loss = gain.copy()\n",
    "    gain[gain < 0] = 0\n",
    "    loss[loss > 0] = 0\n",
    "    rs = gain.ewm(n).mean() / loss.abs().ewm(n).mean()\n",
    "    return 100 - 100 / (1 + rs)"
   ]
  },
  {
   "cell_type": "code",
   "execution_count": 17,
   "metadata": {},
   "outputs": [],
   "source": [
    "# importar data \n",
    "datapath = '../backtesting/data/BTCUSDT5m.csv'\n",
    "data = pd.read_csv(datapath, parse_dates=True, index_col=0, )\n",
    "data = (data / 1e6).assign(Volume=data.Volume * 1e6)  # μBTC OHLC prices\n"
   ]
  },
  {
   "cell_type": "markdown",
   "metadata": {},
   "source": [
    "## Estrategias"
   ]
  },
  {
   "cell_type": "code",
   "execution_count": 18,
   "metadata": {},
   "outputs": [
    {
     "name": "stdout",
     "output_type": "stream",
     "text": [
      "[0.07152111 0.07144365 0.07138    ... 0.06659747 0.06660002 0.06662862]\n"
     ]
    },
    {
     "data": {
      "text/plain": [
       "Start                     2024-03-15 00:00:00\n",
       "End                       2024-06-16 13:05:00\n",
       "Duration                     93 days 13:05:00\n",
       "Exposure Time [%]                   99.803471\n",
       "Equity Final [$]                  9880.120606\n",
       "Equity Peak [$]                  11937.925018\n",
       "Return [%]                          -1.198794\n",
       "Buy & Hold Return [%]               -6.840624\n",
       "Return (Ann.) [%]                    4.285599\n",
       "Volatility (Ann.) [%]               78.684456\n",
       "Sharpe Ratio                         0.054466\n",
       "Sortino Ratio                        0.088595\n",
       "Calmar Ratio                         0.160903\n",
       "Max. Drawdown [%]                  -26.634697\n",
       "Avg. Drawdown [%]                   -2.939796\n",
       "Max. Drawdown Duration       45 days 19:55:00\n",
       "Avg. Drawdown Duration        2 days 12:30:00\n",
       "# Trades                                   17\n",
       "Win Rate [%]                        35.294118\n",
       "Best Trade [%]                       2.094498\n",
       "Worst Trade [%]                     -17.01592\n",
       "Avg. Trade [%]                      -5.361164\n",
       "Max. Trade Duration          93 days 08:40:00\n",
       "Avg. Trade Duration          78 days 19:42:00\n",
       "Profit Factor                        0.067098\n",
       "Expectancy [%]                      -5.158951\n",
       "SQN                                 -0.456993\n",
       "_strategy                 MeanReversionStr...\n",
       "_equity_curve                             ...\n",
       "_trades                         Size  Entr...\n",
       "dtype: object"
      ]
     },
     "execution_count": 18,
     "metadata": {},
     "output_type": "execute_result"
    }
   ],
   "source": [
    "# Mean Reversion\n",
    "class MeanReversionStrategy(Strategy):\n",
    "    def init(self):\n",
    "        # Inicializa las Bandas de Bollinger\n",
    "        price = self.data.Close\n",
    "        print(price)\n",
    "        self.ma = self.I(SMA, price, 20)  # Media Móvil Simple de 20 períodos\n",
    "        self.upper_band = self.I(SMA, price, 5)  # Media Móvil Simple de 20 períodos\n",
    "        self.lower_band = self.I(SMA, price, 25)  # Media Móvil Simple de 20 períodos\n",
    "\n",
    "\n",
    "        \n",
    "\n",
    "    def next(self):\n",
    "        price = self.data.Close[-1]\n",
    "\n",
    "        # Señal de compra: el precio cruza por debajo de la banda inferior\n",
    "        if crossover(self.lower_band, price):\n",
    "            self.buy()\n",
    "\n",
    "        # Señal de venta: el precio cruza por encima de la banda superior\n",
    "        elif crossover(price, self.upper_band):\n",
    "            self.sell()\n",
    "\n",
    "bt = Backtest(data, MeanReversionStrategy, cash=10000, commission=.002)\n",
    "stats = bt.run()\n",
    "\n",
    "stats"
   ]
  },
  {
   "cell_type": "code",
   "execution_count": 6,
   "metadata": {},
   "outputs": [
    {
     "name": "stdout",
     "output_type": "stream",
     "text": [
      "ALERTA [0.07152111 0.07144365 0.07138    ... 0.06659747 0.06660002 0.06662862] 17\n"
     ]
    },
    {
     "data": {
      "text/plain": [
       "Start                     2024-03-15 00:00:00\n",
       "End                       2024-06-16 13:05:00\n",
       "Duration                     93 days 13:05:00\n",
       "Exposure Time [%]                   99.988876\n",
       "Equity Final [$]                     88.12209\n",
       "Equity Peak [$]                      101.4336\n",
       "Return [%]                          -11.87791\n",
       "Buy & Hold Return [%]               -6.840624\n",
       "Return (Ann.) [%]                  -35.818842\n",
       "Volatility (Ann.) [%]               40.609635\n",
       "Sharpe Ratio                              0.0\n",
       "Sortino Ratio                             0.0\n",
       "Calmar Ratio                              0.0\n",
       "Max. Drawdown [%]                  -24.985067\n",
       "Avg. Drawdown [%]                  -24.985067\n",
       "Max. Drawdown Duration       93 days 12:35:00\n",
       "Avg. Drawdown Duration       93 days 12:35:00\n",
       "# Trades                                  392\n",
       "Win Rate [%]                        30.612245\n",
       "Best Trade [%]                       9.405781\n",
       "Worst Trade [%]                     -1.001574\n",
       "Avg. Trade [%]                      -0.032272\n",
       "Max. Trade Duration           4 days 10:00:00\n",
       "Avg. Trade Duration           0 days 05:39:00\n",
       "Profit Factor                        0.928593\n",
       "Expectancy [%]                       -0.02488\n",
       "SQN                                 -0.567365\n",
       "_strategy                            RSIcross\n",
       "_equity_curve                             ...\n",
       "_trades                        Size  Entry...\n",
       "dtype: object"
      ]
     },
     "execution_count": 6,
     "metadata": {},
     "output_type": "execute_result"
    }
   ],
   "source": [
    "# RSI cross strategy\n",
    "class RSIcross(Strategy):\n",
    "  rsi_period = 17 \n",
    "  slPercent = 0.99\n",
    " \n",
    "  def init(self):\n",
    "    price = self.data.Close\n",
    "    self.rsi = self.I(RSI,self.data.Close,self.rsi_period)\n",
    "    # self.rsi = self.I(self.RSI, price, 14)\n",
    "    # self.rsi = self.I(RSI, pd.Series(self.data.Close), self.rsi_period)\n",
    "\n",
    "  def next(self):\n",
    "    price = self.data.Close[-1]\n",
    "\n",
    "    if self.rsi[-1] < 30:\n",
    "      self.position.close()\n",
    "\n",
    "    if self.position.is_long:\n",
    "      return\n",
    "\n",
    "    self.buy(sl = price * self.slPercent)\n",
    "\n",
    "bt = Backtest(data,RSIcross,cash = 100)\n",
    "stats = bt.run()\n",
    "stats\n"
   ]
  },
  {
   "cell_type": "code",
   "execution_count": 13,
   "metadata": {},
   "outputs": [
    {
     "name": "stdout",
     "output_type": "stream",
     "text": [
      "ALERTA [0.07152111 0.07144365 0.07138    ... 0.06659747 0.06660002 0.06662862] 14\n"
     ]
    },
    {
     "data": {
      "text/plain": [
       "Start                     2024-03-15 00:00:00\n",
       "End                       2024-06-16 13:05:00\n",
       "Duration                     93 days 13:05:00\n",
       "Exposure Time [%]                   99.592109\n",
       "Equity Final [$]                  9577.804032\n",
       "Equity Peak [$]                  11561.037835\n",
       "Return [%]                           -4.22196\n",
       "Buy & Hold Return [%]               -6.840624\n",
       "Return (Ann.) [%]                    4.261955\n",
       "Volatility (Ann.) [%]               78.714426\n",
       "Sharpe Ratio                         0.054145\n",
       "Sortino Ratio                        0.088049\n",
       "Calmar Ratio                         0.160761\n",
       "Max. Drawdown [%]                    -26.5112\n",
       "Avg. Drawdown [%]                   -3.004276\n",
       "Max. Drawdown Duration       45 days 19:55:00\n",
       "Avg. Drawdown Duration        2 days 15:50:00\n",
       "# Trades                                   12\n",
       "Win Rate [%]                        33.333333\n",
       "Best Trade [%]                      12.816323\n",
       "Worst Trade [%]                     -16.48854\n",
       "Avg. Trade [%]                      -4.257758\n",
       "Max. Trade Duration          93 days 03:55:00\n",
       "Avg. Trade Duration          54 days 22:55:00\n",
       "Profit Factor                        0.440138\n",
       "Expectancy [%]                      -3.759218\n",
       "SQN                                 -1.380379\n",
       "_strategy                 MomentumTradingS...\n",
       "_equity_curve                             ...\n",
       "_trades                         Size  Entr...\n",
       "dtype: object"
      ]
     },
     "execution_count": 13,
     "metadata": {},
     "output_type": "execute_result"
    }
   ],
   "source": [
    "# momentun\n",
    "\n",
    "import pandas as pd\n",
    "from backtesting import Backtest, Strategy\n",
    "from backtesting.lib import crossover\n",
    "\n",
    "\n",
    "\n",
    "# Identificar patrones de velas (ejemplo: Engulfing Pattern)\n",
    "def is_bullish_engulfing(data):\n",
    "    return (data['Open'].shift(1) > data['Close'].shift(1)) & (data['Close'] > data['Open']) & (data['Close'] > data['Open'].shift(1)) & (data['Open'] < data['Close'].shift(1))\n",
    "\n",
    "def is_bearish_engulfing(data):\n",
    "    return (data['Open'].shift(1) < data['Close'].shift(1)) & (data['Close'] < data['Open']) & (data['Close'] < data['Open'].shift(1)) & (data['Open'] > data['Close'].shift(1))\n",
    "\n",
    "\n",
    "class MomentumTradingStrategy(Strategy):\n",
    "    def init(self):\n",
    "        # Inicializar indicadores\n",
    "        self.sma_short = self.I(SMA, self.data.Close, 20)\n",
    "        self.sma_long = self.I(SMA, self.data.Close, 50)\n",
    "        self.rsi = self.I(RSI, self.data.Close, 14)\n",
    "        # self.bullish_engulfing = self.I(is_bullish_engulfing, self.data)\n",
    "        # self.bearish_engulfing = self.I(is_bearish_engulfing, self.data)\n",
    "\n",
    "    def next(self):\n",
    "        if crossover(self.sma_short, self.sma_long) and self.rsi[-1] > 50 :#and self.bullish_engulfing[-1]:\n",
    "            self.buy()\n",
    "        elif crossover(self.sma_long, self.sma_short) and self.rsi[-1] < 50:# and self.bearish_engulfing[-1]:\n",
    "            self.sell()\n",
    "\n",
    "# Ejecutar el backtest\n",
    "bt = Backtest(data, MomentumTradingStrategy, cash=10000, commission=.002)\n",
    "stats = bt.run()\n",
    "stats\n",
    "\n"
   ]
  }
 ],
 "metadata": {
  "kernelspec": {
   "display_name": "Python 3",
   "language": "python",
   "name": "python3"
  },
  "language_info": {
   "codemirror_mode": {
    "name": "ipython",
    "version": 3
   },
   "file_extension": ".py",
   "mimetype": "text/x-python",
   "name": "python",
   "nbconvert_exporter": "python",
   "pygments_lexer": "ipython3",
   "version": "3.10.13"
  }
 },
 "nbformat": 4,
 "nbformat_minor": 2
}
