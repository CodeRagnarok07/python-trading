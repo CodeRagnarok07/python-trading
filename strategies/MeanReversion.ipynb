{
 "cells": [
  {
   "cell_type": "code",
   "execution_count": 1,
   "metadata": {},
   "outputs": [
    {
     "name": "stdout",
     "output_type": "stream",
     "text": [
      "Collecting backtesting\n",
      "  Downloading Backtesting-0.3.3.tar.gz (175 kB)\n",
      "\u001b[2K     \u001b[90m━━━━━━━━━━━━━━━━━━━━━━━━━━━━━━━━━━━━━━━\u001b[0m \u001b[32m175.5/175.5 kB\u001b[0m \u001b[31m3.8 MB/s\u001b[0m eta \u001b[36m0:00:00\u001b[0m00:01\u001b[0m\n",
      "\u001b[?25h  Installing build dependencies ... \u001b[?25ldone\n",
      "\u001b[?25h  Getting requirements to build wheel ... \u001b[?25ldone\n",
      "\u001b[?25h  Installing backend dependencies ... \u001b[?25ldone\n",
      "\u001b[?25h  Preparing metadata (pyproject.toml) ... \u001b[?25ldone\n",
      "\u001b[?25hRequirement already satisfied: pandas in /home/codespace/.local/lib/python3.10/site-packages (2.2.2)\n",
      "Requirement already satisfied: numpy in /home/codespace/.local/lib/python3.10/site-packages (1.26.4)\n",
      "Collecting bokeh>=1.4.0 (from backtesting)\n",
      "  Downloading bokeh-3.4.1-py3-none-any.whl.metadata (12 kB)\n",
      "Requirement already satisfied: python-dateutil>=2.8.2 in /home/codespace/.local/lib/python3.10/site-packages (from pandas) (2.9.0.post0)\n",
      "Requirement already satisfied: pytz>=2020.1 in /home/codespace/.local/lib/python3.10/site-packages (from pandas) (2024.1)\n",
      "Requirement already satisfied: tzdata>=2022.7 in /home/codespace/.local/lib/python3.10/site-packages (from pandas) (2024.1)\n",
      "Requirement already satisfied: Jinja2>=2.9 in /home/codespace/.local/lib/python3.10/site-packages (from bokeh>=1.4.0->backtesting) (3.1.4)\n",
      "Requirement already satisfied: contourpy>=1.2 in /home/codespace/.local/lib/python3.10/site-packages (from bokeh>=1.4.0->backtesting) (1.2.1)\n",
      "Requirement already satisfied: packaging>=16.8 in /home/codespace/.local/lib/python3.10/site-packages (from bokeh>=1.4.0->backtesting) (24.0)\n",
      "Requirement already satisfied: pillow>=7.1.0 in /home/codespace/.local/lib/python3.10/site-packages (from bokeh>=1.4.0->backtesting) (10.3.0)\n",
      "Requirement already satisfied: PyYAML>=3.10 in /home/codespace/.local/lib/python3.10/site-packages (from bokeh>=1.4.0->backtesting) (6.0.1)\n",
      "Requirement already satisfied: tornado>=6.2 in /home/codespace/.local/lib/python3.10/site-packages (from bokeh>=1.4.0->backtesting) (6.4)\n",
      "Collecting xyzservices>=2021.09.1 (from bokeh>=1.4.0->backtesting)\n",
      "  Downloading xyzservices-2024.6.0-py3-none-any.whl.metadata (4.0 kB)\n",
      "Requirement already satisfied: six>=1.5 in /home/codespace/.local/lib/python3.10/site-packages (from python-dateutil>=2.8.2->pandas) (1.16.0)\n",
      "Requirement already satisfied: MarkupSafe>=2.0 in /home/codespace/.local/lib/python3.10/site-packages (from Jinja2>=2.9->bokeh>=1.4.0->backtesting) (2.1.5)\n",
      "Downloading bokeh-3.4.1-py3-none-any.whl (7.0 MB)\n",
      "\u001b[2K   \u001b[90m━━━━━━━━━━━━━━━━━━━━━━━━━━━━━━━━━━━━━━━━\u001b[0m \u001b[32m7.0/7.0 MB\u001b[0m \u001b[31m58.3 MB/s\u001b[0m eta \u001b[36m0:00:00\u001b[0m:00:01\u001b[0m00:01\u001b[0m\n",
      "\u001b[?25hDownloading xyzservices-2024.6.0-py3-none-any.whl (83 kB)\n",
      "\u001b[2K   \u001b[90m━━━━━━━━━━━━━━━━━━━━━━━━━━━━━━━━━━━━━━━━\u001b[0m \u001b[32m83.9/83.9 kB\u001b[0m \u001b[31m2.6 MB/s\u001b[0m eta \u001b[36m0:00:00\u001b[0m\n",
      "\u001b[?25hBuilding wheels for collected packages: backtesting\n",
      "  Building wheel for backtesting (pyproject.toml) ... \u001b[?25ldone\n",
      "\u001b[?25h  Created wheel for backtesting: filename=Backtesting-0.3.3-py3-none-any.whl size=173916 sha256=a3ee44b36d7416a6c38a2ca06f8f42ff971413c38dacc4f8d56889053d113f70\n",
      "  Stored in directory: /home/codespace/.cache/pip/wheels/e2/30/7f/19cbe31987c6ebdb47f1f510343249066711609e3da2d57176\n",
      "Successfully built backtesting\n",
      "Installing collected packages: xyzservices, bokeh, backtesting\n",
      "Successfully installed backtesting-0.3.3 bokeh-3.4.1 xyzservices-2024.6.0\n",
      "Note: you may need to restart the kernel to use updated packages.\n"
     ]
    }
   ],
   "source": [
    "# Paso 1: Instalar Dependencias\n",
    "%pip install backtesting pandas numpy"
   ]
  },
  {
   "cell_type": "code",
   "execution_count": 1,
   "metadata": {},
   "outputs": [
    {
     "name": "stderr",
     "output_type": "stream",
     "text": [
      "/home/codespace/.python/current/lib/python3.10/site-packages/backtesting/test/__init__.py:8: FutureWarning: The argument 'infer_datetime_format' is deprecated and will be removed in a future version. A strict version of it is now the default, see https://pandas.pydata.org/pdeps/0004-consistent-to-datetime-parsing.html. You can safely remove this argument.\n",
      "  return pd.read_csv(join(dirname(__file__), filename),\n",
      "/home/codespace/.python/current/lib/python3.10/site-packages/backtesting/test/__init__.py:8: FutureWarning: The argument 'infer_datetime_format' is deprecated and will be removed in a future version. A strict version of it is now the default, see https://pandas.pydata.org/pdeps/0004-consistent-to-datetime-parsing.html. You can safely remove this argument.\n",
      "  return pd.read_csv(join(dirname(__file__), filename),\n"
     ]
    }
   ],
   "source": [
    "# Paso 2: Importar las Librerías Necesarias\n",
    "import pandas as pd\n",
    "import numpy as np\n",
    "from backtesting import Backtest, Strategy\n",
    "from backtesting.lib import crossover\n",
    "from backtesting.test import SMA, GOOG"
   ]
  },
  {
   "cell_type": "code",
   "execution_count": 2,
   "metadata": {},
   "outputs": [],
   "source": [
    "# Paso 3: Definir la Estrategia de Mean Reversion\n",
    "class MeanReversionStrategy(Strategy):\n",
    "    def init(self):\n",
    "        # Inicializa las Bandas de Bollinger\n",
    "        price = self.data.Close\n",
    "        self.ma = self.I(SMA, price, 20)  # Media Móvil Simple de 20 períodos\n",
    "        self.upper_band = self.ma + 2 * price.rolling(20).std()\n",
    "        self.lower_band = self.ma - 2 * price.rolling(20).std()\n",
    "\n",
    "    def next(self):\n",
    "        price = self.data.Close[-1]\n",
    "\n",
    "        # Señal de compra: el precio cruza por debajo de la banda inferior\n",
    "        if crossover(self.lower_band, price):\n",
    "            self.buy()\n",
    "\n",
    "        # Señal de venta: el precio cruza por encima de la banda superior\n",
    "        elif crossover(price, self.upper_band):\n",
    "            self.sell()\n"
   ]
  },
  {
   "cell_type": "code",
   "execution_count": 7,
   "metadata": {},
   "outputs": [],
   "source": [
    "# importar data \n",
    "\n",
    "datapath = '../backtesting/data/AAPL.csv'\n",
    "df = pd.read_csv(datapath, parse_dates=True, index_col=0, )\n",
    "# data = (df / 1e6).assign(Volume=df.Volume * 1e6)  # μBTC OHLC prices\n"
   ]
  },
  {
   "cell_type": "code",
   "execution_count": 8,
   "metadata": {},
   "outputs": [
    {
     "data": {
      "text/html": [
       "<div>\n",
       "<style scoped>\n",
       "    .dataframe tbody tr th:only-of-type {\n",
       "        vertical-align: middle;\n",
       "    }\n",
       "\n",
       "    .dataframe tbody tr th {\n",
       "        vertical-align: top;\n",
       "    }\n",
       "\n",
       "    .dataframe thead th {\n",
       "        text-align: right;\n",
       "    }\n",
       "</style>\n",
       "<table border=\"1\" class=\"dataframe\">\n",
       "  <thead>\n",
       "    <tr style=\"text-align: right;\">\n",
       "      <th></th>\n",
       "      <th>Open</th>\n",
       "      <th>High</th>\n",
       "      <th>Low</th>\n",
       "      <th>Close</th>\n",
       "      <th>Adj Close</th>\n",
       "      <th>Volume</th>\n",
       "    </tr>\n",
       "    <tr>\n",
       "      <th>Date</th>\n",
       "      <th></th>\n",
       "      <th></th>\n",
       "      <th></th>\n",
       "      <th></th>\n",
       "      <th></th>\n",
       "      <th></th>\n",
       "    </tr>\n",
       "  </thead>\n",
       "  <tbody>\n",
       "    <tr>\n",
       "      <th>2012-01-03</th>\n",
       "      <td>14.621429</td>\n",
       "      <td>14.732143</td>\n",
       "      <td>14.607143</td>\n",
       "      <td>14.686786</td>\n",
       "      <td>12.433824</td>\n",
       "      <td>302220800</td>\n",
       "    </tr>\n",
       "    <tr>\n",
       "      <th>2012-01-04</th>\n",
       "      <td>14.642857</td>\n",
       "      <td>14.810000</td>\n",
       "      <td>14.617143</td>\n",
       "      <td>14.765714</td>\n",
       "      <td>12.500646</td>\n",
       "      <td>260022000</td>\n",
       "    </tr>\n",
       "    <tr>\n",
       "      <th>2012-01-05</th>\n",
       "      <td>14.819643</td>\n",
       "      <td>14.948214</td>\n",
       "      <td>14.738214</td>\n",
       "      <td>14.929643</td>\n",
       "      <td>12.639424</td>\n",
       "      <td>271269600</td>\n",
       "    </tr>\n",
       "    <tr>\n",
       "      <th>2012-01-06</th>\n",
       "      <td>14.991786</td>\n",
       "      <td>15.098214</td>\n",
       "      <td>14.972143</td>\n",
       "      <td>15.085714</td>\n",
       "      <td>12.771558</td>\n",
       "      <td>318292800</td>\n",
       "    </tr>\n",
       "    <tr>\n",
       "      <th>2012-01-09</th>\n",
       "      <td>15.196429</td>\n",
       "      <td>15.276786</td>\n",
       "      <td>15.048214</td>\n",
       "      <td>15.061786</td>\n",
       "      <td>12.751302</td>\n",
       "      <td>394024400</td>\n",
       "    </tr>\n",
       "  </tbody>\n",
       "</table>\n",
       "</div>"
      ],
      "text/plain": [
       "                 Open       High        Low      Close  Adj Close     Volume\n",
       "Date                                                                        \n",
       "2012-01-03  14.621429  14.732143  14.607143  14.686786  12.433824  302220800\n",
       "2012-01-04  14.642857  14.810000  14.617143  14.765714  12.500646  260022000\n",
       "2012-01-05  14.819643  14.948214  14.738214  14.929643  12.639424  271269600\n",
       "2012-01-06  14.991786  15.098214  14.972143  15.085714  12.771558  318292800\n",
       "2012-01-09  15.196429  15.276786  15.048214  15.061786  12.751302  394024400"
      ]
     },
     "execution_count": 8,
     "metadata": {},
     "output_type": "execute_result"
    }
   ],
   "source": [
    "# df = pd.DataFrame(GOOG)\n",
    "# df.rename(columns={\"Open\": \"open\", \"High\": \"high\", \"Low\": \"low\", \"Close\": \"close\", \"Volume\": \"volume\"}, inplace=True)\n",
    "df.head()"
   ]
  },
  {
   "cell_type": "code",
   "execution_count": 9,
   "metadata": {},
   "outputs": [
    {
     "ename": "AttributeError",
     "evalue": "'_Array' object has no attribute 'rolling'",
     "output_type": "error",
     "traceback": [
      "\u001b[0;31m---------------------------------------------------------------------------\u001b[0m",
      "\u001b[0;31mAttributeError\u001b[0m                            Traceback (most recent call last)",
      "Cell \u001b[0;32mIn[9], line 2\u001b[0m\n\u001b[1;32m      1\u001b[0m bt \u001b[38;5;241m=\u001b[39m Backtest(df, MeanReversionStrategy, cash\u001b[38;5;241m=\u001b[39m\u001b[38;5;241m10000\u001b[39m, commission\u001b[38;5;241m=\u001b[39m\u001b[38;5;241m.002\u001b[39m)\n\u001b[0;32m----> 2\u001b[0m stats \u001b[38;5;241m=\u001b[39m \u001b[43mbt\u001b[49m\u001b[38;5;241;43m.\u001b[39;49m\u001b[43mrun\u001b[49m\u001b[43m(\u001b[49m\u001b[43m)\u001b[49m\n\u001b[1;32m      3\u001b[0m \u001b[38;5;28mprint\u001b[39m(stats)\n\u001b[1;32m      4\u001b[0m bt\u001b[38;5;241m.\u001b[39mplot()\n",
      "File \u001b[0;32m~/.python/current/lib/python3.10/site-packages/backtesting/backtesting.py:1139\u001b[0m, in \u001b[0;36mBacktest.run\u001b[0;34m(self, **kwargs)\u001b[0m\n\u001b[1;32m   1136\u001b[0m broker: _Broker \u001b[38;5;241m=\u001b[39m \u001b[38;5;28mself\u001b[39m\u001b[38;5;241m.\u001b[39m_broker(data\u001b[38;5;241m=\u001b[39mdata)\n\u001b[1;32m   1137\u001b[0m strategy: Strategy \u001b[38;5;241m=\u001b[39m \u001b[38;5;28mself\u001b[39m\u001b[38;5;241m.\u001b[39m_strategy(broker, data, kwargs)\n\u001b[0;32m-> 1139\u001b[0m \u001b[43mstrategy\u001b[49m\u001b[38;5;241;43m.\u001b[39;49m\u001b[43minit\u001b[49m\u001b[43m(\u001b[49m\u001b[43m)\u001b[49m\n\u001b[1;32m   1140\u001b[0m data\u001b[38;5;241m.\u001b[39m_update()  \u001b[38;5;66;03m# Strategy.init might have changed/added to data.df\u001b[39;00m\n\u001b[1;32m   1142\u001b[0m \u001b[38;5;66;03m# Indicators used in Strategy.next()\u001b[39;00m\n",
      "Cell \u001b[0;32mIn[2], line 7\u001b[0m, in \u001b[0;36mMeanReversionStrategy.init\u001b[0;34m(self)\u001b[0m\n\u001b[1;32m      5\u001b[0m price \u001b[38;5;241m=\u001b[39m \u001b[38;5;28mself\u001b[39m\u001b[38;5;241m.\u001b[39mdata\u001b[38;5;241m.\u001b[39mClose\n\u001b[1;32m      6\u001b[0m \u001b[38;5;28mself\u001b[39m\u001b[38;5;241m.\u001b[39mma \u001b[38;5;241m=\u001b[39m \u001b[38;5;28mself\u001b[39m\u001b[38;5;241m.\u001b[39mI(SMA, price, \u001b[38;5;241m20\u001b[39m)  \u001b[38;5;66;03m# Media Móvil Simple de 20 períodos\u001b[39;00m\n\u001b[0;32m----> 7\u001b[0m \u001b[38;5;28mself\u001b[39m\u001b[38;5;241m.\u001b[39mupper_band \u001b[38;5;241m=\u001b[39m \u001b[38;5;28mself\u001b[39m\u001b[38;5;241m.\u001b[39mma \u001b[38;5;241m+\u001b[39m \u001b[38;5;241m2\u001b[39m \u001b[38;5;241m*\u001b[39m \u001b[43mprice\u001b[49m\u001b[38;5;241;43m.\u001b[39;49m\u001b[43mrolling\u001b[49m(\u001b[38;5;241m20\u001b[39m)\u001b[38;5;241m.\u001b[39mstd()\n\u001b[1;32m      8\u001b[0m \u001b[38;5;28mself\u001b[39m\u001b[38;5;241m.\u001b[39mlower_band \u001b[38;5;241m=\u001b[39m \u001b[38;5;28mself\u001b[39m\u001b[38;5;241m.\u001b[39mma \u001b[38;5;241m-\u001b[39m \u001b[38;5;241m2\u001b[39m \u001b[38;5;241m*\u001b[39m price\u001b[38;5;241m.\u001b[39mrolling(\u001b[38;5;241m20\u001b[39m)\u001b[38;5;241m.\u001b[39mstd()\n",
      "\u001b[0;31mAttributeError\u001b[0m: '_Array' object has no attribute 'rolling'"
     ]
    }
   ],
   "source": [
    "bt = Backtest(df, MeanReversionStrategy, cash=10000, commission=.002)\n",
    "stats = bt.run()\n",
    "print(stats)\n",
    "bt.plot()"
   ]
  }
 ],
 "metadata": {
  "kernelspec": {
   "display_name": "Python 3",
   "language": "python",
   "name": "python3"
  },
  "language_info": {
   "codemirror_mode": {
    "name": "ipython",
    "version": 3
   },
   "file_extension": ".py",
   "mimetype": "text/x-python",
   "name": "python",
   "nbconvert_exporter": "python",
   "pygments_lexer": "ipython3",
   "version": "3.10.13"
  }
 },
 "nbformat": 4,
 "nbformat_minor": 2
}
